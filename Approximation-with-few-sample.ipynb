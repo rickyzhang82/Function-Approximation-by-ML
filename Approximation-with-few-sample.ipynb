{
 "cells": [
  {
   "cell_type": "markdown",
   "metadata": {},
   "source": [
    "# Approximate a simulated non-linear function"
   ]
  },
  {
   "cell_type": "markdown",
   "metadata": {},
   "source": [
    "# Task\n",
    "- Use fully connected network to approximate a simulated non-linear function"
   ]
  },
  {
   "cell_type": "markdown",
   "metadata": {},
   "source": [
    "## Data Exploration"
   ]
  },
  {
   "cell_type": "code",
   "execution_count": 1,
   "metadata": {},
   "outputs": [
    {
     "name": "stdout",
     "output_type": "stream",
     "text": [
      "(3, 2000)\n"
     ]
    }
   ],
   "source": [
    "file_name = '/src/data/function_approximation/xy_data.csv'\n",
    "\n",
    "import pandas as pd\n",
    "import numpy as np\n",
    "df = pd.read_csv(file_name, header=None)\n",
    "print(df.shape)"
   ]
  },
  {
   "cell_type": "code",
   "execution_count": 2,
   "metadata": {},
   "outputs": [
    {
     "name": "stdout",
     "output_type": "stream",
     "text": [
      "<class 'numpy.ndarray'>\n",
      "(2000, 3)\n",
      "[[-0.058929   0.16602    0.50408  ]\n",
      " [-0.63563   -0.63486   -0.9802   ]\n",
      " [-0.027678  -0.28429    0.99149  ]\n",
      " [ 0.0094964  0.73219   -0.68073  ]\n",
      " [ 0.79145   -0.2936     0.98416  ]]\n"
     ]
    }
   ],
   "source": [
    "np_vector = df.values.reshape((2000,3))\n",
    "print(type(np_vector))\n",
    "print(np_vector.shape)\n",
    "print(np_vector[:5])"
   ]
  },
  {
   "cell_type": "code",
   "execution_count": 22,
   "metadata": {},
   "outputs": [
    {
     "name": "stdout",
     "output_type": "stream",
     "text": [
      "min:-0.999760, max:0.997750, median:0.000000, mean:0.004571\n"
     ]
    },
    {
     "data": {
      "text/plain": [
       "(array([143., 122., 198., 133., 187., 568., 195., 170., 122., 162.]),\n",
       " array([-0.99976 , -0.800009, -0.600258, -0.400507, -0.200756, -0.001005,\n",
       "         0.198746,  0.398497,  0.598248,  0.797999,  0.99775 ]),\n",
       " <a list of 10 Patch objects>)"
      ]
     },
     "execution_count": 22,
     "metadata": {},
     "output_type": "execute_result"
    },
    {
     "data": {
      "image/png": "[encoded data removed]",
      "text/plain": [
       "<Figure size 432x288 with 1 Axes>"
      ]
     },
     "metadata": {
      "needs_background": "light"
     },
     "output_type": "display_data"
    }
   ],
   "source": [
    "%matplotlib inline\n",
    "import matplotlib.pyplot as plt\n",
    "tk = np_vector[:,2]\n",
    "print('min:%f, max:%f, median:%f, mean:%f' % (np.min(tk), np.max(tk), np.median(tk), np.mean(tk)))\n",
    "plt.hist(tk, bins=10)"
   ]
  },
  {
   "cell_type": "markdown",
   "metadata": {},
   "source": [
    "## Data Preparation"
   ]
  },
  {
   "cell_type": "code",
   "execution_count": 3,
   "metadata": {},
   "outputs": [
    {
     "name": "stdout",
     "output_type": "stream",
     "text": [
      "[[ 0.       0.      -0.17   ]\n",
      " [-0.81997 -0.67808 -0.643  ]\n",
      " [-0.59478  0.64252 -0.52569]\n",
      " [ 0.       0.       0.     ]\n",
      " [ 0.67119 -0.12055 -0.60731]]\n"
     ]
    }
   ],
   "source": [
    "# Let's shuffle it\n",
    "np.random.shuffle(np_vector)\n",
    "print(np_vector[:5])"
   ]
  },
  {
   "cell_type": "code",
   "execution_count": 4,
   "metadata": {},
   "outputs": [
    {
     "name": "stdout",
     "output_type": "stream",
     "text": [
      "input shape:(2000, 2)\n",
      "[[ 0.       0.     ]\n",
      " [-0.81997 -0.67808]\n",
      " [-0.59478  0.64252]\n",
      " [ 0.       0.     ]\n",
      " [ 0.67119 -0.12055]]\n",
      "output shape:(2000,)\n",
      "[-0.17    -0.643   -0.52569  0.      -0.60731]\n"
     ]
    }
   ],
   "source": [
    "# separate input and output\n",
    "input_vector = np_vector[:, :2]\n",
    "print('input shape:' + str(input_vector.shape))\n",
    "print(input_vector[:5])\n",
    "\n",
    "output_vecotr = np_vector[:, 2]\n",
    "print('output shape:' + str(output_vecotr.shape))\n",
    "print(output_vecotr[:5])"
   ]
  },
  {
   "cell_type": "code",
   "execution_count": 5,
   "metadata": {},
   "outputs": [
    {
     "name": "stdout",
     "output_type": "stream",
     "text": [
      "Total Size: 2000, Train Size: 1440, Validation Size: 160, Test Size: 400\n",
      "train_in shape:(1440, 2)\n"
     ]
    }
   ],
   "source": [
    "pct_training = 0.8\n",
    "pct_validation = 0.1\n",
    "\n",
    "# separate training and test data\n",
    "total_size = input_vector.shape[0]\n",
    "training_size = int(total_size * pct_training)\n",
    "test_size = total_size - training_size\n",
    "val_size = int(training_size * pct_validation)\n",
    "\n",
    "print('Total Size: %d, Train Size: %d, Validation Size: %d, Test Size: %d'\n",
    "      % (total_size, training_size - val_size, val_size, test_size))\n",
    "\n",
    "# slice data\n",
    "train_in = input_vector[:training_size]\n",
    "train_out = output_vecotr[:training_size]\n",
    "\n",
    "test_in = input_vector[training_size:]\n",
    "test_out = output_vecotr[training_size:]\n",
    "\n",
    "\n",
    "val_in = train_in[:val_size]\n",
    "val_out = train_out[:val_size]\n",
    "\n",
    "train_in = train_in[val_size:]\n",
    "train_out = train_out[val_size:]\n",
    "\n",
    "print('train_in shape:' + str(train_in.shape))\n"
   ]
  },
  {
   "cell_type": "markdown",
   "metadata": {},
   "source": [
    "# Model Construction"
   ]
  },
  {
   "cell_type": "code",
   "execution_count": 29,
   "metadata": {},
   "outputs": [],
   "source": [
    "from keras import models\n",
    "from keras import layers\n",
    "\n",
    "# construct model\n",
    "model = models.Sequential()\n",
    "model.add(layers.Dense(8, activation='relu', input_shape=(2,)))\n",
    "model.add(layers.Dense(1))\n",
    "\n",
    "# compile model with optimizer, loss function\n",
    "model.compile(optimizer='rmsprop',\n",
    "              loss='mean_squared_error',\n",
    "              metrics=['accuracy'])"
   ]
  },
  {
   "cell_type": "code",
   "execution_count": 30,
   "metadata": {},
   "outputs": [
    {
     "name": "stdout",
     "output_type": "stream",
     "text": [
      "Train on 1440 samples, validate on 160 samples\n",
      "Epoch 1/40\n",
      "1440/1440 [==============================] - 0s 188us/step - loss: 0.4008 - acc: 0.2083 - val_loss: 0.3243 - val_acc: 0.2500\n",
      "Epoch 2/40\n",
      "1440/1440 [==============================] - 0s 54us/step - loss: 0.3377 - acc: 0.2111 - val_loss: 0.2865 - val_acc: 0.2562\n",
      "Epoch 3/40\n",
      "1440/1440 [==============================] - 0s 49us/step - loss: 0.3016 - acc: 0.2132 - val_loss: 0.2663 - val_acc: 0.2625\n",
      "Epoch 4/40\n",
      "1440/1440 [==============================] - 0s 52us/step - loss: 0.2804 - acc: 0.2146 - val_loss: 0.2550 - val_acc: 0.2625\n",
      "Epoch 5/40\n",
      "1440/1440 [==============================] - 0s 48us/step - loss: 0.2684 - acc: 0.2153 - val_loss: 0.2491 - val_acc: 0.2625\n",
      "Epoch 6/40\n",
      "1440/1440 [==============================] - 0s 54us/step - loss: 0.2617 - acc: 0.2153 - val_loss: 0.2457 - val_acc: 0.2625\n",
      "Epoch 7/40\n",
      "1440/1440 [==============================] - 0s 51us/step - loss: 0.2584 - acc: 0.2153 - val_loss: 0.2433 - val_acc: 0.2625\n",
      "Epoch 8/40\n",
      "1440/1440 [==============================] - 0s 53us/step - loss: 0.2567 - acc: 0.2153 - val_loss: 0.2416 - val_acc: 0.2625\n",
      "Epoch 9/40\n",
      "1440/1440 [==============================] - 0s 53us/step - loss: 0.2553 - acc: 0.2153 - val_loss: 0.2402 - val_acc: 0.2625\n",
      "Epoch 10/40\n",
      "1440/1440 [==============================] - 0s 54us/step - loss: 0.2546 - acc: 0.2153 - val_loss: 0.2390 - val_acc: 0.2625\n",
      "Epoch 11/40\n",
      "1440/1440 [==============================] - 0s 52us/step - loss: 0.2540 - acc: 0.2153 - val_loss: 0.2378 - val_acc: 0.2625\n",
      "Epoch 12/40\n",
      "1440/1440 [==============================] - 0s 52us/step - loss: 0.2535 - acc: 0.2153 - val_loss: 0.2367 - val_acc: 0.2625\n",
      "Epoch 13/40\n",
      "1440/1440 [==============================] - 0s 51us/step - loss: 0.2533 - acc: 0.2153 - val_loss: 0.2359 - val_acc: 0.2625\n",
      "Epoch 14/40\n",
      "1440/1440 [==============================] - 0s 50us/step - loss: 0.2530 - acc: 0.2153 - val_loss: 0.2349 - val_acc: 0.2625\n",
      "Epoch 15/40\n",
      "1440/1440 [==============================] - 0s 51us/step - loss: 0.2527 - acc: 0.2153 - val_loss: 0.2345 - val_acc: 0.2625\n",
      "Epoch 16/40\n",
      "1440/1440 [==============================] - 0s 50us/step - loss: 0.2526 - acc: 0.2153 - val_loss: 0.2343 - val_acc: 0.2625\n",
      "Epoch 17/40\n",
      "1440/1440 [==============================] - 0s 55us/step - loss: 0.2526 - acc: 0.2153 - val_loss: 0.2338 - val_acc: 0.2625\n",
      "Epoch 18/40\n",
      "1440/1440 [==============================] - 0s 52us/step - loss: 0.2524 - acc: 0.2153 - val_loss: 0.2337 - val_acc: 0.2625\n",
      "Epoch 19/40\n",
      "1440/1440 [==============================] - 0s 52us/step - loss: 0.2523 - acc: 0.2153 - val_loss: 0.2331 - val_acc: 0.2625\n",
      "Epoch 20/40\n",
      "1440/1440 [==============================] - 0s 51us/step - loss: 0.2522 - acc: 0.2153 - val_loss: 0.2327 - val_acc: 0.2625\n",
      "Epoch 21/40\n",
      "1440/1440 [==============================] - 0s 56us/step - loss: 0.2522 - acc: 0.2153 - val_loss: 0.2326 - val_acc: 0.2625\n",
      "Epoch 22/40\n",
      "1440/1440 [==============================] - 0s 50us/step - loss: 0.2521 - acc: 0.2153 - val_loss: 0.2325 - val_acc: 0.2625\n",
      "Epoch 23/40\n",
      "1440/1440 [==============================] - 0s 49us/step - loss: 0.2521 - acc: 0.2153 - val_loss: 0.2325 - val_acc: 0.2625\n",
      "Epoch 24/40\n",
      "1440/1440 [==============================] - 0s 56us/step - loss: 0.2520 - acc: 0.2153 - val_loss: 0.2324 - val_acc: 0.2625\n",
      "Epoch 25/40\n",
      "1440/1440 [==============================] - 0s 51us/step - loss: 0.2520 - acc: 0.2153 - val_loss: 0.2322 - val_acc: 0.2625\n",
      "Epoch 26/40\n",
      "1440/1440 [==============================] - 0s 57us/step - loss: 0.2520 - acc: 0.2153 - val_loss: 0.2321 - val_acc: 0.2625\n",
      "Epoch 27/40\n",
      "1440/1440 [==============================] - 0s 52us/step - loss: 0.2518 - acc: 0.2153 - val_loss: 0.2321 - val_acc: 0.2625\n",
      "Epoch 28/40\n",
      "1440/1440 [==============================] - 0s 51us/step - loss: 0.2518 - acc: 0.2153 - val_loss: 0.2323 - val_acc: 0.2625\n",
      "Epoch 29/40\n",
      "1440/1440 [==============================] - 0s 54us/step - loss: 0.2519 - acc: 0.2153 - val_loss: 0.2320 - val_acc: 0.2625\n",
      "Epoch 30/40\n",
      "1440/1440 [==============================] - 0s 52us/step - loss: 0.2518 - acc: 0.2153 - val_loss: 0.2321 - val_acc: 0.2625\n",
      "Epoch 31/40\n",
      "1440/1440 [==============================] - 0s 53us/step - loss: 0.2518 - acc: 0.2153 - val_loss: 0.2320 - val_acc: 0.2625\n",
      "Epoch 32/40\n",
      "1440/1440 [==============================] - 0s 49us/step - loss: 0.2517 - acc: 0.2153 - val_loss: 0.2320 - val_acc: 0.2625\n",
      "Epoch 33/40\n",
      "1440/1440 [==============================] - 0s 52us/step - loss: 0.2517 - acc: 0.2153 - val_loss: 0.2319 - val_acc: 0.2625\n",
      "Epoch 34/40\n",
      "1440/1440 [==============================] - 0s 56us/step - loss: 0.2516 - acc: 0.2153 - val_loss: 0.2317 - val_acc: 0.2625\n",
      "Epoch 35/40\n",
      "1440/1440 [==============================] - 0s 50us/step - loss: 0.2517 - acc: 0.2153 - val_loss: 0.2317 - val_acc: 0.2625\n",
      "Epoch 36/40\n",
      "1440/1440 [==============================] - 0s 57us/step - loss: 0.2515 - acc: 0.2153 - val_loss: 0.2319 - val_acc: 0.2625\n",
      "Epoch 37/40\n",
      "1440/1440 [==============================] - 0s 53us/step - loss: 0.2515 - acc: 0.2153 - val_loss: 0.2318 - val_acc: 0.2625\n",
      "Epoch 38/40\n",
      "1440/1440 [==============================] - 0s 51us/step - loss: 0.2515 - acc: 0.2153 - val_loss: 0.2316 - val_acc: 0.2625\n",
      "Epoch 39/40\n",
      "1440/1440 [==============================] - 0s 46us/step - loss: 0.2515 - acc: 0.2153 - val_loss: 0.2316 - val_acc: 0.2625\n",
      "Epoch 40/40\n",
      "1440/1440 [==============================] - 0s 53us/step - loss: 0.2514 - acc: 0.2153 - val_loss: 0.2313 - val_acc: 0.2625\n"
     ]
    }
   ],
   "source": [
    "history = model.fit(train_in,\n",
    "                    train_out,\n",
    "                    epochs=40,\n",
    "                    batch_size=32,\n",
    "                    validation_data=(val_in, val_out))"
   ]
  },
  {
   "cell_type": "code",
   "execution_count": 31,
   "metadata": {},
   "outputs": [
    {
     "data": {
      "text/plain": [
       "dict_keys(['val_loss', 'val_acc', 'loss', 'acc'])"
      ]
     },
     "execution_count": 31,
     "metadata": {},
     "output_type": "execute_result"
    }
   ],
   "source": [
    "# check out history object\n",
    "history_dict = history.history\n",
    "history_dict.keys()"
   ]
  },
  {
   "cell_type": "code",
   "execution_count": 32,
   "metadata": {},
   "outputs": [
    {
     "data": {
      "image/png": "[encoded data removed]",
      "text/plain": [
       "<Figure size 432x288 with 1 Axes>"
      ]
     },
     "metadata": {
      "needs_background": "light"
     },
     "output_type": "display_data"
    }
   ],
   "source": [
    "%matplotlib inline\n",
    "import matplotlib.pyplot as plt\n",
    "\n",
    "acc = history.history['acc']\n",
    "val_acc = history.history['val_acc']\n",
    "loss = history.history['loss']\n",
    "val_loss = history.history['val_loss']\n",
    "\n",
    "epochs = range(1, len(acc) + 1)\n",
    "\n",
    "# \"bo\" is for \"blue dot\"\n",
    "plt.plot(epochs, loss, 'bo', label='Training loss')\n",
    "# b is for \"solid blue line\"\n",
    "plt.plot(epochs, val_loss, 'b', label='Validation loss')\n",
    "plt.title('Training and validation loss')\n",
    "plt.xlabel('Epochs')\n",
    "plt.ylabel('Loss')\n",
    "plt.legend()\n",
    "\n",
    "plt.show()"
   ]
  },
  {
   "cell_type": "code",
   "execution_count": 33,
   "metadata": {},
   "outputs": [
    {
     "data": {
      "image/png": "[encoded data removed]",
      "text/plain": [
       "<Figure size 432x288 with 1 Axes>"
      ]
     },
     "metadata": {
      "needs_background": "light"
     },
     "output_type": "display_data"
    }
   ],
   "source": [
    "plt.clf()   # clear figure\n",
    "plt.plot(epochs, acc, 'bo', label='Training acc')\n",
    "plt.plot(epochs, val_acc, 'b', label='Validation acc')\n",
    "plt.title('Training and validation accuracy')\n",
    "plt.xlabel('Epochs')\n",
    "plt.ylabel('Loss')\n",
    "plt.legend()\n",
    "\n",
    "plt.show()"
   ]
  },
  {
   "cell_type": "code",
   "execution_count": 34,
   "metadata": {},
   "outputs": [
    {
     "name": "stdout",
     "output_type": "stream",
     "text": [
      "400/400 [==============================] - 0s 122us/step\n"
     ]
    },
    {
     "data": {
      "text/plain": [
       "[0.24284163236618042, 0.2125]"
      ]
     },
     "execution_count": 34,
     "metadata": {},
     "output_type": "execute_result"
    }
   ],
   "source": [
    "# evaulate model with test data\n",
    "results = model.evaluate(test_in, test_out)\n",
    "results"
   ]
  },
  {
   "cell_type": "markdown",
   "metadata": {},
   "source": [
    "Accuracy in test data `21%`, loss `0.24` "
   ]
  },
  {
   "cell_type": "code",
   "execution_count": null,
   "metadata": {},
   "outputs": [],
   "source": []
  }
 ],
 "metadata": {
  "kernelspec": {
   "display_name": "Python 3",
   "language": "python",
   "name": "python3"
  },
  "language_info": {
   "codemirror_mode": {
    "name": "ipython",
    "version": 3
   },
   "file_extension": ".py",
   "mimetype": "text/x-python",
   "name": "python",
   "nbconvert_exporter": "python",
   "pygments_lexer": "ipython3",
   "version": "3.6.3"
  }
 },
 "nbformat": 4,
 "nbformat_minor": 2
}
