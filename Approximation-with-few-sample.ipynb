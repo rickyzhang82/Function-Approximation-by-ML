{
 "cells": [
  {
   "cell_type": "markdown",
   "metadata": {},
   "source": [
    "# Approximate a simulated non-linear function"
   ]
  },
  {
   "cell_type": "markdown",
   "metadata": {},
   "source": [
    "# Task\n",
    "- Use fully connected network to approximate a simulated non-linear function"
   ]
  },
  {
   "cell_type": "markdown",
   "metadata": {},
   "source": [
    "## Data Exploration"
   ]
  },
  {
   "cell_type": "code",
   "execution_count": 1,
   "metadata": {},
   "outputs": [
    {
     "name": "stdout",
     "output_type": "stream",
     "text": [
      "(3, 2000)\n"
     ]
    }
   ],
   "source": [
    "file_name = '/src/data/function_approximation/xy_data.csv'\n",
    "\n",
    "import pandas as pd\n",
    "import numpy as np\n",
    "df = pd.read_csv(file_name, header=None)\n",
    "print(df.shape)"
   ]
  },
  {
   "cell_type": "code",
   "execution_count": 28,
   "metadata": {},
   "outputs": [
    {
     "name": "stdout",
     "output_type": "stream",
     "text": [
      "<class 'numpy.ndarray'>\n",
      "(2000, 3)\n",
      "[[-0.058929   0.16602    0.50408  ]\n",
      " [-0.63563   -0.63486   -0.9802   ]\n",
      " [-0.027678  -0.28429    0.99149  ]\n",
      " [ 0.0094964  0.73219   -0.68073  ]\n",
      " [ 0.79145   -0.2936     0.98416  ]]\n"
     ]
    }
   ],
   "source": [
    "np_vector = df.values.reshape((2000,3))\n",
    "print(type(np_vector))\n",
    "print(np_vector.shape)\n",
    "print(np_vector[:5])"
   ]
  },
  {
   "cell_type": "code",
   "execution_count": 34,
   "metadata": {},
   "outputs": [
    {
     "name": "stdout",
     "output_type": "stream",
     "text": [
      "input 1\n",
      "min:-0.999010, max:0.997560, median:0.000000, mean:-0.003428, std:0.495501\n"
     ]
    },
    {
     "data": {
      "image/png": "[encoded data removed]",
      "text/plain": [
       "<Figure size 432x288 with 1 Axes>"
      ]
     },
     "metadata": {
      "needs_background": "light"
     },
     "output_type": "display_data"
    },
    {
     "name": "stdout",
     "output_type": "stream",
     "text": [
      "input 2\n",
      "min:-0.999790, max:0.999340, median:0.000000, mean:-0.008440, std:0.500581\n"
     ]
    },
    {
     "data": {
      "image/png": "[encoded data removed]",
      "text/plain": [
       "<Figure size 432x288 with 1 Axes>"
      ]
     },
     "metadata": {
      "needs_background": "light"
     },
     "output_type": "display_data"
    },
    {
     "name": "stdout",
     "output_type": "stream",
     "text": [
      "output\n",
      "min:-0.999760, max:0.997750, median:0.000000, mean:0.004571, std:0.497965\n"
     ]
    },
    {
     "data": {
      "image/png": "[encoded data removed]",
      "text/plain": [
       "<Figure size 432x288 with 1 Axes>"
      ]
     },
     "metadata": {
      "needs_background": "light"
     },
     "output_type": "display_data"
    }
   ],
   "source": [
    "%matplotlib inline\n",
    "import matplotlib.pyplot as plt\n",
    "\n",
    "x = np_vector[:, 0]\n",
    "y = np_vector[:, 1]\n",
    "tk = np_vector[:,2]\n",
    "\n",
    "def explore_vector(vector, message=None):\n",
    "    assert type(vector) is np.ndarray\n",
    "    assert vector.ndim == 1\n",
    "    if message is not None:\n",
    "        print(message)\n",
    "    print('min:%f, max:%f, median:%f, mean:%f, std:%f' \n",
    "          % (np.min(vector), np.max(vector), np.median(vector), np.mean(vector), np.std(vector)))\n",
    "    plt.hist(vector, bins='auto')\n",
    "    plt.show()\n",
    "\n",
    "explore_vector(x, \"input 1\")\n",
    "explore_vector(y, \"input 2\")\n",
    "explore_vector(tk, \"output\")"
   ]
  },
  {
   "cell_type": "markdown",
   "metadata": {},
   "source": [
    "## Data Preparation"
   ]
  },
  {
   "cell_type": "code",
   "execution_count": 4,
   "metadata": {},
   "outputs": [
    {
     "name": "stdout",
     "output_type": "stream",
     "text": [
      "[[ 0.        0.        0.83    ]\n",
      " [ 0.82962  -0.23973  -0.2907  ]\n",
      " [-0.36758   0.99934   0.42777 ]\n",
      " [-0.97369   0.92816   0.55388 ]\n",
      " [ 0.88658   0.088969 -0.051139]]\n"
     ]
    }
   ],
   "source": [
    "# Let's shuffle it\n",
    "np.random.shuffle(np_vector)\n",
    "print(np_vector[:5])"
   ]
  },
  {
   "cell_type": "code",
   "execution_count": 5,
   "metadata": {},
   "outputs": [
    {
     "name": "stdout",
     "output_type": "stream",
     "text": [
      "input shape:(2000, 2)\n",
      "[[ 0.        0.      ]\n",
      " [ 0.82962  -0.23973 ]\n",
      " [-0.36758   0.99934 ]\n",
      " [-0.97369   0.92816 ]\n",
      " [ 0.88658   0.088969]]\n",
      "output shape:(2000,)\n",
      "[ 0.83     -0.2907    0.42777   0.55388  -0.051139]\n"
     ]
    }
   ],
   "source": [
    "# separate input and output\n",
    "input_vector = np_vector[:, :2]\n",
    "print('input shape:' + str(input_vector.shape))\n",
    "print(input_vector[:5])\n",
    "\n",
    "output_vecotr = np_vector[:, 2]\n",
    "print('output shape:' + str(output_vecotr.shape))\n",
    "print(output_vecotr[:5])"
   ]
  },
  {
   "cell_type": "code",
   "execution_count": 6,
   "metadata": {},
   "outputs": [
    {
     "name": "stdout",
     "output_type": "stream",
     "text": [
      "Total Size: 2000, Train Size: 1620, Validation Size: 180, Test Size: 200\n",
      "train_in shape:(1620, 2)\n"
     ]
    }
   ],
   "source": [
    "pct_training = 0.9\n",
    "pct_validation = 0.1\n",
    "\n",
    "# separate training and test data\n",
    "total_size = input_vector.shape[0]\n",
    "training_size = int(total_size * pct_training)\n",
    "test_size = total_size - training_size\n",
    "val_size = int(training_size * pct_validation)\n",
    "\n",
    "print('Total Size: %d, Train Size: %d, Validation Size: %d, Test Size: %d'\n",
    "      % (total_size, training_size - val_size, val_size, test_size))\n",
    "\n",
    "# slice data\n",
    "train_in = input_vector[:training_size]\n",
    "train_out = output_vecotr[:training_size]\n",
    "\n",
    "test_in = input_vector[training_size:]\n",
    "test_out = output_vecotr[training_size:]\n",
    "\n",
    "\n",
    "val_in = train_in[:val_size]\n",
    "val_out = train_out[:val_size]\n",
    "\n",
    "train_in = train_in[val_size:]\n",
    "train_out = train_out[val_size:]\n",
    "\n",
    "print('train_in shape:' + str(train_in.shape))\n"
   ]
  },
  {
   "cell_type": "markdown",
   "metadata": {},
   "source": [
    "# Model Construction"
   ]
  },
  {
   "cell_type": "code",
   "execution_count": 13,
   "metadata": {},
   "outputs": [
    {
     "name": "stdout",
     "output_type": "stream",
     "text": [
      "_________________________________________________________________\n",
      "Layer (type)                 Output Shape              Param #   \n",
      "=================================================================\n",
      "dense_3 (Dense)              (None, 32)                96        \n",
      "_________________________________________________________________\n",
      "dense_4 (Dense)              (None, 32)                1056      \n",
      "_________________________________________________________________\n",
      "dense_5 (Dense)              (None, 32)                1056      \n",
      "_________________________________________________________________\n",
      "dense_6 (Dense)              (None, 32)                1056      \n",
      "_________________________________________________________________\n",
      "dense_7 (Dense)              (None, 16)                528       \n",
      "_________________________________________________________________\n",
      "dense_8 (Dense)              (None, 16)                272       \n",
      "_________________________________________________________________\n",
      "dense_9 (Dense)              (None, 16)                272       \n",
      "_________________________________________________________________\n",
      "dense_10 (Dense)             (None, 8)                 136       \n",
      "_________________________________________________________________\n",
      "dense_11 (Dense)             (None, 1)                 9         \n",
      "=================================================================\n",
      "Total params: 4,481\n",
      "Trainable params: 4,481\n",
      "Non-trainable params: 0\n",
      "_________________________________________________________________\n"
     ]
    }
   ],
   "source": [
    "from keras import models\n",
    "from keras import layers\n",
    "\n",
    "# construct model\n",
    "model = models.Sequential()\n",
    "model.add(layers.Dense(32, activation='relu', input_shape=(2,)))\n",
    "model.add(layers.Dense(32, activation='relu', input_shape=(2,)))\n",
    "model.add(layers.Dense(32, activation='relu', input_shape=(2,)))\n",
    "model.add(layers.Dense(32, activation='relu', input_shape=(2,)))\n",
    "model.add(layers.Dense(16, activation='relu', input_shape=(2,)))\n",
    "model.add(layers.Dense(16, activation='relu', input_shape=(2,)))\n",
    "model.add(layers.Dense(16, activation='relu', input_shape=(2,)))\n",
    "model.add(layers.Dense(8, activation='relu', input_shape=(2,)))\n",
    "model.add(layers.Dense(1))\n",
    "\n",
    "model.summary()\n",
    "# compile model with optimizer, loss function\n",
    "model.compile(optimizer='rmsprop',\n",
    "              loss='mean_squared_error',\n",
    "              metrics=['accuracy'])"
   ]
  },
  {
   "cell_type": "code",
   "execution_count": 14,
   "metadata": {},
   "outputs": [
    {
     "name": "stdout",
     "output_type": "stream",
     "text": [
      "Train on 1620 samples, validate on 180 samples\n",
      "Epoch 1/40\n",
      "1620/1620 [==============================] - 1s 312us/step - loss: 0.2443 - acc: 0.2154 - val_loss: 0.2686 - val_acc: 0.2667\n",
      "Epoch 2/40\n",
      "1620/1620 [==============================] - 0s 101us/step - loss: 0.2438 - acc: 0.2154 - val_loss: 0.2689 - val_acc: 0.2667\n",
      "Epoch 3/40\n",
      "1620/1620 [==============================] - 0s 99us/step - loss: 0.2443 - acc: 0.2154 - val_loss: 0.2684 - val_acc: 0.2667\n",
      "Epoch 4/40\n",
      "1620/1620 [==============================] - 0s 99us/step - loss: 0.2440 - acc: 0.2154 - val_loss: 0.2695 - val_acc: 0.2667\n",
      "Epoch 5/40\n",
      "1620/1620 [==============================] - 0s 103us/step - loss: 0.2443 - acc: 0.2154 - val_loss: 0.2694 - val_acc: 0.2667\n",
      "Epoch 6/40\n",
      "1620/1620 [==============================] - 0s 97us/step - loss: 0.2439 - acc: 0.2154 - val_loss: 0.2695 - val_acc: 0.2667\n",
      "Epoch 7/40\n",
      "1620/1620 [==============================] - 0s 110us/step - loss: 0.2440 - acc: 0.2154 - val_loss: 0.2692 - val_acc: 0.2667\n",
      "Epoch 8/40\n",
      "1620/1620 [==============================] - 0s 95us/step - loss: 0.2438 - acc: 0.2154 - val_loss: 0.2695 - val_acc: 0.2667\n",
      "Epoch 9/40\n",
      "1620/1620 [==============================] - 0s 106us/step - loss: 0.2440 - acc: 0.2154 - val_loss: 0.2687 - val_acc: 0.2667\n",
      "Epoch 10/40\n",
      "1620/1620 [==============================] - 0s 100us/step - loss: 0.2436 - acc: 0.2154 - val_loss: 0.2712 - val_acc: 0.2667\n",
      "Epoch 11/40\n",
      "1620/1620 [==============================] - 0s 103us/step - loss: 0.2441 - acc: 0.2154 - val_loss: 0.2682 - val_acc: 0.2667\n",
      "Epoch 12/40\n",
      "1620/1620 [==============================] - 0s 102us/step - loss: 0.2441 - acc: 0.2154 - val_loss: 0.2686 - val_acc: 0.2667\n",
      "Epoch 13/40\n",
      "1620/1620 [==============================] - 0s 94us/step - loss: 0.2438 - acc: 0.2154 - val_loss: 0.2687 - val_acc: 0.2667\n",
      "Epoch 14/40\n",
      "1620/1620 [==============================] - 0s 109us/step - loss: 0.2436 - acc: 0.2154 - val_loss: 0.2680 - val_acc: 0.2667\n",
      "Epoch 15/40\n",
      "1620/1620 [==============================] - 0s 92us/step - loss: 0.2436 - acc: 0.2154 - val_loss: 0.2688 - val_acc: 0.2667\n",
      "Epoch 16/40\n",
      "1620/1620 [==============================] - 0s 106us/step - loss: 0.2436 - acc: 0.2154 - val_loss: 0.2680 - val_acc: 0.2667\n",
      "Epoch 17/40\n",
      "1620/1620 [==============================] - 0s 99us/step - loss: 0.2436 - acc: 0.2154 - val_loss: 0.2680 - val_acc: 0.2667\n",
      "Epoch 18/40\n",
      "1620/1620 [==============================] - 0s 105us/step - loss: 0.2437 - acc: 0.2154 - val_loss: 0.2676 - val_acc: 0.2667\n",
      "Epoch 19/40\n",
      "1620/1620 [==============================] - 0s 103us/step - loss: 0.2434 - acc: 0.2154 - val_loss: 0.2688 - val_acc: 0.2667\n",
      "Epoch 20/40\n",
      "1620/1620 [==============================] - 0s 99us/step - loss: 0.2433 - acc: 0.2154 - val_loss: 0.2702 - val_acc: 0.2667\n",
      "Epoch 21/40\n",
      "1620/1620 [==============================] - 0s 108us/step - loss: 0.2436 - acc: 0.2154 - val_loss: 0.2685 - val_acc: 0.2667\n",
      "Epoch 22/40\n",
      "1620/1620 [==============================] - 0s 101us/step - loss: 0.2433 - acc: 0.2154 - val_loss: 0.2681 - val_acc: 0.2667\n",
      "Epoch 23/40\n",
      "1620/1620 [==============================] - 0s 103us/step - loss: 0.2434 - acc: 0.2154 - val_loss: 0.2692 - val_acc: 0.2667\n",
      "Epoch 24/40\n",
      "1620/1620 [==============================] - 0s 103us/step - loss: 0.2431 - acc: 0.2154 - val_loss: 0.2681 - val_acc: 0.2667\n",
      "Epoch 25/40\n",
      "1620/1620 [==============================] - 0s 105us/step - loss: 0.2435 - acc: 0.2154 - val_loss: 0.2694 - val_acc: 0.2667\n",
      "Epoch 26/40\n",
      "1620/1620 [==============================] - 0s 103us/step - loss: 0.2429 - acc: 0.2154 - val_loss: 0.2685 - val_acc: 0.2667\n",
      "Epoch 27/40\n",
      "1620/1620 [==============================] - 0s 111us/step - loss: 0.2437 - acc: 0.2154 - val_loss: 0.2683 - val_acc: 0.2667\n",
      "Epoch 28/40\n",
      "1620/1620 [==============================] - 0s 108us/step - loss: 0.2434 - acc: 0.2154 - val_loss: 0.2696 - val_acc: 0.2667\n",
      "Epoch 29/40\n",
      "1620/1620 [==============================] - 0s 105us/step - loss: 0.2430 - acc: 0.2154 - val_loss: 0.2700 - val_acc: 0.2667\n",
      "Epoch 30/40\n",
      "1620/1620 [==============================] - 0s 99us/step - loss: 0.2428 - acc: 0.2154 - val_loss: 0.2694 - val_acc: 0.2667\n",
      "Epoch 31/40\n",
      "1620/1620 [==============================] - 0s 105us/step - loss: 0.2429 - acc: 0.2154 - val_loss: 0.2690 - val_acc: 0.2667\n",
      "Epoch 32/40\n",
      "1620/1620 [==============================] - 0s 105us/step - loss: 0.2430 - acc: 0.2154 - val_loss: 0.2701 - val_acc: 0.2667\n",
      "Epoch 33/40\n",
      "1620/1620 [==============================] - 0s 99us/step - loss: 0.2430 - acc: 0.2154 - val_loss: 0.2694 - val_acc: 0.2667\n",
      "Epoch 34/40\n",
      "1620/1620 [==============================] - 0s 100us/step - loss: 0.2431 - acc: 0.2154 - val_loss: 0.2701 - val_acc: 0.2667\n",
      "Epoch 35/40\n",
      "1620/1620 [==============================] - 0s 96us/step - loss: 0.2429 - acc: 0.2154 - val_loss: 0.2689 - val_acc: 0.2667\n",
      "Epoch 36/40\n",
      "1620/1620 [==============================] - 0s 107us/step - loss: 0.2424 - acc: 0.2154 - val_loss: 0.2713 - val_acc: 0.2667\n",
      "Epoch 37/40\n",
      "1620/1620 [==============================] - 0s 98us/step - loss: 0.2431 - acc: 0.2154 - val_loss: 0.2692 - val_acc: 0.2667\n",
      "Epoch 38/40\n",
      "1620/1620 [==============================] - 0s 102us/step - loss: 0.2424 - acc: 0.2154 - val_loss: 0.2696 - val_acc: 0.2667\n",
      "Epoch 39/40\n",
      "1620/1620 [==============================] - 0s 114us/step - loss: 0.2429 - acc: 0.2154 - val_loss: 0.2704 - val_acc: 0.2667\n",
      "Epoch 40/40\n",
      "1620/1620 [==============================] - 0s 98us/step - loss: 0.2428 - acc: 0.2154 - val_loss: 0.2689 - val_acc: 0.2667\n"
     ]
    }
   ],
   "source": [
    "history = model.fit(train_in,\n",
    "                    train_out,\n",
    "                    epochs=40,\n",
    "                    batch_size=32,\n",
    "                    validation_data=(val_in, val_out))"
   ]
  },
  {
   "cell_type": "code",
   "execution_count": 15,
   "metadata": {},
   "outputs": [
    {
     "data": {
      "text/plain": [
       "dict_keys(['val_loss', 'val_acc', 'loss', 'acc'])"
      ]
     },
     "execution_count": 15,
     "metadata": {},
     "output_type": "execute_result"
    }
   ],
   "source": [
    "# check out history object\n",
    "history_dict = history.history\n",
    "history_dict.keys()"
   ]
  },
  {
   "cell_type": "code",
   "execution_count": 16,
   "metadata": {},
   "outputs": [
    {
     "data": {
      "image/png": "[encoded data removed]",
      "text/plain": [
       "<Figure size 432x288 with 1 Axes>"
      ]
     },
     "metadata": {
      "needs_background": "light"
     },
     "output_type": "display_data"
    }
   ],
   "source": [
    "%matplotlib inline\n",
    "import matplotlib.pyplot as plt\n",
    "\n",
    "acc = history.history['acc']\n",
    "val_acc = history.history['val_acc']\n",
    "loss = history.history['loss']\n",
    "val_loss = history.history['val_loss']\n",
    "\n",
    "epochs = range(1, len(acc) + 1)\n",
    "\n",
    "# \"bo\" is for \"blue dot\"\n",
    "plt.plot(epochs, loss, 'bo', label='Training loss')\n",
    "# b is for \"solid blue line\"\n",
    "plt.plot(epochs, val_loss, 'b', label='Validation loss')\n",
    "plt.title('Training and validation loss')\n",
    "plt.xlabel('Epochs')\n",
    "plt.ylabel('Loss')\n",
    "plt.legend()\n",
    "\n",
    "plt.show()"
   ]
  },
  {
   "cell_type": "code",
   "execution_count": 17,
   "metadata": {},
   "outputs": [
    {
     "data": {
      "image/png": "[encoded data removed]",
      "text/plain": [
       "<Figure size 432x288 with 1 Axes>"
      ]
     },
     "metadata": {
      "needs_background": "light"
     },
     "output_type": "display_data"
    }
   ],
   "source": [
    "plt.clf()   # clear figure\n",
    "plt.plot(epochs, acc, 'bo', label='Training acc')\n",
    "plt.plot(epochs, val_acc, 'b', label='Validation acc')\n",
    "plt.title('Training and validation accuracy')\n",
    "plt.xlabel('Epochs')\n",
    "plt.ylabel('Loss')\n",
    "plt.legend()\n",
    "\n",
    "plt.show()"
   ]
  },
  {
   "cell_type": "code",
   "execution_count": 18,
   "metadata": {},
   "outputs": [
    {
     "name": "stdout",
     "output_type": "stream",
     "text": [
      "200/200 [==============================] - 0s 34us/step\n"
     ]
    },
    {
     "data": {
      "text/plain": [
       "[0.2630823123455048, 0.2]"
      ]
     },
     "execution_count": 18,
     "metadata": {},
     "output_type": "execute_result"
    }
   ],
   "source": [
    "# evaulate model with test data\n",
    "results = model.evaluate(test_in, test_out)\n",
    "results"
   ]
  },
  {
   "cell_type": "markdown",
   "metadata": {},
   "source": [
    "Accuracy in test data `21%`, loss `0.24` "
   ]
  },
  {
   "cell_type": "code",
   "execution_count": null,
   "metadata": {},
   "outputs": [],
   "source": []
  }
 ],
 "metadata": {
  "kernelspec": {
   "display_name": "Python 3",
   "language": "python",
   "name": "python3"
  },
  "language_info": {
   "codemirror_mode": {
    "name": "ipython",
    "version": 3
   },
   "file_extension": ".py",
   "mimetype": "text/x-python",
   "name": "python",
   "nbconvert_exporter": "python",
   "pygments_lexer": "ipython3",
   "version": "3.6.3"
  }
 },
 "nbformat": 4,
 "nbformat_minor": 2
}
