{
 "cells": [
  {
   "cell_type": "markdown",
   "metadata": {},
   "source": [
    "# Approximate a simulated non-linear function"
   ]
  },
  {
   "cell_type": "markdown",
   "metadata": {},
   "source": [
    "# Task\n",
    "- Use fully connected network to approximate a simulated non-linear function"
   ]
  },
  {
   "cell_type": "markdown",
   "metadata": {},
   "source": [
    "## Data Exploration"
   ]
  },
  {
   "cell_type": "code",
   "execution_count": 1,
   "metadata": {},
   "outputs": [
    {
     "name": "stdout",
     "output_type": "stream",
     "text": [
      "(3, 2000)\n"
     ]
    }
   ],
   "source": [
    "file_name = '/src/data/function_approximation/xy_data.csv'\n",
    "\n",
    "import pandas as pd\n",
    "import numpy as np\n",
    "df = pd.read_csv(file_name, header=None)\n",
    "print(df.shape)"
   ]
  },
  {
   "cell_type": "code",
   "execution_count": 2,
   "metadata": {},
   "outputs": [
    {
     "name": "stdout",
     "output_type": "stream",
     "text": [
      "<class 'numpy.ndarray'>\n",
      "(2000, 3)\n",
      "[[-0.058929   0.06417    0.33     ]\n",
      " [ 0.16602   -0.0084448  0.33     ]\n",
      " [ 0.50408    0.098609   0.5      ]\n",
      " [-0.63563    0.97851    0.       ]\n",
      " [-0.63486    0.92308    0.       ]]\n"
     ]
    }
   ],
   "source": [
    "np_vector = df.values.transpose()\n",
    "print(type(np_vector))\n",
    "print(np_vector.shape)\n",
    "print(np_vector[:5])"
   ]
  },
  {
   "cell_type": "code",
   "execution_count": 3,
   "metadata": {},
   "outputs": [
    {
     "name": "stdout",
     "output_type": "stream",
     "text": [
      "min:-0.999560, max:0.997750, median:-0.036787, mean:-0.033911, std:0.581712, size:2000\n"
     ]
    },
    {
     "data": {
      "image/png": "[encoded data removed]",
      "text/plain": [
       "<Figure size 432x288 with 1 Axes>"
      ]
     },
     "metadata": {
      "needs_background": "light"
     },
     "output_type": "display_data"
    },
    {
     "name": "stdout",
     "output_type": "stream",
     "text": [
      "min:-0.999790, max:0.999340, median:-0.008641, mean:-0.007416, std:0.577141, size:2000\n"
     ]
    },
    {
     "data": {
      "image/png": "[encoded data removed]",
      "text/plain": [
       "<Figure size 432x288 with 1 Axes>"
      ]
     },
     "metadata": {
      "needs_background": "light"
     },
     "output_type": "display_data"
    },
    {
     "name": "stdout",
     "output_type": "stream",
     "text": [
      "min:-0.500000, max:0.830000, median:0.000000, mean:0.034030, std:0.265202, size:2000\n"
     ]
    },
    {
     "data": {
      "image/png": "[encoded data removed]",
      "text/plain": [
       "<Figure size 432x288 with 1 Axes>"
      ]
     },
     "metadata": {
      "needs_background": "light"
     },
     "output_type": "display_data"
    }
   ],
   "source": [
    "%matplotlib inline\n",
    "import matplotlib.pyplot as plt\n",
    "\n",
    "x = np_vector[:, 0]\n",
    "y = np_vector[:, 1]\n",
    "tk = np_vector[:,2]\n",
    "\n",
    "def explore_vector(vector, title=None):\n",
    "    assert type(vector) is np.ndarray\n",
    "    assert vector.ndim == 1\n",
    "    print('min:%f, max:%f, median:%f, mean:%f, std:%f, size:%d' \n",
    "          % (np.min(vector), np.max(vector), np.median(vector), np.mean(vector), np.std(vector), vector.size))\n",
    "    plt.title(title)\n",
    "    plt.hist(vector, bins='auto')\n",
    "    plt.show()\n",
    "\n",
    "explore_vector(x, \"input 1\")\n",
    "explore_vector(y, \"input 2\")\n",
    "explore_vector(tk, \"output\")"
   ]
  },
  {
   "cell_type": "markdown",
   "metadata": {},
   "source": [
    "## Data Preparation"
   ]
  },
  {
   "cell_type": "code",
   "execution_count": 4,
   "metadata": {},
   "outputs": [
    {
     "name": "stdout",
     "output_type": "stream",
     "text": [
      "[[-0.7104   -0.58861   0.      ]\n",
      " [ 0.53067   0.98274   0.      ]\n",
      " [-0.88407   0.80603   0.      ]\n",
      " [ 0.88137  -0.20629   0.      ]\n",
      " [ 0.038365  0.92506  -0.5     ]]\n"
     ]
    }
   ],
   "source": [
    "# Let's shuffle it\n",
    "np.random.shuffle(np_vector)\n",
    "print(np_vector[:5])"
   ]
  },
  {
   "cell_type": "code",
   "execution_count": null,
   "metadata": {},
   "outputs": [
    {
     "name": "stdout",
     "output_type": "stream",
     "text": [
      "input shape:(2000, 2)\n",
      "[[-0.7104   -0.58861 ]\n",
      " [ 0.53067   0.98274 ]\n",
      " [-0.88407   0.80603 ]\n",
      " [ 0.88137  -0.20629 ]\n",
      " [ 0.038365  0.92506 ]]\n",
      "output shape:(2000,)\n",
      "[ 0.   0.   0.   0.  -0.5]\n"
     ]
    }
   ],
   "source": [
    "# separate input and output\n",
    "input_vector = np_vector[:, :2]\n",
    "print('input shape:' + str(input_vector.shape))\n",
    "print(input_vector[:5])\n",
    "\n",
    "output_vecotr = np_vector[:, 2]\n",
    "print('output shape:' + str(output_vecotr.shape))\n",
    "print(output_vecotr[:5])"
   ]
  },
  {
   "cell_type": "code",
   "execution_count": null,
   "metadata": {},
   "outputs": [
    {
     "name": "stdout",
     "output_type": "stream",
     "text": [
      "Total Size: 2000, Train Size: 1620, Validation Size: 180, Test Size: 200\n",
      "train_in shape:(1620, 2)\n"
     ]
    }
   ],
   "source": [
    "pct_training = 0.9\n",
    "pct_validation = 0.1\n",
    "\n",
    "# separate training and test data\n",
    "total_size = input_vector.shape[0]\n",
    "training_size = int(total_size * pct_training)\n",
    "test_size = total_size - training_size\n",
    "val_size = int(training_size * pct_validation)\n",
    "\n",
    "print('Total Size: %d, Train Size: %d, Validation Size: %d, Test Size: %d'\n",
    "      % (total_size, training_size - val_size, val_size, test_size))\n",
    "\n",
    "# slice data\n",
    "train_in = input_vector[:training_size]\n",
    "train_out = output_vecotr[:training_size]\n",
    "\n",
    "test_in = input_vector[training_size:]\n",
    "test_out = output_vecotr[training_size:]\n",
    "\n",
    "\n",
    "val_in = train_in[:val_size]\n",
    "val_out = train_out[:val_size]\n",
    "\n",
    "train_in = train_in[val_size:]\n",
    "train_out = train_out[val_size:]\n",
    "\n",
    "print('train_in shape:' + str(train_in.shape))\n"
   ]
  },
  {
   "cell_type": "markdown",
   "metadata": {},
   "source": [
    "# Model Construction"
   ]
  },
  {
   "cell_type": "code",
   "execution_count": null,
   "metadata": {},
   "outputs": [
    {
     "name": "stderr",
     "output_type": "stream",
     "text": [
      "Using TensorFlow backend.\n"
     ]
    },
    {
     "name": "stdout",
     "output_type": "stream",
     "text": [
      "_________________________________________________________________\n",
      "Layer (type)                 Output Shape              Param #   \n",
      "=================================================================\n",
      "dense_1 (Dense)              (None, 32)                96        \n",
      "_________________________________________________________________\n",
      "dense_2 (Dense)              (None, 32)                1056      \n",
      "_________________________________________________________________\n",
      "dense_3 (Dense)              (None, 32)                1056      \n",
      "_________________________________________________________________\n",
      "dense_4 (Dense)              (None, 32)                1056      \n",
      "_________________________________________________________________\n",
      "dense_5 (Dense)              (None, 16)                528       \n",
      "_________________________________________________________________\n",
      "dense_6 (Dense)              (None, 16)                272       \n",
      "_________________________________________________________________\n",
      "dense_7 (Dense)              (None, 16)                272       \n",
      "_________________________________________________________________\n",
      "dense_8 (Dense)              (None, 8)                 136       \n",
      "_________________________________________________________________\n",
      "dense_9 (Dense)              (None, 1)                 9         \n",
      "=================================================================\n",
      "Total params: 4,481\n",
      "Trainable params: 4,481\n",
      "Non-trainable params: 0\n",
      "_________________________________________________________________\n"
     ]
    }
   ],
   "source": [
    "from keras import models\n",
    "from keras import layers\n",
    "\n",
    "# construct model\n",
    "model = models.Sequential()\n",
    "model.add(layers.Dense(32, activation='relu', input_shape=(2,)))\n",
    "model.add(layers.Dense(32, activation='relu', input_shape=(2,)))\n",
    "model.add(layers.Dense(32, activation='relu', input_shape=(2,)))\n",
    "model.add(layers.Dense(32, activation='relu', input_shape=(2,)))\n",
    "model.add(layers.Dense(16, activation='relu', input_shape=(2,)))\n",
    "model.add(layers.Dense(16, activation='relu', input_shape=(2,)))\n",
    "model.add(layers.Dense(16, activation='relu', input_shape=(2,)))\n",
    "model.add(layers.Dense(8, activation='relu', input_shape=(2,)))\n",
    "model.add(layers.Dense(1))\n",
    "\n",
    "model.summary()\n",
    "\n",
    "# custom metrics\n",
    "import keras.backend as K\n",
    "\n",
    "def max_diff(y_true, y_pred):\n",
    "    return K.max(K.abs(y_pred-y_true))\n",
    "\n",
    "def min_diff(y_true, y_pred):\n",
    "    return K.min(K.abs(y_pred-y_true))\n",
    "\n",
    "# compile model with optimizer, loss function\n",
    "model.compile(optimizer='rmsprop',\n",
    "              loss='mean_squared_error',\n",
    "              metrics=[max_diff, min_diff])"
   ]
  },
  {
   "cell_type": "code",
   "execution_count": null,
   "metadata": {},
   "outputs": [
    {
     "name": "stdout",
     "output_type": "stream",
     "text": [
      "Train on 1620 samples, validate on 180 samples\n",
      "Epoch 1/100\n",
      "1620/1620 [==============================] - 2s 1ms/step - loss: 0.0637 - max_diff: 0.6851 - min_diff: 0.0065 - val_loss: 0.0492 - val_max_diff: 0.5678 - val_min_diff: 2.1721e-04\n",
      "Epoch 2/100\n",
      "1620/1620 [==============================] - 0s 192us/step - loss: 0.0487 - max_diff: 0.5584 - min_diff: 0.0045 - val_loss: 0.0381 - val_max_diff: 0.4508 - val_min_diff: 0.0195\n",
      "Epoch 3/100\n",
      "1620/1620 [==============================] - 0s 207us/step - loss: 0.0391 - max_diff: 0.4680 - min_diff: 0.0083 - val_loss: 0.0377 - val_max_diff: 0.4714 - val_min_diff: 0.0120\n",
      "Epoch 4/100\n",
      "1620/1620 [==============================] - 0s 204us/step - loss: 0.0351 - max_diff: 0.4388 - min_diff: 0.0094 - val_loss: 0.0312 - val_max_diff: 0.4250 - val_min_diff: 0.0058\n",
      "Epoch 5/100\n",
      "1620/1620 [==============================] - 0s 211us/step - loss: 0.0342 - max_diff: 0.4500 - min_diff: 0.0057 - val_loss: 0.0285 - val_max_diff: 0.4126 - val_min_diff: 0.0039\n",
      "Epoch 6/100\n",
      "1620/1620 [==============================] - 0s 198us/step - loss: 0.0316 - max_diff: 0.4294 - min_diff: 0.0045 - val_loss: 0.0363 - val_max_diff: 0.5006 - val_min_diff: 0.0032\n",
      "Epoch 7/100\n",
      "1620/1620 [==============================] - 0s 202us/step - loss: 0.0301 - max_diff: 0.4179 - min_diff: 0.0046 - val_loss: 0.0269 - val_max_diff: 0.4030 - val_min_diff: 0.0043\n",
      "Epoch 8/100\n",
      "1620/1620 [==============================] - 0s 191us/step - loss: 0.0280 - max_diff: 0.4097 - min_diff: 0.0044 - val_loss: 0.0241 - val_max_diff: 0.3774 - val_min_diff: 0.0054\n",
      "Epoch 9/100\n",
      "1620/1620 [==============================] - 0s 202us/step - loss: 0.0266 - max_diff: 0.4107 - min_diff: 0.0035 - val_loss: 0.0228 - val_max_diff: 0.3437 - val_min_diff: 0.0062\n",
      "Epoch 10/100\n",
      "1620/1620 [==============================] - 0s 203us/step - loss: 0.0253 - max_diff: 0.3992 - min_diff: 0.0046 - val_loss: 0.0215 - val_max_diff: 0.3588 - val_min_diff: 0.0041\n",
      "Epoch 11/100\n",
      "1620/1620 [==============================] - 0s 207us/step - loss: 0.0235 - max_diff: 0.3850 - min_diff: 0.0037 - val_loss: 0.0227 - val_max_diff: 0.3793 - val_min_diff: 0.0043\n",
      "Epoch 12/100\n",
      "1620/1620 [==============================] - 0s 208us/step - loss: 0.0212 - max_diff: 0.3741 - min_diff: 0.0031 - val_loss: 0.0249 - val_max_diff: 0.3642 - val_min_diff: 0.0060\n",
      "Epoch 13/100\n",
      "1620/1620 [==============================] - 0s 202us/step - loss: 0.0200 - max_diff: 0.3656 - min_diff: 0.0042 - val_loss: 0.0232 - val_max_diff: 0.3770 - val_min_diff: 0.0191\n",
      "Epoch 14/100\n",
      "1620/1620 [==============================] - 0s 190us/step - loss: 0.0179 - max_diff: 0.3622 - min_diff: 0.0021 - val_loss: 0.0135 - val_max_diff: 0.2884 - val_min_diff: 0.0032\n",
      "Epoch 15/100\n",
      "1620/1620 [==============================] - 0s 187us/step - loss: 0.0166 - max_diff: 0.3459 - min_diff: 0.0032 - val_loss: 0.0153 - val_max_diff: 0.3136 - val_min_diff: 0.0018\n",
      "Epoch 16/100\n",
      "1216/1620 [=====================>........] - ETA: 0s - loss: 0.0164 - max_diff: 0.3429 - min_diff: 0.0023"
     ]
    }
   ],
   "source": [
    "history = model.fit(train_in,\n",
    "                    train_out,\n",
    "                    epochs=100,\n",
    "                    batch_size=32,\n",
    "                    validation_data=(val_in, val_out))"
   ]
  },
  {
   "cell_type": "code",
   "execution_count": null,
   "metadata": {},
   "outputs": [],
   "source": [
    "# check out history object\n",
    "history_dict = history.history\n",
    "history_dict.keys()"
   ]
  },
  {
   "cell_type": "code",
   "execution_count": null,
   "metadata": {},
   "outputs": [],
   "source": [
    "%matplotlib inline\n",
    "import matplotlib.pyplot as plt\n",
    "\n",
    "loss = history.history['loss']\n",
    "val_loss = history.history['val_loss']\n",
    "\n",
    "max_diff = history.history['max_diff']\n",
    "val_max_diff = history.history['val_max_diff']\n",
    "\n",
    "min_diff = history.history['min_diff']\n",
    "val_min_diff = history.history['val_min_diff']\n",
    "\n",
    "epochs = range(1, len(loss) + 1)\n",
    "\n",
    "# \"bo\" is for \"blue dot\"\n",
    "plt.plot(epochs, loss, 'bo', label='Training loss')\n",
    "# b is for \"solid blue line\"\n",
    "plt.plot(epochs, val_loss, 'r', label='Validation loss')\n",
    "plt.title('Training and validation loss')\n",
    "plt.xlabel('Epochs')\n",
    "plt.ylabel('Loss')\n",
    "plt.legend()\n",
    "\n",
    "plt.show()"
   ]
  },
  {
   "cell_type": "code",
   "execution_count": null,
   "metadata": {},
   "outputs": [],
   "source": [
    "plt.clf()   # clear figure\n",
    "plt.plot(epochs, max_diff, 'bo', label='Training max abs diff')\n",
    "plt.plot(epochs, val_max_diff, 'r', label='Validation max abs diff')\n",
    "plt.title('Training and Validation - Maximum Absolute Diff')\n",
    "plt.xlabel('Epochs')\n",
    "plt.ylabel('Abs Diff')\n",
    "plt.legend()\n",
    "\n",
    "plt.show()"
   ]
  },
  {
   "cell_type": "code",
   "execution_count": null,
   "metadata": {},
   "outputs": [],
   "source": [
    "plt.clf()   # clear figure\n",
    "plt.plot(epochs, min_diff, 'bo', label='Training min abs diff')\n",
    "plt.plot(epochs, val_min_diff, 'r', label='Validation min abs diff')\n",
    "plt.title('Training and Validation - Min Absolute Diff')\n",
    "plt.xlabel('Epochs')\n",
    "plt.ylabel('Abs diff')\n",
    "plt.legend()\n",
    "\n",
    "plt.show()"
   ]
  },
  {
   "cell_type": "markdown",
   "metadata": {},
   "source": [
    "## Model Evaluation"
   ]
  },
  {
   "cell_type": "code",
   "execution_count": null,
   "metadata": {},
   "outputs": [],
   "source": [
    "# evaulate model with test data\n",
    "results = model.evaluate(test_in, test_out)\n",
    "results"
   ]
  },
  {
   "cell_type": "code",
   "execution_count": null,
   "metadata": {},
   "outputs": [],
   "source": [
    "pre_test_out = model.predict(test_in)\n",
    "pre_test_out = pre_test_out.flatten()"
   ]
  },
  {
   "cell_type": "code",
   "execution_count": null,
   "metadata": {},
   "outputs": [],
   "source": [
    "explore_vector(pre_test_out, 'Predicted Test Data Output')"
   ]
  },
  {
   "cell_type": "code",
   "execution_count": null,
   "metadata": {},
   "outputs": [],
   "source": [
    "explore_vector(test_out, 'Test Data Output')"
   ]
  },
  {
   "cell_type": "code",
   "execution_count": null,
   "metadata": {},
   "outputs": [],
   "source": [
    "plt.clf()   # clear figure\n",
    "NUM_PLOT = 50\n",
    "plt.plot(pre_test_out[:NUM_PLOT], 'bo', label='predicted test out')\n",
    "plt.plot(test_out[:NUM_PLOT], 'ro', label='test out')\n",
    "plt.title('Output Prediction Comparison')\n",
    "plt.xlabel('Index')\n",
    "plt.ylabel('Value')\n",
    "plt.legend()\n",
    "#plt.rcParams['figure.figsize'] = [20, 20]\n",
    "#plt.figure(figsize=(20, 20), dpi= 20)\n",
    "plt.show()"
   ]
  },
  {
   "cell_type": "code",
   "execution_count": null,
   "metadata": {},
   "outputs": [],
   "source": [
    "abs_diff_test_out = abs(pre_test_out - test_out)\n",
    "plt.clf()   # clear figure\n",
    "explore_vector(abs_diff_test_out, 'Histogram of Absolute diff between predicted output and real output')"
   ]
  },
  {
   "cell_type": "code",
   "execution_count": null,
   "metadata": {},
   "outputs": [],
   "source": [
    "plt.clf()   # clear figure\n",
    "plt.plot(abs_diff_test_out, 'bo', label='abs diff test out')\n",
    "plt.title('Output Prediction Comparison')\n",
    "plt.xlabel('Element Index')\n",
    "plt.ylabel('Abs Diff')\n"
   ]
  },
  {
   "cell_type": "code",
   "execution_count": null,
   "metadata": {},
   "outputs": [],
   "source": []
  }
 ],
 "metadata": {
  "kernelspec": {
   "display_name": "Python 3",
   "language": "python",
   "name": "python3"
  },
  "language_info": {
   "codemirror_mode": {
    "name": "ipython",
    "version": 3
   },
   "file_extension": ".py",
   "mimetype": "text/x-python",
   "name": "python",
   "nbconvert_exporter": "python",
   "pygments_lexer": "ipython3",
   "version": "3.6.3"
  }
 },
 "nbformat": 4,
 "nbformat_minor": 2
}
