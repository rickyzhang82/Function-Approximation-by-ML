{
 "cells": [
  {
   "cell_type": "markdown",
   "metadata": {},
   "source": [
    "# Approximate a simulated non-linear function"
   ]
  },
  {
   "cell_type": "markdown",
   "metadata": {},
   "source": [
    "# Task\n",
    "- Use fully connected network to approximate a simulated non-linear function"
   ]
  },
  {
   "cell_type": "markdown",
   "metadata": {},
   "source": [
    "## Data Exploration"
   ]
  },
  {
   "cell_type": "code",
   "execution_count": 1,
   "metadata": {},
   "outputs": [
    {
     "name": "stdout",
     "output_type": "stream",
     "text": [
      "(3, 2000)\n"
     ]
    }
   ],
   "source": [
    "file_name = '/src/data/function_approximation/xy_data.csv'\n",
    "\n",
    "import pandas as pd\n",
    "import numpy as np\n",
    "df = pd.read_csv(file_name, header=None)\n",
    "print(df.shape)"
   ]
  },
  {
   "cell_type": "code",
   "execution_count": 2,
   "metadata": {},
   "outputs": [
    {
     "name": "stdout",
     "output_type": "stream",
     "text": [
      "<class 'numpy.ndarray'>\n",
      "(2000, 3)\n",
      "[[-0.058929   0.06417    0.33     ]\n",
      " [ 0.16602   -0.0084448  0.33     ]\n",
      " [ 0.50408    0.098609   0.5      ]\n",
      " [-0.63563    0.97851    0.       ]\n",
      " [-0.63486    0.92308    0.       ]]\n"
     ]
    }
   ],
   "source": [
    "np_vector = df.values.transpose()\n",
    "print(type(np_vector))\n",
    "print(np_vector.shape)\n",
    "print(np_vector[:5])"
   ]
  },
  {
   "cell_type": "code",
   "execution_count": 3,
   "metadata": {},
   "outputs": [
    {
     "name": "stdout",
     "output_type": "stream",
     "text": [
      "min:-0.999560, max:0.997750, median:-0.036787, mean:-0.033911, std:0.581712, size:2000\n"
     ]
    },
    {
     "data": {
      "image/png": "[encoded data removed]",
      "text/plain": [
       "<Figure size 432x288 with 1 Axes>"
      ]
     },
     "metadata": {
      "needs_background": "light"
     },
     "output_type": "display_data"
    },
    {
     "name": "stdout",
     "output_type": "stream",
     "text": [
      "min:-0.999790, max:0.999340, median:-0.008641, mean:-0.007416, std:0.577141, size:2000\n"
     ]
    },
    {
     "data": {
      "image/png": "[encoded data removed]",
      "text/plain": [
       "<Figure size 432x288 with 1 Axes>"
      ]
     },
     "metadata": {
      "needs_background": "light"
     },
     "output_type": "display_data"
    },
    {
     "name": "stdout",
     "output_type": "stream",
     "text": [
      "min:-0.500000, max:0.830000, median:0.000000, mean:0.034030, std:0.265202, size:2000\n"
     ]
    },
    {
     "data": {
      "image/png": "[encoded data removed]",
      "text/plain": [
       "<Figure size 432x288 with 1 Axes>"
      ]
     },
     "metadata": {
      "needs_background": "light"
     },
     "output_type": "display_data"
    }
   ],
   "source": [
    "%matplotlib inline\n",
    "import matplotlib.pyplot as plt\n",
    "\n",
    "x = np_vector[:, 0]\n",
    "y = np_vector[:, 1]\n",
    "tk = np_vector[:,2]\n",
    "\n",
    "def explore_vector(vector, title=None):\n",
    "    assert type(vector) is np.ndarray\n",
    "    assert vector.ndim == 1\n",
    "    print('min:%f, max:%f, median:%f, mean:%f, std:%f, size:%d' \n",
    "          % (np.min(vector), np.max(vector), np.median(vector), np.mean(vector), np.std(vector), vector.size))\n",
    "    plt.title(title)\n",
    "    plt.hist(vector, bins='auto')\n",
    "    plt.show()\n",
    "\n",
    "explore_vector(x, \"input 1\")\n",
    "explore_vector(y, \"input 2\")\n",
    "explore_vector(tk, \"output\")"
   ]
  },
  {
   "cell_type": "markdown",
   "metadata": {},
   "source": [
    "## Data Preparation"
   ]
  },
  {
   "cell_type": "code",
   "execution_count": 4,
   "metadata": {},
   "outputs": [
    {
     "name": "stdout",
     "output_type": "stream",
     "text": [
      "[[-0.096913  0.59342  -0.5     ]\n",
      " [ 0.92707  -0.8837    0.      ]\n",
      " [ 0.87965   0.20002   0.      ]\n",
      " [-0.10292   0.061922  0.33    ]\n",
      " [-0.7388   -0.1865    0.      ]]\n"
     ]
    }
   ],
   "source": [
    "# Let's shuffle it\n",
    "np.random.shuffle(np_vector)\n",
    "print(np_vector[:5])"
   ]
  },
  {
   "cell_type": "code",
   "execution_count": 5,
   "metadata": {},
   "outputs": [
    {
     "name": "stdout",
     "output_type": "stream",
     "text": [
      "input shape:(2000, 2)\n",
      "[[-0.096913  0.59342 ]\n",
      " [ 0.92707  -0.8837  ]\n",
      " [ 0.87965   0.20002 ]\n",
      " [-0.10292   0.061922]\n",
      " [-0.7388   -0.1865  ]]\n",
      "output shape:(2000,)\n",
      "[-0.5   0.    0.    0.33  0.  ]\n"
     ]
    }
   ],
   "source": [
    "# separate input and output\n",
    "input_vector = np_vector[:, :2]\n",
    "print('input shape:' + str(input_vector.shape))\n",
    "print(input_vector[:5])\n",
    "\n",
    "output_vecotr = np_vector[:, 2]\n",
    "print('output shape:' + str(output_vecotr.shape))\n",
    "print(output_vecotr[:5])"
   ]
  },
  {
   "cell_type": "code",
   "execution_count": 6,
   "metadata": {},
   "outputs": [
    {
     "name": "stdout",
     "output_type": "stream",
     "text": [
      "Total Size: 2000, Train Size: 1620, Validation Size: 180, Test Size: 200\n",
      "train_in shape:(1620, 2)\n"
     ]
    }
   ],
   "source": [
    "pct_training = 0.9\n",
    "pct_validation = 0.1\n",
    "\n",
    "# separate training and test data\n",
    "total_size = input_vector.shape[0]\n",
    "training_size = int(total_size * pct_training)\n",
    "test_size = total_size - training_size\n",
    "val_size = int(training_size * pct_validation)\n",
    "\n",
    "print('Total Size: %d, Train Size: %d, Validation Size: %d, Test Size: %d'\n",
    "      % (total_size, training_size - val_size, val_size, test_size))\n",
    "\n",
    "# slice data\n",
    "train_in = input_vector[:training_size]\n",
    "train_out = output_vecotr[:training_size]\n",
    "\n",
    "test_in = input_vector[training_size:]\n",
    "test_out = output_vecotr[training_size:]\n",
    "\n",
    "\n",
    "val_in = train_in[:val_size]\n",
    "val_out = train_out[:val_size]\n",
    "\n",
    "train_in = train_in[val_size:]\n",
    "train_out = train_out[val_size:]\n",
    "\n",
    "print('train_in shape:' + str(train_in.shape))\n"
   ]
  },
  {
   "cell_type": "markdown",
   "metadata": {},
   "source": [
    "# Model Construction"
   ]
  },
  {
   "cell_type": "code",
   "execution_count": 7,
   "metadata": {},
   "outputs": [
    {
     "name": "stderr",
     "output_type": "stream",
     "text": [
      "Using TensorFlow backend.\n"
     ]
    },
    {
     "name": "stdout",
     "output_type": "stream",
     "text": [
      "_________________________________________________________________\n",
      "Layer (type)                 Output Shape              Param #   \n",
      "=================================================================\n",
      "dense_1 (Dense)              (None, 32)                96        \n",
      "_________________________________________________________________\n",
      "dense_2 (Dense)              (None, 32)                1056      \n",
      "_________________________________________________________________\n",
      "dense_3 (Dense)              (None, 32)                1056      \n",
      "_________________________________________________________________\n",
      "dense_4 (Dense)              (None, 32)                1056      \n",
      "_________________________________________________________________\n",
      "dense_5 (Dense)              (None, 16)                528       \n",
      "_________________________________________________________________\n",
      "dense_6 (Dense)              (None, 16)                272       \n",
      "_________________________________________________________________\n",
      "dense_7 (Dense)              (None, 16)                272       \n",
      "_________________________________________________________________\n",
      "dense_8 (Dense)              (None, 8)                 136       \n",
      "_________________________________________________________________\n",
      "dense_9 (Dense)              (None, 1)                 9         \n",
      "=================================================================\n",
      "Total params: 4,481\n",
      "Trainable params: 4,481\n",
      "Non-trainable params: 0\n",
      "_________________________________________________________________\n"
     ]
    }
   ],
   "source": [
    "from keras import models\n",
    "from keras import layers\n",
    "\n",
    "# construct model\n",
    "model = models.Sequential()\n",
    "model.add(layers.Dense(32, activation='relu', input_shape=(2,)))\n",
    "model.add(layers.Dense(32, activation='relu'))\n",
    "model.add(layers.Dense(32, activation='relu'))\n",
    "model.add(layers.Dense(32, activation='relu'))\n",
    "model.add(layers.Dense(16, activation='relu'))\n",
    "model.add(layers.Dense(16, activation='relu'))\n",
    "model.add(layers.Dense(16, activation='relu'))\n",
    "model.add(layers.Dense(8, activation='relu'))\n",
    "model.add(layers.Dense(1))\n",
    "\n",
    "model.summary()\n",
    "\n",
    "# custom metrics\n",
    "import keras.backend as K\n",
    "\n",
    "def max_diff(y_true, y_pred):\n",
    "    return K.max(K.abs(y_pred-y_true))\n",
    "\n",
    "def min_diff(y_true, y_pred):\n",
    "    return K.min(K.abs(y_pred-y_true))\n",
    "\n",
    "# compile model with optimizer, loss function\n",
    "model.compile(optimizer='rmsprop',\n",
    "              loss='mean_squared_error',\n",
    "              metrics=[max_diff, min_diff])"
   ]
  },
  {
   "cell_type": "code",
   "execution_count": 8,
   "metadata": {},
   "outputs": [
    {
     "name": "stdout",
     "output_type": "stream",
     "text": [
      "Train on 1620 samples, validate on 180 samples\n",
      "Epoch 1/500\n",
      "1620/1620 [==============================] - 3s 2ms/step - loss: 0.0559 - max_diff: 0.6279 - min_diff: 0.0049 - val_loss: 0.0549 - val_max_diff: 0.6015 - val_min_diff: 0.0070\n",
      "Epoch 2/500\n",
      "1620/1620 [==============================] - 0s 98us/step - loss: 0.0393 - max_diff: 0.4931 - min_diff: 0.0065 - val_loss: 0.0427 - val_max_diff: 0.5552 - val_min_diff: 0.0044\n",
      "Epoch 3/500\n",
      "1620/1620 [==============================] - 0s 94us/step - loss: 0.0319 - max_diff: 0.4492 - min_diff: 0.0035 - val_loss: 0.0335 - val_max_diff: 0.4828 - val_min_diff: 0.0043\n",
      "Epoch 4/500\n",
      "1620/1620 [==============================] - 0s 99us/step - loss: 0.0274 - max_diff: 0.4134 - min_diff: 0.0032 - val_loss: 0.0276 - val_max_diff: 0.3960 - val_min_diff: 0.0067\n",
      "Epoch 5/500\n",
      "1620/1620 [==============================] - 0s 96us/step - loss: 0.0231 - max_diff: 0.4008 - min_diff: 0.0037 - val_loss: 0.0244 - val_max_diff: 0.3671 - val_min_diff: 0.0027\n",
      "Epoch 6/500\n",
      "1620/1620 [==============================] - 0s 105us/step - loss: 0.0216 - max_diff: 0.3812 - min_diff: 0.0038 - val_loss: 0.0178 - val_max_diff: 0.3498 - val_min_diff: 0.0010\n",
      "Epoch 7/500\n",
      "1620/1620 [==============================] - 0s 102us/step - loss: 0.0204 - max_diff: 0.3762 - min_diff: 0.0042 - val_loss: 0.0170 - val_max_diff: 0.3416 - val_min_diff: 0.0034\n",
      "Epoch 8/500\n",
      "1620/1620 [==============================] - 0s 96us/step - loss: 0.0190 - max_diff: 0.3740 - min_diff: 0.0044 - val_loss: 0.0222 - val_max_diff: 0.3762 - val_min_diff: 0.0153\n",
      "Epoch 9/500\n",
      "1620/1620 [==============================] - 0s 108us/step - loss: 0.0185 - max_diff: 0.3869 - min_diff: 0.0044 - val_loss: 0.0141 - val_max_diff: 0.2962 - val_min_diff: 0.0015\n",
      "Epoch 10/500\n",
      "1620/1620 [==============================] - 0s 91us/step - loss: 0.0176 - max_diff: 0.3697 - min_diff: 0.0032 - val_loss: 0.0139 - val_max_diff: 0.3174 - val_min_diff: 7.5490e-04\n",
      "Epoch 11/500\n",
      "1620/1620 [==============================] - 0s 97us/step - loss: 0.0160 - max_diff: 0.3438 - min_diff: 0.0033 - val_loss: 0.0191 - val_max_diff: 0.3678 - val_min_diff: 0.0039\n",
      "Epoch 12/500\n",
      "1620/1620 [==============================] - 0s 100us/step - loss: 0.0162 - max_diff: 0.3641 - min_diff: 0.0041 - val_loss: 0.0173 - val_max_diff: 0.3283 - val_min_diff: 0.0087\n",
      "Epoch 13/500\n",
      "1620/1620 [==============================] - 0s 98us/step - loss: 0.0156 - max_diff: 0.3656 - min_diff: 0.0025 - val_loss: 0.0119 - val_max_diff: 0.2878 - val_min_diff: 0.0026\n",
      "Epoch 14/500\n",
      "1620/1620 [==============================] - 0s 106us/step - loss: 0.0145 - max_diff: 0.3581 - min_diff: 0.0034 - val_loss: 0.0152 - val_max_diff: 0.3201 - val_min_diff: 0.0032\n",
      "Epoch 15/500\n",
      "1620/1620 [==============================] - 0s 101us/step - loss: 0.0149 - max_diff: 0.3519 - min_diff: 0.0046 - val_loss: 0.0135 - val_max_diff: 0.3338 - val_min_diff: 0.0040\n",
      "Epoch 16/500\n",
      "1620/1620 [==============================] - 0s 104us/step - loss: 0.0144 - max_diff: 0.3421 - min_diff: 0.0038 - val_loss: 0.0123 - val_max_diff: 0.3030 - val_min_diff: 0.0014\n",
      "Epoch 17/500\n",
      "1620/1620 [==============================] - 0s 102us/step - loss: 0.0143 - max_diff: 0.3507 - min_diff: 0.0038 - val_loss: 0.0207 - val_max_diff: 0.3634 - val_min_diff: 0.0117\n",
      "Epoch 18/500\n",
      "1620/1620 [==============================] - 0s 100us/step - loss: 0.0136 - max_diff: 0.3459 - min_diff: 0.0031 - val_loss: 0.0147 - val_max_diff: 0.3361 - val_min_diff: 0.0118\n",
      "Epoch 19/500\n",
      "1620/1620 [==============================] - 0s 101us/step - loss: 0.0133 - max_diff: 0.3444 - min_diff: 0.0028 - val_loss: 0.0159 - val_max_diff: 0.3579 - val_min_diff: 0.0031\n",
      "Epoch 20/500\n",
      "1620/1620 [==============================] - 0s 105us/step - loss: 0.0130 - max_diff: 0.3286 - min_diff: 0.0034 - val_loss: 0.0121 - val_max_diff: 0.3108 - val_min_diff: 0.0022\n",
      "Epoch 21/500\n",
      "1620/1620 [==============================] - 0s 97us/step - loss: 0.0124 - max_diff: 0.3289 - min_diff: 0.0035 - val_loss: 0.0116 - val_max_diff: 0.2929 - val_min_diff: 0.0022\n",
      "Epoch 22/500\n",
      "1620/1620 [==============================] - 0s 97us/step - loss: 0.0136 - max_diff: 0.3419 - min_diff: 0.0029 - val_loss: 0.0120 - val_max_diff: 0.2942 - val_min_diff: 0.0023\n",
      "Epoch 23/500\n",
      "1620/1620 [==============================] - 0s 103us/step - loss: 0.0116 - max_diff: 0.3229 - min_diff: 0.0027 - val_loss: 0.0159 - val_max_diff: 0.3322 - val_min_diff: 0.0121\n",
      "Epoch 24/500\n",
      "1620/1620 [==============================] - 0s 96us/step - loss: 0.0120 - max_diff: 0.3383 - min_diff: 0.0036 - val_loss: 0.0122 - val_max_diff: 0.3244 - val_min_diff: 0.0017\n",
      "Epoch 25/500\n",
      "1620/1620 [==============================] - 0s 97us/step - loss: 0.0121 - max_diff: 0.3251 - min_diff: 0.0022 - val_loss: 0.0103 - val_max_diff: 0.3035 - val_min_diff: 0.0020\n",
      "Epoch 26/500\n",
      "1620/1620 [==============================] - 0s 99us/step - loss: 0.0112 - max_diff: 0.3016 - min_diff: 0.0037 - val_loss: 0.0113 - val_max_diff: 0.2867 - val_min_diff: 0.0073\n",
      "Epoch 27/500\n",
      "1620/1620 [==============================] - 0s 96us/step - loss: 0.0116 - max_diff: 0.3270 - min_diff: 0.0036 - val_loss: 0.0116 - val_max_diff: 0.3508 - val_min_diff: 0.0021\n",
      "Epoch 28/500\n",
      "1620/1620 [==============================] - 0s 101us/step - loss: 0.0116 - max_diff: 0.3243 - min_diff: 0.0028 - val_loss: 0.0090 - val_max_diff: 0.2904 - val_min_diff: 0.0031\n",
      "Epoch 29/500\n",
      "1620/1620 [==============================] - 0s 100us/step - loss: 0.0108 - max_diff: 0.3121 - min_diff: 0.0030 - val_loss: 0.0114 - val_max_diff: 0.3342 - val_min_diff: 0.0051\n",
      "Epoch 30/500\n",
      "1620/1620 [==============================] - 0s 94us/step - loss: 0.0108 - max_diff: 0.3020 - min_diff: 0.0023 - val_loss: 0.0095 - val_max_diff: 0.3064 - val_min_diff: 4.6433e-04\n",
      "Epoch 31/500\n",
      "1620/1620 [==============================] - 0s 99us/step - loss: 0.0097 - max_diff: 0.2980 - min_diff: 0.0019 - val_loss: 0.0139 - val_max_diff: 0.3298 - val_min_diff: 0.0057\n",
      "Epoch 32/500\n",
      "1620/1620 [==============================] - 0s 101us/step - loss: 0.0104 - max_diff: 0.3211 - min_diff: 0.0029 - val_loss: 0.0099 - val_max_diff: 0.3230 - val_min_diff: 0.0012\n",
      "Epoch 33/500\n",
      "1620/1620 [==============================] - 0s 105us/step - loss: 0.0094 - max_diff: 0.2980 - min_diff: 0.0022 - val_loss: 0.0101 - val_max_diff: 0.3052 - val_min_diff: 0.0014\n",
      "Epoch 34/500\n",
      "1620/1620 [==============================] - 0s 104us/step - loss: 0.0098 - max_diff: 0.3160 - min_diff: 0.0025 - val_loss: 0.0112 - val_max_diff: 0.3014 - val_min_diff: 0.0026\n",
      "Epoch 35/500\n",
      "1620/1620 [==============================] - 0s 97us/step - loss: 0.0094 - max_diff: 0.2906 - min_diff: 0.0016 - val_loss: 0.0079 - val_max_diff: 0.2472 - val_min_diff: 0.0010\n",
      "Epoch 36/500\n",
      "1620/1620 [==============================] - 0s 98us/step - loss: 0.0097 - max_diff: 0.3091 - min_diff: 0.0025 - val_loss: 0.0091 - val_max_diff: 0.2715 - val_min_diff: 0.0011\n",
      "Epoch 37/500\n",
      "1620/1620 [==============================] - 0s 99us/step - loss: 0.0098 - max_diff: 0.3261 - min_diff: 0.0020 - val_loss: 0.0139 - val_max_diff: 0.3227 - val_min_diff: 0.0054\n",
      "Epoch 38/500\n",
      "1620/1620 [==============================] - 0s 99us/step - loss: 0.0097 - max_diff: 0.3143 - min_diff: 0.0027 - val_loss: 0.0085 - val_max_diff: 0.2653 - val_min_diff: 0.0041\n",
      "Epoch 39/500\n",
      "1620/1620 [==============================] - 0s 99us/step - loss: 0.0091 - max_diff: 0.2995 - min_diff: 0.0021 - val_loss: 0.0106 - val_max_diff: 0.3286 - val_min_diff: 0.0014\n",
      "Epoch 40/500\n",
      "1620/1620 [==============================] - 0s 99us/step - loss: 0.0082 - max_diff: 0.2942 - min_diff: 0.0020 - val_loss: 0.0071 - val_max_diff: 0.2449 - val_min_diff: 0.0023\n",
      "Epoch 41/500\n",
      "1620/1620 [==============================] - 0s 102us/step - loss: 0.0086 - max_diff: 0.3083 - min_diff: 0.0019 - val_loss: 0.0145 - val_max_diff: 0.3881 - val_min_diff: 0.0041\n",
      "Epoch 42/500\n",
      "1620/1620 [==============================] - 0s 97us/step - loss: 0.0093 - max_diff: 0.3046 - min_diff: 0.0025 - val_loss: 0.0088 - val_max_diff: 0.2888 - val_min_diff: 6.1757e-04\n",
      "Epoch 43/500\n",
      "1620/1620 [==============================] - 0s 104us/step - loss: 0.0090 - max_diff: 0.3022 - min_diff: 0.0023 - val_loss: 0.0080 - val_max_diff: 0.2446 - val_min_diff: 9.7125e-04\n"
     ]
    },
    {
     "name": "stdout",
     "output_type": "stream",
     "text": [
      "Epoch 44/500\n",
      "1620/1620 [==============================] - 0s 101us/step - loss: 0.0081 - max_diff: 0.2938 - min_diff: 0.0023 - val_loss: 0.0100 - val_max_diff: 0.3116 - val_min_diff: 0.0037\n",
      "Epoch 45/500\n",
      "1620/1620 [==============================] - 0s 93us/step - loss: 0.0085 - max_diff: 0.3028 - min_diff: 0.0019 - val_loss: 0.0093 - val_max_diff: 0.2968 - val_min_diff: 0.0029\n",
      "Epoch 46/500\n",
      "1620/1620 [==============================] - 0s 107us/step - loss: 0.0085 - max_diff: 0.2997 - min_diff: 0.0022 - val_loss: 0.0159 - val_max_diff: 0.4117 - val_min_diff: 0.0011\n",
      "Epoch 47/500\n",
      "1620/1620 [==============================] - 0s 108us/step - loss: 0.0086 - max_diff: 0.2897 - min_diff: 0.0014 - val_loss: 0.0101 - val_max_diff: 0.3319 - val_min_diff: 0.0013\n",
      "Epoch 48/500\n",
      "1620/1620 [==============================] - 0s 100us/step - loss: 0.0083 - max_diff: 0.2960 - min_diff: 0.0027 - val_loss: 0.0090 - val_max_diff: 0.2920 - val_min_diff: 0.0025\n",
      "Epoch 49/500\n",
      "1620/1620 [==============================] - 0s 100us/step - loss: 0.0076 - max_diff: 0.2902 - min_diff: 0.0020 - val_loss: 0.0105 - val_max_diff: 0.3259 - val_min_diff: 0.0036\n",
      "Epoch 50/500\n",
      "1620/1620 [==============================] - 0s 98us/step - loss: 0.0086 - max_diff: 0.3033 - min_diff: 0.0019 - val_loss: 0.0071 - val_max_diff: 0.2582 - val_min_diff: 7.5839e-04\n",
      "Epoch 51/500\n",
      "1620/1620 [==============================] - 0s 96us/step - loss: 0.0073 - max_diff: 0.2753 - min_diff: 0.0024 - val_loss: 0.0097 - val_max_diff: 0.3032 - val_min_diff: 0.0033\n",
      "Epoch 52/500\n",
      "1620/1620 [==============================] - 0s 100us/step - loss: 0.0087 - max_diff: 0.3122 - min_diff: 0.0020 - val_loss: 0.0062 - val_max_diff: 0.2401 - val_min_diff: 0.0021\n",
      "Epoch 53/500\n",
      "1620/1620 [==============================] - 0s 103us/step - loss: 0.0071 - max_diff: 0.2680 - min_diff: 0.0013 - val_loss: 0.0100 - val_max_diff: 0.3412 - val_min_diff: 0.0057\n",
      "Epoch 54/500\n",
      "1620/1620 [==============================] - 0s 99us/step - loss: 0.0074 - max_diff: 0.2939 - min_diff: 0.0017 - val_loss: 0.0127 - val_max_diff: 0.3369 - val_min_diff: 0.0028\n",
      "Epoch 55/500\n",
      "1620/1620 [==============================] - 0s 127us/step - loss: 0.0074 - max_diff: 0.2790 - min_diff: 0.0023 - val_loss: 0.0079 - val_max_diff: 0.2879 - val_min_diff: 0.0019\n",
      "Epoch 56/500\n",
      "1620/1620 [==============================] - 0s 99us/step - loss: 0.0072 - max_diff: 0.2826 - min_diff: 0.0020 - val_loss: 0.0063 - val_max_diff: 0.2622 - val_min_diff: 9.9596e-04\n",
      "Epoch 57/500\n",
      "1620/1620 [==============================] - 0s 100us/step - loss: 0.0069 - max_diff: 0.2829 - min_diff: 0.0021 - val_loss: 0.0066 - val_max_diff: 0.2687 - val_min_diff: 9.6724e-04\n",
      "Epoch 58/500\n",
      "1620/1620 [==============================] - 0s 99us/step - loss: 0.0066 - max_diff: 0.2638 - min_diff: 0.0025 - val_loss: 0.0079 - val_max_diff: 0.2764 - val_min_diff: 3.7696e-04\n",
      "Epoch 59/500\n",
      "1620/1620 [==============================] - 0s 97us/step - loss: 0.0064 - max_diff: 0.2580 - min_diff: 0.0017 - val_loss: 0.0068 - val_max_diff: 0.2629 - val_min_diff: 0.0015\n",
      "Epoch 60/500\n",
      "1620/1620 [==============================] - 0s 99us/step - loss: 0.0071 - max_diff: 0.2829 - min_diff: 0.0014 - val_loss: 0.0122 - val_max_diff: 0.3855 - val_min_diff: 0.0020\n",
      "Epoch 61/500\n",
      "1620/1620 [==============================] - 0s 103us/step - loss: 0.0070 - max_diff: 0.2708 - min_diff: 0.0017 - val_loss: 0.0082 - val_max_diff: 0.3085 - val_min_diff: 0.0013\n",
      "Epoch 62/500\n",
      "1620/1620 [==============================] - 0s 99us/step - loss: 0.0073 - max_diff: 0.2824 - min_diff: 0.0020 - val_loss: 0.0081 - val_max_diff: 0.2941 - val_min_diff: 6.6613e-04\n",
      "Epoch 63/500\n",
      "1620/1620 [==============================] - 0s 100us/step - loss: 0.0065 - max_diff: 0.2583 - min_diff: 0.0019 - val_loss: 0.0066 - val_max_diff: 0.2508 - val_min_diff: 2.7491e-04\n",
      "Epoch 64/500\n",
      "1620/1620 [==============================] - 0s 94us/step - loss: 0.0071 - max_diff: 0.2824 - min_diff: 0.0018 - val_loss: 0.0084 - val_max_diff: 0.2937 - val_min_diff: 0.0063\n",
      "Epoch 65/500\n",
      "1620/1620 [==============================] - 0s 104us/step - loss: 0.0066 - max_diff: 0.2710 - min_diff: 0.0018 - val_loss: 0.0111 - val_max_diff: 0.3588 - val_min_diff: 0.0054\n",
      "Epoch 66/500\n",
      "1620/1620 [==============================] - 0s 101us/step - loss: 0.0066 - max_diff: 0.2773 - min_diff: 0.0018 - val_loss: 0.0061 - val_max_diff: 0.2119 - val_min_diff: 0.0029\n",
      "Epoch 67/500\n",
      "1620/1620 [==============================] - 0s 95us/step - loss: 0.0068 - max_diff: 0.2804 - min_diff: 0.0021 - val_loss: 0.0079 - val_max_diff: 0.3196 - val_min_diff: 0.0012\n",
      "Epoch 68/500\n",
      "1620/1620 [==============================] - 0s 98us/step - loss: 0.0064 - max_diff: 0.2670 - min_diff: 0.0017 - val_loss: 0.0068 - val_max_diff: 0.2757 - val_min_diff: 3.4786e-04\n",
      "Epoch 69/500\n",
      "1620/1620 [==============================] - 0s 92us/step - loss: 0.0063 - max_diff: 0.2701 - min_diff: 0.0018 - val_loss: 0.0081 - val_max_diff: 0.2693 - val_min_diff: 0.0044\n",
      "Epoch 70/500\n",
      "1620/1620 [==============================] - 0s 107us/step - loss: 0.0067 - max_diff: 0.2671 - min_diff: 0.0023 - val_loss: 0.0063 - val_max_diff: 0.2333 - val_min_diff: 0.0033\n",
      "Epoch 71/500\n",
      "1620/1620 [==============================] - 0s 104us/step - loss: 0.0064 - max_diff: 0.2688 - min_diff: 0.0015 - val_loss: 0.0059 - val_max_diff: 0.2531 - val_min_diff: 0.0029\n",
      "Epoch 72/500\n",
      "1620/1620 [==============================] - 0s 96us/step - loss: 0.0066 - max_diff: 0.2793 - min_diff: 0.0017 - val_loss: 0.0106 - val_max_diff: 0.2980 - val_min_diff: 0.0022\n",
      "Epoch 73/500\n",
      "1620/1620 [==============================] - 0s 91us/step - loss: 0.0066 - max_diff: 0.2815 - min_diff: 0.0015 - val_loss: 0.0063 - val_max_diff: 0.2352 - val_min_diff: 0.0035\n",
      "Epoch 74/500\n",
      "1620/1620 [==============================] - 0s 99us/step - loss: 0.0063 - max_diff: 0.2610 - min_diff: 0.0013 - val_loss: 0.0090 - val_max_diff: 0.3357 - val_min_diff: 0.0021\n",
      "Epoch 75/500\n",
      "1620/1620 [==============================] - 0s 96us/step - loss: 0.0063 - max_diff: 0.2796 - min_diff: 0.0019 - val_loss: 0.0085 - val_max_diff: 0.3142 - val_min_diff: 0.0072\n",
      "Epoch 76/500\n",
      "1620/1620 [==============================] - 0s 95us/step - loss: 0.0058 - max_diff: 0.2676 - min_diff: 0.0020 - val_loss: 0.0104 - val_max_diff: 0.3884 - val_min_diff: 0.0015\n",
      "Epoch 77/500\n",
      "1620/1620 [==============================] - 0s 102us/step - loss: 0.0059 - max_diff: 0.2730 - min_diff: 0.0015 - val_loss: 0.0058 - val_max_diff: 0.2359 - val_min_diff: 0.0051\n",
      "Epoch 78/500\n",
      "1620/1620 [==============================] - 0s 103us/step - loss: 0.0062 - max_diff: 0.2823 - min_diff: 0.0020 - val_loss: 0.0068 - val_max_diff: 0.2692 - val_min_diff: 2.3874e-04\n",
      "Epoch 79/500\n",
      "1620/1620 [==============================] - 0s 91us/step - loss: 0.0062 - max_diff: 0.2576 - min_diff: 0.0021 - val_loss: 0.0078 - val_max_diff: 0.3025 - val_min_diff: 0.0015\n",
      "Epoch 80/500\n",
      "1620/1620 [==============================] - 0s 96us/step - loss: 0.0058 - max_diff: 0.2499 - min_diff: 0.0015 - val_loss: 0.0108 - val_max_diff: 0.3702 - val_min_diff: 0.0020\n",
      "Epoch 81/500\n",
      "1620/1620 [==============================] - 0s 99us/step - loss: 0.0060 - max_diff: 0.2696 - min_diff: 0.0022 - val_loss: 0.0118 - val_max_diff: 0.3866 - val_min_diff: 0.0027\n",
      "Epoch 82/500\n",
      "1620/1620 [==============================] - 0s 98us/step - loss: 0.0059 - max_diff: 0.2756 - min_diff: 0.0019 - val_loss: 0.0067 - val_max_diff: 0.2837 - val_min_diff: 0.0014\n",
      "Epoch 83/500\n",
      "1620/1620 [==============================] - 0s 96us/step - loss: 0.0053 - max_diff: 0.2513 - min_diff: 0.0025 - val_loss: 0.0053 - val_max_diff: 0.2106 - val_min_diff: 0.0054\n",
      "Epoch 84/500\n",
      "1620/1620 [==============================] - 0s 107us/step - loss: 0.0053 - max_diff: 0.2424 - min_diff: 0.0015 - val_loss: 0.0063 - val_max_diff: 0.3009 - val_min_diff: 5.0933e-04\n",
      "Epoch 85/500\n",
      "1620/1620 [==============================] - 0s 101us/step - loss: 0.0057 - max_diff: 0.2751 - min_diff: 0.0021 - val_loss: 0.0064 - val_max_diff: 0.2677 - val_min_diff: 8.6704e-04\n",
      "Epoch 86/500\n",
      "1620/1620 [==============================] - 0s 97us/step - loss: 0.0054 - max_diff: 0.2670 - min_diff: 0.0017 - val_loss: 0.0077 - val_max_diff: 0.3199 - val_min_diff: 0.0029\n",
      "Epoch 87/500\n"
     ]
    },
    {
     "name": "stdout",
     "output_type": "stream",
     "text": [
      "1620/1620 [==============================] - 0s 106us/step - loss: 0.0057 - max_diff: 0.2542 - min_diff: 0.0020 - val_loss: 0.0064 - val_max_diff: 0.2630 - val_min_diff: 6.2673e-04\n",
      "Epoch 88/500\n",
      "1620/1620 [==============================] - 0s 95us/step - loss: 0.0050 - max_diff: 0.2543 - min_diff: 0.0013 - val_loss: 0.0083 - val_max_diff: 0.3231 - val_min_diff: 0.0035\n",
      "Epoch 89/500\n",
      "1620/1620 [==============================] - 0s 104us/step - loss: 0.0055 - max_diff: 0.2680 - min_diff: 0.0016 - val_loss: 0.0089 - val_max_diff: 0.3179 - val_min_diff: 0.0035\n",
      "Epoch 90/500\n",
      "1620/1620 [==============================] - 0s 99us/step - loss: 0.0051 - max_diff: 0.2620 - min_diff: 0.0015 - val_loss: 0.0054 - val_max_diff: 0.2606 - val_min_diff: 0.0023\n",
      "Epoch 91/500\n",
      "1620/1620 [==============================] - 0s 100us/step - loss: 0.0056 - max_diff: 0.2545 - min_diff: 0.0013 - val_loss: 0.0054 - val_max_diff: 0.2689 - val_min_diff: 6.5827e-04\n",
      "Epoch 92/500\n",
      "1620/1620 [==============================] - 0s 97us/step - loss: 0.0055 - max_diff: 0.2718 - min_diff: 0.0016 - val_loss: 0.0062 - val_max_diff: 0.2498 - val_min_diff: 0.0034\n",
      "Epoch 93/500\n",
      "1620/1620 [==============================] - 0s 95us/step - loss: 0.0053 - max_diff: 0.2601 - min_diff: 0.0011 - val_loss: 0.0075 - val_max_diff: 0.3060 - val_min_diff: 4.0608e-04\n",
      "Epoch 94/500\n",
      "1620/1620 [==============================] - 0s 101us/step - loss: 0.0052 - max_diff: 0.2447 - min_diff: 0.0017 - val_loss: 0.0063 - val_max_diff: 0.3173 - val_min_diff: 0.0024\n",
      "Epoch 95/500\n",
      "1620/1620 [==============================] - 0s 104us/step - loss: 0.0057 - max_diff: 0.2637 - min_diff: 0.0017 - val_loss: 0.0054 - val_max_diff: 0.2502 - val_min_diff: 0.0037\n",
      "Epoch 96/500\n",
      "1620/1620 [==============================] - 0s 99us/step - loss: 0.0054 - max_diff: 0.2606 - min_diff: 0.0017 - val_loss: 0.0068 - val_max_diff: 0.3138 - val_min_diff: 3.5462e-04\n",
      "Epoch 97/500\n",
      "1620/1620 [==============================] - 0s 101us/step - loss: 0.0050 - max_diff: 0.2518 - min_diff: 0.0014 - val_loss: 0.0075 - val_max_diff: 0.2751 - val_min_diff: 0.0026\n",
      "Epoch 98/500\n",
      "1620/1620 [==============================] - 0s 104us/step - loss: 0.0054 - max_diff: 0.2582 - min_diff: 0.0019 - val_loss: 0.0056 - val_max_diff: 0.2509 - val_min_diff: 9.2723e-04\n",
      "Epoch 99/500\n",
      "1620/1620 [==============================] - 0s 101us/step - loss: 0.0055 - max_diff: 0.2812 - min_diff: 0.0016 - val_loss: 0.0053 - val_max_diff: 0.2439 - val_min_diff: 0.0013\n",
      "Epoch 100/500\n",
      "1620/1620 [==============================] - 0s 99us/step - loss: 0.0050 - max_diff: 0.2501 - min_diff: 0.0016 - val_loss: 0.0096 - val_max_diff: 0.2676 - val_min_diff: 0.0159\n",
      "Epoch 101/500\n",
      "1620/1620 [==============================] - 0s 105us/step - loss: 0.0047 - max_diff: 0.2517 - min_diff: 0.0016 - val_loss: 0.0086 - val_max_diff: 0.2978 - val_min_diff: 0.0052\n",
      "Epoch 102/500\n",
      "1620/1620 [==============================] - 0s 97us/step - loss: 0.0048 - max_diff: 0.2492 - min_diff: 0.0016 - val_loss: 0.0047 - val_max_diff: 0.2476 - val_min_diff: 0.0023\n",
      "Epoch 103/500\n",
      "1620/1620 [==============================] - 0s 97us/step - loss: 0.0049 - max_diff: 0.2504 - min_diff: 9.6813e-04 - val_loss: 0.0057 - val_max_diff: 0.2898 - val_min_diff: 3.0347e-04\n",
      "Epoch 104/500\n",
      "1620/1620 [==============================] - 0s 96us/step - loss: 0.0050 - max_diff: 0.2652 - min_diff: 0.0016 - val_loss: 0.0058 - val_max_diff: 0.2399 - val_min_diff: 0.0053\n",
      "Epoch 105/500\n",
      "1620/1620 [==============================] - 0s 97us/step - loss: 0.0049 - max_diff: 0.2472 - min_diff: 0.0016 - val_loss: 0.0064 - val_max_diff: 0.2872 - val_min_diff: 0.0027\n",
      "Epoch 106/500\n",
      "1620/1620 [==============================] - 0s 99us/step - loss: 0.0051 - max_diff: 0.2601 - min_diff: 0.0015 - val_loss: 0.0043 - val_max_diff: 0.2393 - val_min_diff: 0.0011\n",
      "Epoch 107/500\n",
      "1620/1620 [==============================] - 0s 103us/step - loss: 0.0047 - max_diff: 0.2451 - min_diff: 0.0018 - val_loss: 0.0052 - val_max_diff: 0.2128 - val_min_diff: 0.0017\n",
      "Epoch 108/500\n",
      "1620/1620 [==============================] - 0s 98us/step - loss: 0.0050 - max_diff: 0.2552 - min_diff: 0.0014 - val_loss: 0.0083 - val_max_diff: 0.2723 - val_min_diff: 0.0031\n",
      "Epoch 109/500\n",
      "1620/1620 [==============================] - 0s 111us/step - loss: 0.0053 - max_diff: 0.2650 - min_diff: 0.0014 - val_loss: 0.0060 - val_max_diff: 0.2620 - val_min_diff: 0.0016\n",
      "Epoch 110/500\n",
      "1620/1620 [==============================] - 0s 101us/step - loss: 0.0049 - max_diff: 0.2572 - min_diff: 0.0015 - val_loss: 0.0049 - val_max_diff: 0.2570 - val_min_diff: 9.1808e-04\n",
      "Epoch 111/500\n",
      "1620/1620 [==============================] - 0s 99us/step - loss: 0.0045 - max_diff: 0.2389 - min_diff: 0.0011 - val_loss: 0.0081 - val_max_diff: 0.3051 - val_min_diff: 0.0070\n",
      "Epoch 112/500\n",
      "1620/1620 [==============================] - 0s 100us/step - loss: 0.0049 - max_diff: 0.2446 - min_diff: 0.0014 - val_loss: 0.0064 - val_max_diff: 0.2813 - val_min_diff: 0.0022\n",
      "Epoch 113/500\n",
      "1620/1620 [==============================] - 0s 103us/step - loss: 0.0045 - max_diff: 0.2440 - min_diff: 0.0012 - val_loss: 0.0060 - val_max_diff: 0.3155 - val_min_diff: 0.0016\n",
      "Epoch 114/500\n",
      "1620/1620 [==============================] - 0s 101us/step - loss: 0.0046 - max_diff: 0.2443 - min_diff: 0.0018 - val_loss: 0.0059 - val_max_diff: 0.2389 - val_min_diff: 0.0062\n",
      "Epoch 115/500\n",
      "1620/1620 [==============================] - 0s 100us/step - loss: 0.0044 - max_diff: 0.2439 - min_diff: 0.0019 - val_loss: 0.0055 - val_max_diff: 0.2522 - val_min_diff: 0.0012\n",
      "Epoch 116/500\n",
      "1620/1620 [==============================] - 0s 105us/step - loss: 0.0049 - max_diff: 0.2512 - min_diff: 0.0016 - val_loss: 0.0077 - val_max_diff: 0.3525 - val_min_diff: 0.0016\n",
      "Epoch 117/500\n",
      "1620/1620 [==============================] - 0s 100us/step - loss: 0.0041 - max_diff: 0.2380 - min_diff: 0.0015 - val_loss: 0.0078 - val_max_diff: 0.3290 - val_min_diff: 0.0033\n",
      "Epoch 118/500\n",
      "1620/1620 [==============================] - 0s 101us/step - loss: 0.0045 - max_diff: 0.2446 - min_diff: 0.0011 - val_loss: 0.0064 - val_max_diff: 0.2944 - val_min_diff: 0.0024\n",
      "Epoch 119/500\n",
      "1620/1620 [==============================] - 0s 99us/step - loss: 0.0042 - max_diff: 0.2312 - min_diff: 0.0014 - val_loss: 0.0047 - val_max_diff: 0.2361 - val_min_diff: 5.5985e-04\n",
      "Epoch 120/500\n",
      "1620/1620 [==============================] - 0s 99us/step - loss: 0.0050 - max_diff: 0.2551 - min_diff: 0.0018 - val_loss: 0.0040 - val_max_diff: 0.2031 - val_min_diff: 5.2949e-04\n",
      "Epoch 121/500\n",
      "1620/1620 [==============================] - 0s 95us/step - loss: 0.0045 - max_diff: 0.2397 - min_diff: 0.0019 - val_loss: 0.0049 - val_max_diff: 0.2543 - val_min_diff: 7.8804e-04\n",
      "Epoch 122/500\n",
      "1620/1620 [==============================] - 0s 100us/step - loss: 0.0038 - max_diff: 0.2293 - min_diff: 0.0015 - val_loss: 0.0057 - val_max_diff: 0.2605 - val_min_diff: 8.9225e-04\n",
      "Epoch 123/500\n",
      "1620/1620 [==============================] - 0s 107us/step - loss: 0.0049 - max_diff: 0.2503 - min_diff: 0.0016 - val_loss: 0.0039 - val_max_diff: 0.1840 - val_min_diff: 0.0027\n",
      "Epoch 124/500\n",
      "1620/1620 [==============================] - 0s 96us/step - loss: 0.0045 - max_diff: 0.2352 - min_diff: 0.0017 - val_loss: 0.0068 - val_max_diff: 0.2917 - val_min_diff: 4.4651e-04\n",
      "Epoch 125/500\n",
      "1620/1620 [==============================] - 0s 100us/step - loss: 0.0039 - max_diff: 0.2297 - min_diff: 0.0012 - val_loss: 0.0045 - val_max_diff: 0.2510 - val_min_diff: 0.0025\n",
      "Epoch 126/500\n",
      "1620/1620 [==============================] - 0s 99us/step - loss: 0.0044 - max_diff: 0.2435 - min_diff: 0.0016 - val_loss: 0.0101 - val_max_diff: 0.3673 - val_min_diff: 0.0065\n",
      "Epoch 127/500\n",
      "1620/1620 [==============================] - 0s 95us/step - loss: 0.0046 - max_diff: 0.2319 - min_diff: 0.0010 - val_loss: 0.0056 - val_max_diff: 0.2512 - val_min_diff: 0.0023\n",
      "Epoch 128/500\n",
      "1620/1620 [==============================] - 0s 94us/step - loss: 0.0038 - max_diff: 0.2310 - min_diff: 0.0015 - val_loss: 0.0059 - val_max_diff: 0.2603 - val_min_diff: 0.0043\n",
      "Epoch 129/500\n",
      "1620/1620 [==============================] - 0s 100us/step - loss: 0.0040 - max_diff: 0.2241 - min_diff: 0.0015 - val_loss: 0.0045 - val_max_diff: 0.2144 - val_min_diff: 4.1093e-04\n"
     ]
    },
    {
     "name": "stdout",
     "output_type": "stream",
     "text": [
      "Epoch 130/500\n",
      "1620/1620 [==============================] - 0s 103us/step - loss: 0.0045 - max_diff: 0.2585 - min_diff: 0.0015 - val_loss: 0.0041 - val_max_diff: 0.2469 - val_min_diff: 4.8441e-04\n",
      "Epoch 131/500\n",
      "1620/1620 [==============================] - 0s 98us/step - loss: 0.0040 - max_diff: 0.2273 - min_diff: 0.0012 - val_loss: 0.0032 - val_max_diff: 0.1930 - val_min_diff: 3.4253e-04\n",
      "Epoch 132/500\n",
      "1620/1620 [==============================] - 0s 99us/step - loss: 0.0045 - max_diff: 0.2612 - min_diff: 0.0013 - val_loss: 0.0066 - val_max_diff: 0.3029 - val_min_diff: 9.1097e-04\n",
      "Epoch 133/500\n",
      "1620/1620 [==============================] - 0s 104us/step - loss: 0.0037 - max_diff: 0.2190 - min_diff: 0.0020 - val_loss: 0.0050 - val_max_diff: 0.2577 - val_min_diff: 8.7703e-04\n",
      "Epoch 134/500\n",
      "1620/1620 [==============================] - 0s 101us/step - loss: 0.0045 - max_diff: 0.2495 - min_diff: 0.0014 - val_loss: 0.0061 - val_max_diff: 0.2781 - val_min_diff: 3.4323e-04\n",
      "Epoch 135/500\n",
      "1620/1620 [==============================] - 0s 99us/step - loss: 0.0040 - max_diff: 0.2418 - min_diff: 0.0011 - val_loss: 0.0075 - val_max_diff: 0.3110 - val_min_diff: 4.4734e-04\n",
      "Epoch 136/500\n",
      "1620/1620 [==============================] - 0s 99us/step - loss: 0.0039 - max_diff: 0.2416 - min_diff: 0.0011 - val_loss: 0.0060 - val_max_diff: 0.2738 - val_min_diff: 0.0015\n",
      "Epoch 137/500\n",
      "1620/1620 [==============================] - 0s 105us/step - loss: 0.0043 - max_diff: 0.2499 - min_diff: 0.0011 - val_loss: 0.0051 - val_max_diff: 0.2423 - val_min_diff: 2.8235e-04\n",
      "Epoch 138/500\n",
      "1620/1620 [==============================] - 0s 98us/step - loss: 0.0040 - max_diff: 0.2549 - min_diff: 0.0013 - val_loss: 0.0099 - val_max_diff: 0.3599 - val_min_diff: 7.4848e-04\n",
      "Epoch 139/500\n",
      "1620/1620 [==============================] - 0s 98us/step - loss: 0.0039 - max_diff: 0.2374 - min_diff: 0.0012 - val_loss: 0.0054 - val_max_diff: 0.2490 - val_min_diff: 0.0031\n",
      "Epoch 140/500\n",
      "1620/1620 [==============================] - 0s 100us/step - loss: 0.0039 - max_diff: 0.2213 - min_diff: 0.0014 - val_loss: 0.0042 - val_max_diff: 0.2281 - val_min_diff: 0.0014\n",
      "Epoch 141/500\n",
      "1620/1620 [==============================] - 0s 107us/step - loss: 0.0041 - max_diff: 0.2430 - min_diff: 0.0019 - val_loss: 0.0044 - val_max_diff: 0.2449 - val_min_diff: 3.7971e-04\n",
      "Epoch 142/500\n",
      "1620/1620 [==============================] - 0s 101us/step - loss: 0.0031 - max_diff: 0.2074 - min_diff: 0.0015 - val_loss: 0.0048 - val_max_diff: 0.2285 - val_min_diff: 0.0026\n",
      "Epoch 143/500\n",
      "1620/1620 [==============================] - 0s 99us/step - loss: 0.0036 - max_diff: 0.2332 - min_diff: 0.0013 - val_loss: 0.0051 - val_max_diff: 0.2753 - val_min_diff: 6.4840e-04\n",
      "Epoch 144/500\n",
      "1620/1620 [==============================] - 0s 96us/step - loss: 0.0039 - max_diff: 0.2199 - min_diff: 9.9834e-04 - val_loss: 0.0072 - val_max_diff: 0.3552 - val_min_diff: 0.0020\n",
      "Epoch 145/500\n",
      "1620/1620 [==============================] - 0s 99us/step - loss: 0.0038 - max_diff: 0.2239 - min_diff: 0.0020 - val_loss: 0.0053 - val_max_diff: 0.2677 - val_min_diff: 3.9811e-04\n",
      "Epoch 146/500\n",
      "1620/1620 [==============================] - 0s 102us/step - loss: 0.0039 - max_diff: 0.2308 - min_diff: 0.0012 - val_loss: 0.0048 - val_max_diff: 0.2379 - val_min_diff: 0.0012\n",
      "Epoch 147/500\n",
      "1620/1620 [==============================] - 0s 101us/step - loss: 0.0045 - max_diff: 0.2445 - min_diff: 0.0013 - val_loss: 0.0038 - val_max_diff: 0.2442 - val_min_diff: 0.0013\n",
      "Epoch 148/500\n",
      "1620/1620 [==============================] - 0s 104us/step - loss: 0.0033 - max_diff: 0.2177 - min_diff: 0.0011 - val_loss: 0.0078 - val_max_diff: 0.2804 - val_min_diff: 0.0015\n",
      "Epoch 149/500\n",
      "1620/1620 [==============================] - 0s 94us/step - loss: 0.0038 - max_diff: 0.2457 - min_diff: 0.0013 - val_loss: 0.0034 - val_max_diff: 0.2253 - val_min_diff: 6.4690e-04\n",
      "Epoch 150/500\n",
      "1620/1620 [==============================] - 0s 107us/step - loss: 0.0037 - max_diff: 0.2256 - min_diff: 0.0011 - val_loss: 0.0073 - val_max_diff: 0.2702 - val_min_diff: 0.0033\n",
      "Epoch 151/500\n",
      "1620/1620 [==============================] - 0s 101us/step - loss: 0.0036 - max_diff: 0.2177 - min_diff: 0.0010 - val_loss: 0.0062 - val_max_diff: 0.2930 - val_min_diff: 0.0012\n",
      "Epoch 152/500\n",
      "1620/1620 [==============================] - 0s 97us/step - loss: 0.0035 - max_diff: 0.2257 - min_diff: 0.0011 - val_loss: 0.0077 - val_max_diff: 0.3593 - val_min_diff: 2.4886e-04\n",
      "Epoch 153/500\n",
      "1620/1620 [==============================] - 0s 101us/step - loss: 0.0035 - max_diff: 0.2339 - min_diff: 0.0012 - val_loss: 0.0066 - val_max_diff: 0.3147 - val_min_diff: 5.1603e-04\n",
      "Epoch 154/500\n",
      "1620/1620 [==============================] - 0s 103us/step - loss: 0.0037 - max_diff: 0.2266 - min_diff: 0.0019 - val_loss: 0.0050 - val_max_diff: 0.2908 - val_min_diff: 0.0041\n",
      "Epoch 155/500\n",
      "1620/1620 [==============================] - 0s 95us/step - loss: 0.0038 - max_diff: 0.2172 - min_diff: 0.0013 - val_loss: 0.0048 - val_max_diff: 0.2621 - val_min_diff: 6.9641e-04\n",
      "Epoch 156/500\n",
      "1620/1620 [==============================] - 0s 104us/step - loss: 0.0032 - max_diff: 0.2155 - min_diff: 9.6848e-04 - val_loss: 0.0067 - val_max_diff: 0.3170 - val_min_diff: 0.0014\n",
      "Epoch 157/500\n",
      "1620/1620 [==============================] - 0s 98us/step - loss: 0.0042 - max_diff: 0.2373 - min_diff: 9.5087e-04 - val_loss: 0.0041 - val_max_diff: 0.2057 - val_min_diff: 3.2704e-04\n",
      "Epoch 158/500\n",
      "1620/1620 [==============================] - 0s 99us/step - loss: 0.0042 - max_diff: 0.2425 - min_diff: 0.0015 - val_loss: 0.0090 - val_max_diff: 0.3614 - val_min_diff: 0.0055\n",
      "Epoch 159/500\n",
      "1620/1620 [==============================] - 0s 101us/step - loss: 0.0036 - max_diff: 0.2297 - min_diff: 9.0026e-04 - val_loss: 0.0054 - val_max_diff: 0.2563 - val_min_diff: 0.0033\n",
      "Epoch 160/500\n",
      "1620/1620 [==============================] - 0s 94us/step - loss: 0.0035 - max_diff: 0.2198 - min_diff: 0.0012 - val_loss: 0.0037 - val_max_diff: 0.1878 - val_min_diff: 1.5722e-04\n",
      "Epoch 161/500\n",
      "1620/1620 [==============================] - 0s 95us/step - loss: 0.0032 - max_diff: 0.2059 - min_diff: 0.0010 - val_loss: 0.0073 - val_max_diff: 0.3468 - val_min_diff: 4.1297e-04\n",
      "Epoch 162/500\n",
      "1620/1620 [==============================] - 0s 99us/step - loss: 0.0040 - max_diff: 0.2324 - min_diff: 0.0012 - val_loss: 0.0067 - val_max_diff: 0.3631 - val_min_diff: 0.0015\n",
      "Epoch 163/500\n",
      "1620/1620 [==============================] - 0s 101us/step - loss: 0.0031 - max_diff: 0.1954 - min_diff: 0.0011 - val_loss: 0.0059 - val_max_diff: 0.2945 - val_min_diff: 8.7690e-04\n",
      "Epoch 164/500\n",
      "1620/1620 [==============================] - 0s 96us/step - loss: 0.0039 - max_diff: 0.2207 - min_diff: 0.0011 - val_loss: 0.0070 - val_max_diff: 0.2945 - val_min_diff: 0.0012\n",
      "Epoch 165/500\n",
      "1620/1620 [==============================] - 0s 105us/step - loss: 0.0038 - max_diff: 0.2408 - min_diff: 0.0013 - val_loss: 0.0069 - val_max_diff: 0.3156 - val_min_diff: 0.0031\n",
      "Epoch 166/500\n",
      "1620/1620 [==============================] - 0s 104us/step - loss: 0.0033 - max_diff: 0.2141 - min_diff: 0.0011 - val_loss: 0.0044 - val_max_diff: 0.2379 - val_min_diff: 6.3749e-04\n",
      "Epoch 167/500\n",
      "1620/1620 [==============================] - 0s 101us/step - loss: 0.0037 - max_diff: 0.2262 - min_diff: 0.0014 - val_loss: 0.0059 - val_max_diff: 0.2936 - val_min_diff: 0.0012\n",
      "Epoch 168/500\n",
      "1620/1620 [==============================] - 0s 97us/step - loss: 0.0035 - max_diff: 0.2049 - min_diff: 0.0012 - val_loss: 0.0051 - val_max_diff: 0.2315 - val_min_diff: 1.9419e-04\n",
      "Epoch 169/500\n",
      "1620/1620 [==============================] - 0s 104us/step - loss: 0.0030 - max_diff: 0.2069 - min_diff: 7.7009e-04 - val_loss: 0.0055 - val_max_diff: 0.2805 - val_min_diff: 0.0012\n",
      "Epoch 170/500\n",
      "1620/1620 [==============================] - 0s 104us/step - loss: 0.0031 - max_diff: 0.2185 - min_diff: 0.0010 - val_loss: 0.0055 - val_max_diff: 0.2689 - val_min_diff: 0.0011\n",
      "Epoch 171/500\n",
      "1620/1620 [==============================] - 0s 99us/step - loss: 0.0036 - max_diff: 0.2215 - min_diff: 0.0013 - val_loss: 0.0068 - val_max_diff: 0.3331 - val_min_diff: 6.6515e-04\n",
      "Epoch 172/500\n"
     ]
    },
    {
     "name": "stdout",
     "output_type": "stream",
     "text": [
      "1620/1620 [==============================] - 0s 102us/step - loss: 0.0034 - max_diff: 0.2321 - min_diff: 0.0011 - val_loss: 0.0043 - val_max_diff: 0.2531 - val_min_diff: 7.6649e-04\n",
      "Epoch 173/500\n",
      "1620/1620 [==============================] - 0s 99us/step - loss: 0.0038 - max_diff: 0.2234 - min_diff: 0.0016 - val_loss: 0.0054 - val_max_diff: 0.2748 - val_min_diff: 0.0015\n",
      "Epoch 174/500\n",
      "1620/1620 [==============================] - 0s 103us/step - loss: 0.0035 - max_diff: 0.2289 - min_diff: 0.0012 - val_loss: 0.0072 - val_max_diff: 0.3228 - val_min_diff: 0.0017\n",
      "Epoch 175/500\n",
      "1620/1620 [==============================] - 0s 101us/step - loss: 0.0035 - max_diff: 0.2182 - min_diff: 0.0016 - val_loss: 0.0052 - val_max_diff: 0.2538 - val_min_diff: 4.5313e-04\n",
      "Epoch 176/500\n",
      "1620/1620 [==============================] - 0s 102us/step - loss: 0.0033 - max_diff: 0.2200 - min_diff: 0.0011 - val_loss: 0.0062 - val_max_diff: 0.2785 - val_min_diff: 0.0020\n",
      "Epoch 177/500\n",
      "1620/1620 [==============================] - 0s 104us/step - loss: 0.0034 - max_diff: 0.2364 - min_diff: 0.0014 - val_loss: 0.0051 - val_max_diff: 0.2756 - val_min_diff: 6.4687e-04\n",
      "Epoch 178/500\n",
      "1620/1620 [==============================] - 0s 99us/step - loss: 0.0034 - max_diff: 0.2289 - min_diff: 9.6017e-04 - val_loss: 0.0036 - val_max_diff: 0.2348 - val_min_diff: 1.9658e-04\n",
      "Epoch 179/500\n",
      "1620/1620 [==============================] - 0s 100us/step - loss: 0.0033 - max_diff: 0.2140 - min_diff: 0.0011 - val_loss: 0.0076 - val_max_diff: 0.3399 - val_min_diff: 5.0702e-04\n",
      "Epoch 180/500\n",
      "1620/1620 [==============================] - 0s 101us/step - loss: 0.0031 - max_diff: 0.2068 - min_diff: 8.5066e-04 - val_loss: 0.0040 - val_max_diff: 0.2330 - val_min_diff: 2.1234e-04\n",
      "Epoch 181/500\n",
      "1620/1620 [==============================] - 0s 97us/step - loss: 0.0028 - max_diff: 0.2025 - min_diff: 7.6287e-04 - val_loss: 0.0051 - val_max_diff: 0.2324 - val_min_diff: 0.0023\n",
      "Epoch 182/500\n",
      "1620/1620 [==============================] - 0s 100us/step - loss: 0.0032 - max_diff: 0.2271 - min_diff: 0.0011 - val_loss: 0.0060 - val_max_diff: 0.3338 - val_min_diff: 3.6502e-04\n",
      "Epoch 183/500\n",
      "1620/1620 [==============================] - 0s 104us/step - loss: 0.0034 - max_diff: 0.2310 - min_diff: 8.2161e-04 - val_loss: 0.0036 - val_max_diff: 0.2539 - val_min_diff: 0.0011\n",
      "Epoch 184/500\n",
      "1620/1620 [==============================] - 0s 100us/step - loss: 0.0033 - max_diff: 0.2142 - min_diff: 0.0016 - val_loss: 0.0055 - val_max_diff: 0.2803 - val_min_diff: 1.6877e-04\n",
      "Epoch 185/500\n",
      "1620/1620 [==============================] - 0s 99us/step - loss: 0.0030 - max_diff: 0.1937 - min_diff: 0.0013 - val_loss: 0.0032 - val_max_diff: 0.1996 - val_min_diff: 0.0016\n",
      "Epoch 186/500\n",
      "1620/1620 [==============================] - 0s 102us/step - loss: 0.0033 - max_diff: 0.2250 - min_diff: 0.0011 - val_loss: 0.0050 - val_max_diff: 0.2751 - val_min_diff: 3.6726e-04\n",
      "Epoch 187/500\n",
      "1620/1620 [==============================] - 0s 98us/step - loss: 0.0031 - max_diff: 0.2019 - min_diff: 0.0011 - val_loss: 0.0064 - val_max_diff: 0.3078 - val_min_diff: 0.0045\n",
      "Epoch 188/500\n",
      "1620/1620 [==============================] - 0s 103us/step - loss: 0.0035 - max_diff: 0.2265 - min_diff: 0.0013 - val_loss: 0.0057 - val_max_diff: 0.2612 - val_min_diff: 7.0197e-04\n",
      "Epoch 189/500\n",
      "1620/1620 [==============================] - 0s 98us/step - loss: 0.0031 - max_diff: 0.2276 - min_diff: 9.0436e-04 - val_loss: 0.0046 - val_max_diff: 0.2297 - val_min_diff: 0.0020\n",
      "Epoch 190/500\n",
      "1620/1620 [==============================] - 0s 101us/step - loss: 0.0032 - max_diff: 0.2251 - min_diff: 0.0012 - val_loss: 0.0041 - val_max_diff: 0.2415 - val_min_diff: 5.1886e-04\n",
      "Epoch 191/500\n",
      "1620/1620 [==============================] - 0s 93us/step - loss: 0.0034 - max_diff: 0.2173 - min_diff: 0.0012 - val_loss: 0.0087 - val_max_diff: 0.4031 - val_min_diff: 6.6355e-04\n",
      "Epoch 192/500\n",
      "1620/1620 [==============================] - 0s 99us/step - loss: 0.0031 - max_diff: 0.2125 - min_diff: 0.0012 - val_loss: 0.0049 - val_max_diff: 0.2849 - val_min_diff: 2.7238e-04\n",
      "Epoch 193/500\n",
      "1620/1620 [==============================] - 0s 103us/step - loss: 0.0035 - max_diff: 0.2243 - min_diff: 0.0013 - val_loss: 0.0059 - val_max_diff: 0.2872 - val_min_diff: 3.9186e-04\n",
      "Epoch 194/500\n",
      "1620/1620 [==============================] - 0s 105us/step - loss: 0.0030 - max_diff: 0.2110 - min_diff: 0.0011 - val_loss: 0.0046 - val_max_diff: 0.2546 - val_min_diff: 2.2517e-04\n",
      "Epoch 195/500\n",
      "1620/1620 [==============================] - 0s 110us/step - loss: 0.0031 - max_diff: 0.2028 - min_diff: 9.3716e-04 - val_loss: 0.0072 - val_max_diff: 0.2929 - val_min_diff: 0.0023\n",
      "Epoch 196/500\n",
      "1620/1620 [==============================] - 0s 104us/step - loss: 0.0034 - max_diff: 0.2201 - min_diff: 0.0015 - val_loss: 0.0041 - val_max_diff: 0.2675 - val_min_diff: 0.0033\n",
      "Epoch 197/500\n",
      "1620/1620 [==============================] - 0s 101us/step - loss: 0.0026 - max_diff: 0.1840 - min_diff: 8.9267e-04 - val_loss: 0.0056 - val_max_diff: 0.2621 - val_min_diff: 0.0011\n",
      "Epoch 198/500\n",
      "1620/1620 [==============================] - 0s 98us/step - loss: 0.0029 - max_diff: 0.2118 - min_diff: 9.6361e-04 - val_loss: 0.0075 - val_max_diff: 0.3100 - val_min_diff: 5.1958e-04\n",
      "Epoch 199/500\n",
      "1620/1620 [==============================] - 0s 96us/step - loss: 0.0034 - max_diff: 0.2084 - min_diff: 0.0014 - val_loss: 0.0035 - val_max_diff: 0.2007 - val_min_diff: 9.9902e-04\n",
      "Epoch 200/500\n",
      "1620/1620 [==============================] - 0s 97us/step - loss: 0.0032 - max_diff: 0.2131 - min_diff: 0.0013 - val_loss: 0.0038 - val_max_diff: 0.2485 - val_min_diff: 6.8485e-04\n",
      "Epoch 201/500\n",
      "1620/1620 [==============================] - 0s 99us/step - loss: 0.0032 - max_diff: 0.2131 - min_diff: 0.0012 - val_loss: 0.0063 - val_max_diff: 0.2872 - val_min_diff: 0.0016\n",
      "Epoch 202/500\n",
      "1620/1620 [==============================] - 0s 97us/step - loss: 0.0025 - max_diff: 0.1902 - min_diff: 0.0011 - val_loss: 0.0074 - val_max_diff: 0.2915 - val_min_diff: 0.0031\n",
      "Epoch 203/500\n",
      "1620/1620 [==============================] - 0s 99us/step - loss: 0.0029 - max_diff: 0.2075 - min_diff: 0.0012 - val_loss: 0.0043 - val_max_diff: 0.2518 - val_min_diff: 6.3122e-04\n",
      "Epoch 204/500\n",
      "1620/1620 [==============================] - 0s 104us/step - loss: 0.0031 - max_diff: 0.2201 - min_diff: 0.0011 - val_loss: 0.0085 - val_max_diff: 0.3399 - val_min_diff: 0.0022\n",
      "Epoch 205/500\n",
      "1620/1620 [==============================] - 0s 94us/step - loss: 0.0032 - max_diff: 0.2129 - min_diff: 0.0010 - val_loss: 0.0028 - val_max_diff: 0.1992 - val_min_diff: 2.1160e-04\n",
      "Epoch 206/500\n",
      "1620/1620 [==============================] - 0s 101us/step - loss: 0.0032 - max_diff: 0.2202 - min_diff: 0.0011 - val_loss: 0.0036 - val_max_diff: 0.2284 - val_min_diff: 0.0017\n",
      "Epoch 207/500\n",
      "1620/1620 [==============================] - 0s 102us/step - loss: 0.0034 - max_diff: 0.2381 - min_diff: 0.0011 - val_loss: 0.0047 - val_max_diff: 0.2798 - val_min_diff: 5.7192e-04\n",
      "Epoch 208/500\n",
      "1620/1620 [==============================] - 0s 104us/step - loss: 0.0029 - max_diff: 0.2144 - min_diff: 0.0015 - val_loss: 0.0034 - val_max_diff: 0.2515 - val_min_diff: 1.5487e-04\n",
      "Epoch 209/500\n",
      "1620/1620 [==============================] - 0s 99us/step - loss: 0.0032 - max_diff: 0.2131 - min_diff: 0.0010 - val_loss: 0.0048 - val_max_diff: 0.2609 - val_min_diff: 3.2402e-04\n",
      "Epoch 210/500\n",
      "1620/1620 [==============================] - 0s 98us/step - loss: 0.0032 - max_diff: 0.2258 - min_diff: 8.7021e-04 - val_loss: 0.0070 - val_max_diff: 0.3565 - val_min_diff: 4.2348e-04\n",
      "Epoch 211/500\n",
      "1620/1620 [==============================] - 0s 104us/step - loss: 0.0034 - max_diff: 0.2293 - min_diff: 6.4899e-04 - val_loss: 0.0044 - val_max_diff: 0.2460 - val_min_diff: 0.0037\n",
      "Epoch 212/500\n",
      "1620/1620 [==============================] - 0s 95us/step - loss: 0.0030 - max_diff: 0.2061 - min_diff: 6.6076e-04 - val_loss: 0.0036 - val_max_diff: 0.2336 - val_min_diff: 0.0041\n",
      "Epoch 213/500\n",
      "1620/1620 [==============================] - 0s 98us/step - loss: 0.0033 - max_diff: 0.2291 - min_diff: 9.0554e-04 - val_loss: 0.0067 - val_max_diff: 0.3149 - val_min_diff: 6.0949e-04\n",
      "Epoch 214/500\n"
     ]
    },
    {
     "name": "stdout",
     "output_type": "stream",
     "text": [
      "1620/1620 [==============================] - 0s 106us/step - loss: 0.0033 - max_diff: 0.2259 - min_diff: 8.9882e-04 - val_loss: 0.0043 - val_max_diff: 0.2398 - val_min_diff: 5.4146e-04\n",
      "Epoch 215/500\n",
      "1620/1620 [==============================] - 0s 100us/step - loss: 0.0030 - max_diff: 0.2083 - min_diff: 7.8955e-04 - val_loss: 0.0051 - val_max_diff: 0.2629 - val_min_diff: 0.0020\n",
      "Epoch 216/500\n",
      "1620/1620 [==============================] - 0s 99us/step - loss: 0.0028 - max_diff: 0.2073 - min_diff: 0.0010 - val_loss: 0.0037 - val_max_diff: 0.1896 - val_min_diff: 1.5054e-04\n",
      "Epoch 217/500\n",
      "1620/1620 [==============================] - 0s 102us/step - loss: 0.0029 - max_diff: 0.2015 - min_diff: 0.0013 - val_loss: 0.0056 - val_max_diff: 0.2463 - val_min_diff: 2.1031e-04\n",
      "Epoch 218/500\n",
      "1620/1620 [==============================] - 0s 106us/step - loss: 0.0036 - max_diff: 0.2230 - min_diff: 0.0012 - val_loss: 0.0030 - val_max_diff: 0.2135 - val_min_diff: 7.9737e-04\n",
      "Epoch 219/500\n",
      "1620/1620 [==============================] - 0s 99us/step - loss: 0.0027 - max_diff: 0.1916 - min_diff: 0.0012 - val_loss: 0.0058 - val_max_diff: 0.2858 - val_min_diff: 7.5934e-05\n",
      "Epoch 220/500\n",
      "1620/1620 [==============================] - 0s 105us/step - loss: 0.0028 - max_diff: 0.1998 - min_diff: 0.0011 - val_loss: 0.0069 - val_max_diff: 0.3127 - val_min_diff: 0.0028\n",
      "Epoch 221/500\n",
      "1620/1620 [==============================] - 0s 105us/step - loss: 0.0031 - max_diff: 0.2121 - min_diff: 8.5564e-04 - val_loss: 0.0051 - val_max_diff: 0.2651 - val_min_diff: 2.1519e-04\n",
      "Epoch 222/500\n",
      "1620/1620 [==============================] - 0s 98us/step - loss: 0.0030 - max_diff: 0.2001 - min_diff: 0.0012 - val_loss: 0.0063 - val_max_diff: 0.3329 - val_min_diff: 5.5872e-04\n",
      "Epoch 223/500\n",
      "1620/1620 [==============================] - 0s 95us/step - loss: 0.0030 - max_diff: 0.1951 - min_diff: 9.9797e-04 - val_loss: 0.0071 - val_max_diff: 0.3575 - val_min_diff: 0.0028\n",
      "Epoch 224/500\n",
      "1620/1620 [==============================] - 0s 98us/step - loss: 0.0028 - max_diff: 0.2028 - min_diff: 8.8534e-04 - val_loss: 0.0056 - val_max_diff: 0.2951 - val_min_diff: 2.0802e-04\n",
      "Epoch 225/500\n",
      "1620/1620 [==============================] - 0s 96us/step - loss: 0.0029 - max_diff: 0.1887 - min_diff: 8.7768e-04 - val_loss: 0.0068 - val_max_diff: 0.3333 - val_min_diff: 1.7049e-04\n",
      "Epoch 226/500\n",
      "1620/1620 [==============================] - 0s 103us/step - loss: 0.0027 - max_diff: 0.2042 - min_diff: 7.5448e-04 - val_loss: 0.0048 - val_max_diff: 0.2747 - val_min_diff: 0.0040\n",
      "Epoch 227/500\n",
      "1620/1620 [==============================] - 0s 94us/step - loss: 0.0027 - max_diff: 0.2052 - min_diff: 8.4737e-04 - val_loss: 0.0038 - val_max_diff: 0.2600 - val_min_diff: 0.0017\n",
      "Epoch 228/500\n",
      "1620/1620 [==============================] - 0s 102us/step - loss: 0.0031 - max_diff: 0.2169 - min_diff: 0.0012 - val_loss: 0.0040 - val_max_diff: 0.2341 - val_min_diff: 4.0817e-04\n",
      "Epoch 229/500\n",
      "1620/1620 [==============================] - 0s 103us/step - loss: 0.0027 - max_diff: 0.1987 - min_diff: 6.9996e-04 - val_loss: 0.0061 - val_max_diff: 0.3379 - val_min_diff: 0.0016\n",
      "Epoch 230/500\n",
      "1620/1620 [==============================] - 0s 96us/step - loss: 0.0030 - max_diff: 0.2067 - min_diff: 9.8828e-04 - val_loss: 0.0046 - val_max_diff: 0.2114 - val_min_diff: 0.0019\n",
      "Epoch 231/500\n",
      "1620/1620 [==============================] - 0s 106us/step - loss: 0.0025 - max_diff: 0.1909 - min_diff: 6.5514e-04 - val_loss: 0.0046 - val_max_diff: 0.2335 - val_min_diff: 0.0010\n",
      "Epoch 232/500\n",
      "1620/1620 [==============================] - 0s 104us/step - loss: 0.0029 - max_diff: 0.2006 - min_diff: 7.9399e-04 - val_loss: 0.0022 - val_max_diff: 0.1516 - val_min_diff: 7.3015e-04\n",
      "Epoch 233/500\n",
      "1620/1620 [==============================] - 0s 104us/step - loss: 0.0030 - max_diff: 0.2045 - min_diff: 9.6457e-04 - val_loss: 0.0031 - val_max_diff: 0.1731 - val_min_diff: 2.2130e-04\n",
      "Epoch 234/500\n",
      "1620/1620 [==============================] - 0s 99us/step - loss: 0.0035 - max_diff: 0.2172 - min_diff: 8.2141e-04 - val_loss: 0.0037 - val_max_diff: 0.2011 - val_min_diff: 0.0012\n",
      "Epoch 235/500\n",
      "1620/1620 [==============================] - 0s 98us/step - loss: 0.0029 - max_diff: 0.1949 - min_diff: 9.1538e-04 - val_loss: 0.0062 - val_max_diff: 0.3182 - val_min_diff: 0.0027\n",
      "Epoch 236/500\n",
      "1620/1620 [==============================] - 0s 99us/step - loss: 0.0029 - max_diff: 0.2112 - min_diff: 0.0011 - val_loss: 0.0032 - val_max_diff: 0.2330 - val_min_diff: 0.0012\n",
      "Epoch 237/500\n",
      "1620/1620 [==============================] - 0s 94us/step - loss: 0.0032 - max_diff: 0.2243 - min_diff: 0.0010 - val_loss: 0.0048 - val_max_diff: 0.2578 - val_min_diff: 5.2818e-04\n",
      "Epoch 238/500\n",
      "1620/1620 [==============================] - 0s 104us/step - loss: 0.0028 - max_diff: 0.2042 - min_diff: 9.0511e-04 - val_loss: 0.0046 - val_max_diff: 0.2577 - val_min_diff: 1.3469e-04\n",
      "Epoch 239/500\n",
      "1620/1620 [==============================] - 0s 117us/step - loss: 0.0026 - max_diff: 0.1845 - min_diff: 0.0010 - val_loss: 0.0034 - val_max_diff: 0.2317 - val_min_diff: 0.0034\n",
      "Epoch 240/500\n",
      "1620/1620 [==============================] - 0s 117us/step - loss: 0.0021 - max_diff: 0.1740 - min_diff: 6.8996e-04 - val_loss: 0.0057 - val_max_diff: 0.2439 - val_min_diff: 0.0022\n",
      "Epoch 241/500\n",
      "1620/1620 [==============================] - 0s 110us/step - loss: 0.0032 - max_diff: 0.2275 - min_diff: 0.0010 - val_loss: 0.0055 - val_max_diff: 0.2815 - val_min_diff: 4.8008e-04\n",
      "Epoch 242/500\n",
      "1620/1620 [==============================] - 0s 101us/step - loss: 0.0027 - max_diff: 0.2057 - min_diff: 8.1296e-04 - val_loss: 0.0021 - val_max_diff: 0.1913 - val_min_diff: 4.7393e-04\n",
      "Epoch 243/500\n",
      "1620/1620 [==============================] - 0s 100us/step - loss: 0.0032 - max_diff: 0.2360 - min_diff: 6.5664e-04 - val_loss: 0.0035 - val_max_diff: 0.2209 - val_min_diff: 5.5438e-04\n",
      "Epoch 244/500\n",
      "1620/1620 [==============================] - 0s 97us/step - loss: 0.0028 - max_diff: 0.1821 - min_diff: 8.8330e-04 - val_loss: 0.0054 - val_max_diff: 0.2350 - val_min_diff: 9.8936e-04\n",
      "Epoch 245/500\n",
      "1620/1620 [==============================] - 0s 99us/step - loss: 0.0030 - max_diff: 0.2249 - min_diff: 8.8602e-04 - val_loss: 0.0031 - val_max_diff: 0.2076 - val_min_diff: 0.0048\n",
      "Epoch 246/500\n",
      "1620/1620 [==============================] - 0s 95us/step - loss: 0.0031 - max_diff: 0.2049 - min_diff: 9.5331e-04 - val_loss: 0.0030 - val_max_diff: 0.2004 - val_min_diff: 0.0019\n",
      "Epoch 247/500\n",
      "1620/1620 [==============================] - 0s 98us/step - loss: 0.0029 - max_diff: 0.2035 - min_diff: 8.8431e-04 - val_loss: 0.0056 - val_max_diff: 0.2597 - val_min_diff: 0.0015\n",
      "Epoch 248/500\n",
      "1620/1620 [==============================] - 0s 102us/step - loss: 0.0027 - max_diff: 0.1951 - min_diff: 8.3678e-04 - val_loss: 0.0057 - val_max_diff: 0.2363 - val_min_diff: 0.0031\n",
      "Epoch 249/500\n",
      "1620/1620 [==============================] - 0s 97us/step - loss: 0.0028 - max_diff: 0.2032 - min_diff: 7.2281e-04 - val_loss: 0.0047 - val_max_diff: 0.2729 - val_min_diff: 0.0018\n",
      "Epoch 250/500\n",
      "1620/1620 [==============================] - 0s 94us/step - loss: 0.0031 - max_diff: 0.1940 - min_diff: 0.0012 - val_loss: 0.0020 - val_max_diff: 0.1944 - val_min_diff: 3.7118e-04\n",
      "Epoch 251/500\n",
      "1620/1620 [==============================] - 0s 97us/step - loss: 0.0031 - max_diff: 0.2033 - min_diff: 0.0013 - val_loss: 0.0042 - val_max_diff: 0.2420 - val_min_diff: 5.7396e-04\n",
      "Epoch 252/500\n",
      "1620/1620 [==============================] - 0s 103us/step - loss: 0.0028 - max_diff: 0.1984 - min_diff: 7.5729e-04 - val_loss: 0.0046 - val_max_diff: 0.2836 - val_min_diff: 9.7454e-04\n",
      "Epoch 253/500\n",
      "1620/1620 [==============================] - 0s 94us/step - loss: 0.0027 - max_diff: 0.2067 - min_diff: 8.7538e-04 - val_loss: 0.0051 - val_max_diff: 0.2479 - val_min_diff: 0.0024\n",
      "Epoch 254/500\n",
      "1620/1620 [==============================] - 0s 102us/step - loss: 0.0024 - max_diff: 0.1904 - min_diff: 9.1276e-04 - val_loss: 0.0055 - val_max_diff: 0.3372 - val_min_diff: 0.0010\n",
      "Epoch 255/500\n",
      "1620/1620 [==============================] - 0s 103us/step - loss: 0.0030 - max_diff: 0.2229 - min_diff: 6.9352e-04 - val_loss: 0.0026 - val_max_diff: 0.2083 - val_min_diff: 1.8833e-04\n",
      "Epoch 256/500\n"
     ]
    },
    {
     "name": "stdout",
     "output_type": "stream",
     "text": [
      "1620/1620 [==============================] - 0s 96us/step - loss: 0.0028 - max_diff: 0.1995 - min_diff: 9.4641e-04 - val_loss: 0.0036 - val_max_diff: 0.2351 - val_min_diff: 1.6783e-04\n",
      "Epoch 257/500\n",
      "1620/1620 [==============================] - 0s 96us/step - loss: 0.0023 - max_diff: 0.1892 - min_diff: 7.1895e-04 - val_loss: 0.0057 - val_max_diff: 0.3168 - val_min_diff: 7.0707e-04\n",
      "Epoch 258/500\n",
      "1620/1620 [==============================] - 0s 96us/step - loss: 0.0029 - max_diff: 0.2132 - min_diff: 0.0012 - val_loss: 0.0036 - val_max_diff: 0.2495 - val_min_diff: 4.9952e-04\n",
      "Epoch 259/500\n",
      "1620/1620 [==============================] - 0s 95us/step - loss: 0.0027 - max_diff: 0.2001 - min_diff: 9.5858e-04 - val_loss: 0.0032 - val_max_diff: 0.1801 - val_min_diff: 0.0050\n",
      "Epoch 260/500\n",
      "1620/1620 [==============================] - 0s 101us/step - loss: 0.0023 - max_diff: 0.1795 - min_diff: 6.7128e-04 - val_loss: 0.0039 - val_max_diff: 0.2717 - val_min_diff: 7.4175e-04\n",
      "Epoch 261/500\n",
      "1620/1620 [==============================] - 0s 96us/step - loss: 0.0027 - max_diff: 0.1952 - min_diff: 0.0011 - val_loss: 0.0021 - val_max_diff: 0.1750 - val_min_diff: 0.0014\n",
      "Epoch 262/500\n",
      "1620/1620 [==============================] - 0s 106us/step - loss: 0.0023 - max_diff: 0.1773 - min_diff: 6.2545e-04 - val_loss: 0.0037 - val_max_diff: 0.1922 - val_min_diff: 7.9345e-04\n",
      "Epoch 263/500\n",
      "1620/1620 [==============================] - 0s 94us/step - loss: 0.0023 - max_diff: 0.1763 - min_diff: 8.1334e-04 - val_loss: 0.0026 - val_max_diff: 0.1918 - val_min_diff: 8.5364e-04\n",
      "Epoch 264/500\n",
      "1620/1620 [==============================] - 0s 95us/step - loss: 0.0027 - max_diff: 0.2125 - min_diff: 9.3740e-04 - val_loss: 0.0044 - val_max_diff: 0.2298 - val_min_diff: 2.2706e-04\n",
      "Epoch 265/500\n",
      "1620/1620 [==============================] - 0s 97us/step - loss: 0.0026 - max_diff: 0.1887 - min_diff: 9.8395e-04 - val_loss: 0.0027 - val_max_diff: 0.2325 - val_min_diff: 0.0015\n",
      "Epoch 266/500\n",
      "1620/1620 [==============================] - 0s 108us/step - loss: 0.0026 - max_diff: 0.1990 - min_diff: 8.9757e-04 - val_loss: 0.0037 - val_max_diff: 0.2201 - val_min_diff: 6.7774e-04\n",
      "Epoch 267/500\n",
      "1620/1620 [==============================] - 0s 102us/step - loss: 0.0030 - max_diff: 0.2103 - min_diff: 0.0011 - val_loss: 0.0046 - val_max_diff: 0.2590 - val_min_diff: 3.7595e-04\n",
      "Epoch 268/500\n",
      "1620/1620 [==============================] - 0s 103us/step - loss: 0.0028 - max_diff: 0.2007 - min_diff: 9.9140e-04 - val_loss: 0.0043 - val_max_diff: 0.2251 - val_min_diff: 1.0935e-04\n",
      "Epoch 269/500\n",
      "1620/1620 [==============================] - 0s 98us/step - loss: 0.0023 - max_diff: 0.1725 - min_diff: 9.1135e-04 - val_loss: 0.0027 - val_max_diff: 0.1977 - val_min_diff: 7.4234e-04\n",
      "Epoch 270/500\n",
      "1620/1620 [==============================] - 0s 100us/step - loss: 0.0029 - max_diff: 0.2126 - min_diff: 8.6144e-04 - val_loss: 0.0063 - val_max_diff: 0.2950 - val_min_diff: 0.0014\n",
      "Epoch 271/500\n",
      "1620/1620 [==============================] - 0s 103us/step - loss: 0.0028 - max_diff: 0.2084 - min_diff: 9.8871e-04 - val_loss: 0.0038 - val_max_diff: 0.2777 - val_min_diff: 2.5759e-04\n",
      "Epoch 272/500\n",
      "1620/1620 [==============================] - 0s 103us/step - loss: 0.0022 - max_diff: 0.1780 - min_diff: 5.2084e-04 - val_loss: 0.0027 - val_max_diff: 0.2119 - val_min_diff: 2.0271e-04\n",
      "Epoch 273/500\n",
      "1620/1620 [==============================] - 0s 96us/step - loss: 0.0024 - max_diff: 0.1835 - min_diff: 9.8753e-04 - val_loss: 0.0045 - val_max_diff: 0.2715 - val_min_diff: 0.0020\n",
      "Epoch 274/500\n",
      "1620/1620 [==============================] - 0s 99us/step - loss: 0.0026 - max_diff: 0.1902 - min_diff: 0.0010 - val_loss: 0.0037 - val_max_diff: 0.2462 - val_min_diff: 3.4560e-04\n",
      "Epoch 275/500\n",
      "1620/1620 [==============================] - 0s 101us/step - loss: 0.0026 - max_diff: 0.1834 - min_diff: 8.3528e-04 - val_loss: 0.0025 - val_max_diff: 0.1728 - val_min_diff: 3.7091e-04\n",
      "Epoch 276/500\n",
      "1620/1620 [==============================] - 0s 98us/step - loss: 0.0023 - max_diff: 0.1862 - min_diff: 6.5497e-04 - val_loss: 0.0057 - val_max_diff: 0.2869 - val_min_diff: 0.0012\n",
      "Epoch 277/500\n",
      "1620/1620 [==============================] - 0s 103us/step - loss: 0.0027 - max_diff: 0.1966 - min_diff: 9.1969e-04 - val_loss: 0.0067 - val_max_diff: 0.3215 - val_min_diff: 7.6821e-04\n",
      "Epoch 278/500\n",
      "1620/1620 [==============================] - 0s 99us/step - loss: 0.0021 - max_diff: 0.1827 - min_diff: 6.7554e-04 - val_loss: 0.0079 - val_max_diff: 0.3221 - val_min_diff: 7.3586e-04\n",
      "Epoch 279/500\n",
      "1620/1620 [==============================] - 0s 102us/step - loss: 0.0030 - max_diff: 0.2188 - min_diff: 0.0012 - val_loss: 0.0053 - val_max_diff: 0.2735 - val_min_diff: 8.4316e-04\n",
      "Epoch 280/500\n",
      "1620/1620 [==============================] - 0s 103us/step - loss: 0.0025 - max_diff: 0.1905 - min_diff: 6.5391e-04 - val_loss: 0.0038 - val_max_diff: 0.2316 - val_min_diff: 1.6330e-04\n",
      "Epoch 281/500\n",
      "1620/1620 [==============================] - 0s 104us/step - loss: 0.0022 - max_diff: 0.1895 - min_diff: 8.1693e-04 - val_loss: 0.0046 - val_max_diff: 0.2676 - val_min_diff: 3.6987e-04\n",
      "Epoch 282/500\n",
      "1620/1620 [==============================] - 0s 108us/step - loss: 0.0028 - max_diff: 0.1922 - min_diff: 0.0012 - val_loss: 0.0023 - val_max_diff: 0.1700 - val_min_diff: 2.2786e-04\n",
      "Epoch 283/500\n",
      "1620/1620 [==============================] - 0s 103us/step - loss: 0.0023 - max_diff: 0.1827 - min_diff: 5.8100e-04 - val_loss: 0.0042 - val_max_diff: 0.2831 - val_min_diff: 7.8743e-04\n",
      "Epoch 284/500\n",
      "1620/1620 [==============================] - 0s 99us/step - loss: 0.0032 - max_diff: 0.2100 - min_diff: 0.0011 - val_loss: 0.0034 - val_max_diff: 0.2211 - val_min_diff: 6.8640e-05\n",
      "Epoch 285/500\n",
      "1620/1620 [==============================] - 0s 100us/step - loss: 0.0020 - max_diff: 0.1737 - min_diff: 7.0298e-04 - val_loss: 0.0060 - val_max_diff: 0.2849 - val_min_diff: 0.0013\n",
      "Epoch 286/500\n",
      "1620/1620 [==============================] - 0s 102us/step - loss: 0.0028 - max_diff: 0.2071 - min_diff: 4.7174e-04 - val_loss: 0.0030 - val_max_diff: 0.1948 - val_min_diff: 0.0062\n",
      "Epoch 287/500\n",
      "1620/1620 [==============================] - 0s 99us/step - loss: 0.0028 - max_diff: 0.2014 - min_diff: 0.0010 - val_loss: 0.0051 - val_max_diff: 0.2544 - val_min_diff: 2.3336e-04\n",
      "Epoch 288/500\n",
      "1620/1620 [==============================] - 0s 98us/step - loss: 0.0027 - max_diff: 0.1999 - min_diff: 7.4811e-04 - val_loss: 0.0035 - val_max_diff: 0.2382 - val_min_diff: 2.1027e-04\n",
      "Epoch 289/500\n",
      "1620/1620 [==============================] - 0s 96us/step - loss: 0.0022 - max_diff: 0.1827 - min_diff: 9.8463e-04 - val_loss: 0.0040 - val_max_diff: 0.2652 - val_min_diff: 8.8014e-04\n",
      "Epoch 290/500\n",
      "1620/1620 [==============================] - 0s 85us/step - loss: 0.0024 - max_diff: 0.1828 - min_diff: 5.8530e-04 - val_loss: 0.0034 - val_max_diff: 0.2386 - val_min_diff: 0.0015\n",
      "Epoch 291/500\n",
      "1620/1620 [==============================] - 0s 95us/step - loss: 0.0025 - max_diff: 0.1989 - min_diff: 7.7110e-04 - val_loss: 0.0025 - val_max_diff: 0.1530 - val_min_diff: 3.2590e-04\n",
      "Epoch 292/500\n",
      "1620/1620 [==============================] - 0s 93us/step - loss: 0.0022 - max_diff: 0.1738 - min_diff: 5.6456e-04 - val_loss: 0.0109 - val_max_diff: 0.3741 - val_min_diff: 0.0084\n",
      "Epoch 293/500\n",
      "1620/1620 [==============================] - 0s 100us/step - loss: 0.0025 - max_diff: 0.2009 - min_diff: 8.1582e-04 - val_loss: 0.0040 - val_max_diff: 0.2647 - val_min_diff: 0.0014\n",
      "Epoch 294/500\n",
      "1620/1620 [==============================] - 0s 100us/step - loss: 0.0021 - max_diff: 0.1694 - min_diff: 5.9722e-04 - val_loss: 0.0045 - val_max_diff: 0.2634 - val_min_diff: 3.4877e-04\n",
      "Epoch 295/500\n",
      "1620/1620 [==============================] - 0s 95us/step - loss: 0.0026 - max_diff: 0.1970 - min_diff: 0.0011 - val_loss: 0.0032 - val_max_diff: 0.2584 - val_min_diff: 6.0017e-04\n",
      "Epoch 296/500\n",
      "1620/1620 [==============================] - 0s 96us/step - loss: 0.0020 - max_diff: 0.1757 - min_diff: 5.2932e-04 - val_loss: 0.0028 - val_max_diff: 0.2244 - val_min_diff: 4.0902e-04\n",
      "Epoch 297/500\n",
      "1620/1620 [==============================] - 0s 108us/step - loss: 0.0026 - max_diff: 0.2011 - min_diff: 0.0011 - val_loss: 0.0056 - val_max_diff: 0.2881 - val_min_diff: 6.0401e-04\n"
     ]
    },
    {
     "name": "stdout",
     "output_type": "stream",
     "text": [
      "Epoch 298/500\n",
      "1620/1620 [==============================] - 0s 94us/step - loss: 0.0025 - max_diff: 0.1965 - min_diff: 6.0069e-04 - val_loss: 0.0063 - val_max_diff: 0.2768 - val_min_diff: 5.1447e-05\n",
      "Epoch 299/500\n",
      "1620/1620 [==============================] - 0s 99us/step - loss: 0.0024 - max_diff: 0.1856 - min_diff: 5.9130e-04 - val_loss: 0.0049 - val_max_diff: 0.2844 - val_min_diff: 7.6992e-04\n",
      "Epoch 300/500\n",
      "1620/1620 [==============================] - 0s 99us/step - loss: 0.0026 - max_diff: 0.1966 - min_diff: 7.8864e-04 - val_loss: 0.0072 - val_max_diff: 0.3482 - val_min_diff: 0.0011\n",
      "Epoch 301/500\n",
      "1620/1620 [==============================] - 0s 96us/step - loss: 0.0023 - max_diff: 0.1837 - min_diff: 6.6407e-04 - val_loss: 0.0076 - val_max_diff: 0.3543 - val_min_diff: 4.4658e-04\n",
      "Epoch 302/500\n",
      "1620/1620 [==============================] - 0s 104us/step - loss: 0.0029 - max_diff: 0.2191 - min_diff: 0.0010 - val_loss: 0.0034 - val_max_diff: 0.2166 - val_min_diff: 6.0119e-04\n",
      "Epoch 303/500\n",
      "1620/1620 [==============================] - 0s 95us/step - loss: 0.0022 - max_diff: 0.1959 - min_diff: 6.3631e-04 - val_loss: 0.0034 - val_max_diff: 0.2190 - val_min_diff: 6.2938e-04\n",
      "Epoch 304/500\n",
      "1620/1620 [==============================] - 0s 106us/step - loss: 0.0023 - max_diff: 0.1795 - min_diff: 7.9269e-04 - val_loss: 0.0062 - val_max_diff: 0.2852 - val_min_diff: 3.6526e-04\n",
      "Epoch 305/500\n",
      "1620/1620 [==============================] - 0s 105us/step - loss: 0.0025 - max_diff: 0.1903 - min_diff: 6.8123e-04 - val_loss: 0.0054 - val_max_diff: 0.3127 - val_min_diff: 1.4370e-04\n",
      "Epoch 306/500\n",
      "1620/1620 [==============================] - 0s 99us/step - loss: 0.0023 - max_diff: 0.1753 - min_diff: 6.8828e-04 - val_loss: 0.0078 - val_max_diff: 0.3262 - val_min_diff: 0.0056\n",
      "Epoch 307/500\n",
      "1620/1620 [==============================] - 0s 102us/step - loss: 0.0026 - max_diff: 0.1951 - min_diff: 7.5397e-04 - val_loss: 0.0084 - val_max_diff: 0.3615 - val_min_diff: 0.0044\n",
      "Epoch 308/500\n",
      "1620/1620 [==============================] - 0s 101us/step - loss: 0.0025 - max_diff: 0.1993 - min_diff: 9.3597e-04 - val_loss: 0.0039 - val_max_diff: 0.2261 - val_min_diff: 4.7397e-04\n",
      "Epoch 309/500\n",
      "1620/1620 [==============================] - 0s 98us/step - loss: 0.0028 - max_diff: 0.1955 - min_diff: 9.1587e-04 - val_loss: 0.0056 - val_max_diff: 0.2928 - val_min_diff: 3.3821e-04\n",
      "Epoch 310/500\n",
      "1620/1620 [==============================] - 0s 101us/step - loss: 0.0027 - max_diff: 0.2027 - min_diff: 8.6393e-04 - val_loss: 0.0037 - val_max_diff: 0.2548 - val_min_diff: 1.7981e-04\n",
      "Epoch 311/500\n",
      "1620/1620 [==============================] - 0s 101us/step - loss: 0.0022 - max_diff: 0.1808 - min_diff: 7.2139e-04 - val_loss: 0.0035 - val_max_diff: 0.2502 - val_min_diff: 1.2587e-04\n",
      "Epoch 312/500\n",
      "1620/1620 [==============================] - 0s 103us/step - loss: 0.0022 - max_diff: 0.1897 - min_diff: 6.8640e-04 - val_loss: 0.0084 - val_max_diff: 0.3455 - val_min_diff: 0.0015\n",
      "Epoch 313/500\n",
      "1620/1620 [==============================] - 0s 106us/step - loss: 0.0025 - max_diff: 0.1913 - min_diff: 7.8446e-04 - val_loss: 0.0047 - val_max_diff: 0.3030 - val_min_diff: 5.8771e-04\n",
      "Epoch 314/500\n",
      "1620/1620 [==============================] - 0s 98us/step - loss: 0.0024 - max_diff: 0.2014 - min_diff: 7.7581e-04 - val_loss: 0.0038 - val_max_diff: 0.1775 - val_min_diff: 6.0049e-04\n",
      "Epoch 315/500\n",
      "1620/1620 [==============================] - 0s 107us/step - loss: 0.0026 - max_diff: 0.1888 - min_diff: 8.4044e-04 - val_loss: 0.0036 - val_max_diff: 0.1602 - val_min_diff: 9.6893e-05\n",
      "Epoch 316/500\n",
      "1620/1620 [==============================] - 0s 106us/step - loss: 0.0023 - max_diff: 0.1912 - min_diff: 6.3198e-04 - val_loss: 0.0054 - val_max_diff: 0.2879 - val_min_diff: 3.2964e-04\n",
      "Epoch 317/500\n",
      "1620/1620 [==============================] - 0s 96us/step - loss: 0.0025 - max_diff: 0.1970 - min_diff: 8.0816e-04 - val_loss: 0.0025 - val_max_diff: 0.1743 - val_min_diff: 1.9409e-04\n",
      "Epoch 318/500\n",
      "1620/1620 [==============================] - 0s 98us/step - loss: 0.0021 - max_diff: 0.1763 - min_diff: 8.2325e-04 - val_loss: 0.0049 - val_max_diff: 0.2944 - val_min_diff: 0.0033\n",
      "Epoch 319/500\n",
      "1620/1620 [==============================] - 0s 99us/step - loss: 0.0026 - max_diff: 0.1845 - min_diff: 8.0460e-04 - val_loss: 0.0029 - val_max_diff: 0.1520 - val_min_diff: 5.0595e-04\n",
      "Epoch 320/500\n",
      "1620/1620 [==============================] - 0s 97us/step - loss: 0.0020 - max_diff: 0.1695 - min_diff: 7.0719e-04 - val_loss: 0.0057 - val_max_diff: 0.2916 - val_min_diff: 1.6483e-04\n",
      "Epoch 321/500\n",
      "1620/1620 [==============================] - 0s 105us/step - loss: 0.0024 - max_diff: 0.1996 - min_diff: 8.5195e-04 - val_loss: 0.0051 - val_max_diff: 0.2576 - val_min_diff: 5.4523e-04\n",
      "Epoch 322/500\n",
      "1620/1620 [==============================] - 0s 97us/step - loss: 0.0021 - max_diff: 0.1849 - min_diff: 5.2918e-04 - val_loss: 0.0050 - val_max_diff: 0.2546 - val_min_diff: 9.7443e-04\n",
      "Epoch 323/500\n",
      "1620/1620 [==============================] - 0s 103us/step - loss: 0.0023 - max_diff: 0.1733 - min_diff: 8.0165e-04 - val_loss: 0.0037 - val_max_diff: 0.2071 - val_min_diff: 9.2556e-05\n",
      "Epoch 324/500\n",
      "1620/1620 [==============================] - 0s 108us/step - loss: 0.0025 - max_diff: 0.2024 - min_diff: 6.4619e-04 - val_loss: 0.0037 - val_max_diff: 0.2565 - val_min_diff: 4.5704e-04\n",
      "Epoch 325/500\n",
      "1620/1620 [==============================] - 0s 100us/step - loss: 0.0022 - max_diff: 0.1780 - min_diff: 6.3753e-04 - val_loss: 0.0026 - val_max_diff: 0.2015 - val_min_diff: 2.2906e-04\n",
      "Epoch 326/500\n",
      "1620/1620 [==============================] - 0s 97us/step - loss: 0.0025 - max_diff: 0.2102 - min_diff: 7.8230e-04 - val_loss: 0.0060 - val_max_diff: 0.2548 - val_min_diff: 4.9646e-04\n",
      "Epoch 327/500\n",
      "1620/1620 [==============================] - 0s 100us/step - loss: 0.0026 - max_diff: 0.1772 - min_diff: 7.7393e-04 - val_loss: 0.0032 - val_max_diff: 0.1837 - val_min_diff: 3.0065e-04\n",
      "Epoch 328/500\n",
      "1620/1620 [==============================] - 0s 103us/step - loss: 0.0020 - max_diff: 0.1635 - min_diff: 8.6588e-04 - val_loss: 0.0043 - val_max_diff: 0.2250 - val_min_diff: 2.1863e-04\n",
      "Epoch 329/500\n",
      "1620/1620 [==============================] - 0s 107us/step - loss: 0.0022 - max_diff: 0.1737 - min_diff: 8.7555e-04 - val_loss: 0.0042 - val_max_diff: 0.2134 - val_min_diff: 6.3074e-04\n",
      "Epoch 330/500\n",
      "1620/1620 [==============================] - 0s 97us/step - loss: 0.0022 - max_diff: 0.1894 - min_diff: 6.3785e-04 - val_loss: 0.0075 - val_max_diff: 0.2916 - val_min_diff: 0.0016\n",
      "Epoch 331/500\n",
      "1620/1620 [==============================] - 0s 102us/step - loss: 0.0027 - max_diff: 0.2105 - min_diff: 7.8123e-04 - val_loss: 0.0039 - val_max_diff: 0.2476 - val_min_diff: 5.9614e-04\n",
      "Epoch 332/500\n",
      "1620/1620 [==============================] - 0s 106us/step - loss: 0.0022 - max_diff: 0.1702 - min_diff: 5.1700e-04 - val_loss: 0.0049 - val_max_diff: 0.2895 - val_min_diff: 4.5493e-04\n",
      "Epoch 333/500\n",
      "1620/1620 [==============================] - 0s 102us/step - loss: 0.0019 - max_diff: 0.1544 - min_diff: 6.9756e-04 - val_loss: 0.0048 - val_max_diff: 0.2338 - val_min_diff: 3.8206e-04\n",
      "Epoch 334/500\n",
      "1620/1620 [==============================] - 0s 99us/step - loss: 0.0023 - max_diff: 0.1699 - min_diff: 6.0062e-04 - val_loss: 0.0038 - val_max_diff: 0.2185 - val_min_diff: 3.7443e-04\n",
      "Epoch 335/500\n",
      "1620/1620 [==============================] - 0s 98us/step - loss: 0.0026 - max_diff: 0.1970 - min_diff: 9.4816e-04 - val_loss: 0.0033 - val_max_diff: 0.1652 - val_min_diff: 0.0016\n",
      "Epoch 336/500\n",
      "1620/1620 [==============================] - 0s 99us/step - loss: 0.0019 - max_diff: 0.1731 - min_diff: 7.3232e-04 - val_loss: 0.0052 - val_max_diff: 0.2070 - val_min_diff: 0.0020\n",
      "Epoch 337/500\n",
      "1620/1620 [==============================] - 0s 99us/step - loss: 0.0026 - max_diff: 0.2100 - min_diff: 5.9982e-04 - val_loss: 0.0038 - val_max_diff: 0.1928 - val_min_diff: 0.0048\n",
      "Epoch 338/500\n",
      "1620/1620 [==============================] - 0s 101us/step - loss: 0.0026 - max_diff: 0.1949 - min_diff: 6.5368e-04 - val_loss: 0.0043 - val_max_diff: 0.2284 - val_min_diff: 0.0037\n",
      "Epoch 339/500\n"
     ]
    },
    {
     "name": "stdout",
     "output_type": "stream",
     "text": [
      "1620/1620 [==============================] - 0s 97us/step - loss: 0.0023 - max_diff: 0.1780 - min_diff: 7.3979e-04 - val_loss: 0.0030 - val_max_diff: 0.2127 - val_min_diff: 0.0016\n",
      "Epoch 340/500\n",
      "1620/1620 [==============================] - 0s 94us/step - loss: 0.0027 - max_diff: 0.1939 - min_diff: 5.7660e-04 - val_loss: 0.0047 - val_max_diff: 0.2632 - val_min_diff: 0.0026\n",
      "Epoch 341/500\n",
      "1620/1620 [==============================] - 0s 102us/step - loss: 0.0023 - max_diff: 0.1678 - min_diff: 6.6056e-04 - val_loss: 0.0050 - val_max_diff: 0.2232 - val_min_diff: 5.8417e-04\n",
      "Epoch 342/500\n",
      "1620/1620 [==============================] - 0s 103us/step - loss: 0.0026 - max_diff: 0.2122 - min_diff: 7.8268e-04 - val_loss: 0.0038 - val_max_diff: 0.1929 - val_min_diff: 0.0011\n",
      "Epoch 343/500\n",
      "1620/1620 [==============================] - 0s 102us/step - loss: 0.0026 - max_diff: 0.1926 - min_diff: 5.0899e-04 - val_loss: 0.0053 - val_max_diff: 0.2862 - val_min_diff: 8.0586e-04\n",
      "Epoch 344/500\n",
      "1620/1620 [==============================] - 0s 96us/step - loss: 0.0020 - max_diff: 0.1757 - min_diff: 6.0968e-04 - val_loss: 0.0055 - val_max_diff: 0.2632 - val_min_diff: 6.8672e-04\n",
      "Epoch 345/500\n",
      "1620/1620 [==============================] - 0s 96us/step - loss: 0.0023 - max_diff: 0.1923 - min_diff: 8.0574e-04 - val_loss: 0.0053 - val_max_diff: 0.2337 - val_min_diff: 0.0024\n",
      "Epoch 346/500\n",
      "1620/1620 [==============================] - 0s 103us/step - loss: 0.0025 - max_diff: 0.1870 - min_diff: 7.0943e-04 - val_loss: 0.0027 - val_max_diff: 0.1733 - val_min_diff: 4.7820e-04\n",
      "Epoch 347/500\n",
      "1620/1620 [==============================] - 0s 102us/step - loss: 0.0022 - max_diff: 0.1792 - min_diff: 5.9950e-04 - val_loss: 0.0036 - val_max_diff: 0.2072 - val_min_diff: 4.7863e-04\n",
      "Epoch 348/500\n",
      "1620/1620 [==============================] - 0s 104us/step - loss: 0.0024 - max_diff: 0.1866 - min_diff: 6.8922e-04 - val_loss: 0.0067 - val_max_diff: 0.2795 - val_min_diff: 2.0888e-04\n",
      "Epoch 349/500\n",
      "1620/1620 [==============================] - 0s 101us/step - loss: 0.0024 - max_diff: 0.1775 - min_diff: 6.3563e-04 - val_loss: 0.0039 - val_max_diff: 0.2279 - val_min_diff: 1.4687e-04\n",
      "Epoch 350/500\n",
      "1620/1620 [==============================] - 0s 95us/step - loss: 0.0024 - max_diff: 0.1916 - min_diff: 9.3109e-04 - val_loss: 0.0039 - val_max_diff: 0.2236 - val_min_diff: 2.1611e-04\n",
      "Epoch 351/500\n",
      "1620/1620 [==============================] - 0s 93us/step - loss: 0.0024 - max_diff: 0.1919 - min_diff: 8.0077e-04 - val_loss: 0.0050 - val_max_diff: 0.2492 - val_min_diff: 2.8647e-04\n",
      "Epoch 352/500\n",
      "1620/1620 [==============================] - 0s 96us/step - loss: 0.0023 - max_diff: 0.1895 - min_diff: 5.0372e-04 - val_loss: 0.0038 - val_max_diff: 0.2115 - val_min_diff: 0.0012\n",
      "Epoch 353/500\n",
      "1620/1620 [==============================] - 0s 105us/step - loss: 0.0019 - max_diff: 0.1608 - min_diff: 7.0620e-04 - val_loss: 0.0060 - val_max_diff: 0.2697 - val_min_diff: 8.1710e-05\n",
      "Epoch 354/500\n",
      "1620/1620 [==============================] - 0s 96us/step - loss: 0.0022 - max_diff: 0.1774 - min_diff: 6.7438e-04 - val_loss: 0.0028 - val_max_diff: 0.2163 - val_min_diff: 5.7348e-04\n",
      "Epoch 355/500\n",
      "1620/1620 [==============================] - 0s 100us/step - loss: 0.0018 - max_diff: 0.1647 - min_diff: 5.1099e-04 - val_loss: 0.0061 - val_max_diff: 0.3122 - val_min_diff: 1.6755e-04\n",
      "Epoch 356/500\n",
      "1620/1620 [==============================] - 0s 103us/step - loss: 0.0020 - max_diff: 0.1743 - min_diff: 6.7952e-04 - val_loss: 0.0053 - val_max_diff: 0.2824 - val_min_diff: 7.2193e-04\n",
      "Epoch 357/500\n",
      "1620/1620 [==============================] - 0s 92us/step - loss: 0.0016 - max_diff: 0.1552 - min_diff: 6.0314e-04 - val_loss: 0.0044 - val_max_diff: 0.2488 - val_min_diff: 6.4933e-04\n",
      "Epoch 358/500\n",
      "1620/1620 [==============================] - 0s 93us/step - loss: 0.0022 - max_diff: 0.1719 - min_diff: 7.6724e-04 - val_loss: 0.0032 - val_max_diff: 0.1718 - val_min_diff: 4.3126e-04\n",
      "Epoch 359/500\n",
      "1620/1620 [==============================] - 0s 95us/step - loss: 0.0024 - max_diff: 0.1956 - min_diff: 0.0010 - val_loss: 0.0037 - val_max_diff: 0.2110 - val_min_diff: 5.0783e-04\n",
      "Epoch 360/500\n",
      "1620/1620 [==============================] - 0s 99us/step - loss: 0.0021 - max_diff: 0.1756 - min_diff: 8.5563e-04 - val_loss: 0.0022 - val_max_diff: 0.1585 - val_min_diff: 2.5210e-04\n",
      "Epoch 361/500\n",
      "1620/1620 [==============================] - 0s 104us/step - loss: 0.0020 - max_diff: 0.1695 - min_diff: 5.0641e-04 - val_loss: 0.0060 - val_max_diff: 0.2912 - val_min_diff: 0.0017\n",
      "Epoch 362/500\n",
      "1620/1620 [==============================] - 0s 93us/step - loss: 0.0020 - max_diff: 0.1628 - min_diff: 7.1345e-04 - val_loss: 0.0069 - val_max_diff: 0.3219 - val_min_diff: 0.0011\n",
      "Epoch 363/500\n",
      "1620/1620 [==============================] - 0s 96us/step - loss: 0.0022 - max_diff: 0.1828 - min_diff: 8.0092e-04 - val_loss: 0.0046 - val_max_diff: 0.2960 - val_min_diff: 5.2237e-04\n",
      "Epoch 364/500\n",
      "1620/1620 [==============================] - 0s 92us/step - loss: 0.0018 - max_diff: 0.1564 - min_diff: 7.4250e-04 - val_loss: 0.0062 - val_max_diff: 0.3204 - val_min_diff: 0.0019\n",
      "Epoch 365/500\n",
      "1620/1620 [==============================] - 0s 103us/step - loss: 0.0024 - max_diff: 0.1780 - min_diff: 5.4915e-04 - val_loss: 0.0055 - val_max_diff: 0.2876 - val_min_diff: 1.3546e-04\n",
      "Epoch 366/500\n",
      "1620/1620 [==============================] - 0s 99us/step - loss: 0.0024 - max_diff: 0.1916 - min_diff: 5.4877e-04 - val_loss: 0.0053 - val_max_diff: 0.2803 - val_min_diff: 0.0042\n",
      "Epoch 367/500\n",
      "1620/1620 [==============================] - 0s 107us/step - loss: 0.0026 - max_diff: 0.1867 - min_diff: 7.2891e-04 - val_loss: 0.0040 - val_max_diff: 0.2481 - val_min_diff: 3.1592e-04\n",
      "Epoch 368/500\n",
      "1620/1620 [==============================] - 0s 101us/step - loss: 0.0020 - max_diff: 0.1524 - min_diff: 5.2708e-04 - val_loss: 0.0056 - val_max_diff: 0.2763 - val_min_diff: 2.8611e-04\n",
      "Epoch 369/500\n",
      "1620/1620 [==============================] - 0s 108us/step - loss: 0.0024 - max_diff: 0.2045 - min_diff: 5.7545e-04 - val_loss: 0.0039 - val_max_diff: 0.2876 - val_min_diff: 7.8037e-04\n",
      "Epoch 370/500\n",
      "1620/1620 [==============================] - 0s 100us/step - loss: 0.0026 - max_diff: 0.1834 - min_diff: 5.6036e-04 - val_loss: 0.0032 - val_max_diff: 0.2096 - val_min_diff: 1.4857e-04\n",
      "Epoch 371/500\n",
      "1620/1620 [==============================] - 0s 96us/step - loss: 0.0017 - max_diff: 0.1680 - min_diff: 5.5352e-04 - val_loss: 0.0038 - val_max_diff: 0.2324 - val_min_diff: 0.0010\n",
      "Epoch 372/500\n",
      "1620/1620 [==============================] - 0s 103us/step - loss: 0.0022 - max_diff: 0.1823 - min_diff: 6.9545e-04 - val_loss: 0.0024 - val_max_diff: 0.1713 - val_min_diff: 4.3267e-04\n",
      "Epoch 373/500\n",
      "1620/1620 [==============================] - 0s 97us/step - loss: 0.0021 - max_diff: 0.1885 - min_diff: 0.0010 - val_loss: 0.0047 - val_max_diff: 0.2293 - val_min_diff: 7.2526e-04\n",
      "Epoch 374/500\n",
      "1620/1620 [==============================] - 0s 97us/step - loss: 0.0016 - max_diff: 0.1448 - min_diff: 7.2735e-04 - val_loss: 0.0042 - val_max_diff: 0.2347 - val_min_diff: 9.3933e-04\n",
      "Epoch 375/500\n",
      "1620/1620 [==============================] - 0s 99us/step - loss: 0.0025 - max_diff: 0.1918 - min_diff: 8.9499e-04 - val_loss: 0.0058 - val_max_diff: 0.2850 - val_min_diff: 0.0010\n",
      "Epoch 376/500\n",
      "1620/1620 [==============================] - 0s 96us/step - loss: 0.0020 - max_diff: 0.1843 - min_diff: 5.9598e-04 - val_loss: 0.0031 - val_max_diff: 0.2004 - val_min_diff: 0.0010\n",
      "Epoch 377/500\n",
      "1620/1620 [==============================] - 0s 105us/step - loss: 0.0022 - max_diff: 0.1689 - min_diff: 5.8115e-04 - val_loss: 0.0090 - val_max_diff: 0.3299 - val_min_diff: 0.0035\n",
      "Epoch 378/500\n",
      "1620/1620 [==============================] - 0s 96us/step - loss: 0.0022 - max_diff: 0.1707 - min_diff: 0.0011 - val_loss: 0.0044 - val_max_diff: 0.2580 - val_min_diff: 8.8734e-04\n",
      "Epoch 379/500\n",
      "1620/1620 [==============================] - 0s 96us/step - loss: 0.0027 - max_diff: 0.1891 - min_diff: 8.4786e-04 - val_loss: 0.0023 - val_max_diff: 0.1792 - val_min_diff: 1.5080e-04\n",
      "Epoch 380/500\n",
      "1620/1620 [==============================] - 0s 105us/step - loss: 0.0022 - max_diff: 0.2015 - min_diff: 5.9414e-04 - val_loss: 0.0058 - val_max_diff: 0.3063 - val_min_diff: 8.1573e-04\n"
     ]
    },
    {
     "name": "stdout",
     "output_type": "stream",
     "text": [
      "Epoch 381/500\n",
      "1620/1620 [==============================] - 0s 98us/step - loss: 0.0024 - max_diff: 0.1913 - min_diff: 5.4814e-04 - val_loss: 0.0040 - val_max_diff: 0.2460 - val_min_diff: 6.6367e-05\n",
      "Epoch 382/500\n",
      "1620/1620 [==============================] - 0s 94us/step - loss: 0.0019 - max_diff: 0.1724 - min_diff: 7.1213e-04 - val_loss: 0.0025 - val_max_diff: 0.1566 - val_min_diff: 0.0023\n",
      "Epoch 383/500\n",
      "1620/1620 [==============================] - 0s 97us/step - loss: 0.0023 - max_diff: 0.1969 - min_diff: 8.1474e-04 - val_loss: 0.0039 - val_max_diff: 0.2246 - val_min_diff: 2.7524e-04\n",
      "Epoch 384/500\n",
      "1620/1620 [==============================] - 0s 106us/step - loss: 0.0023 - max_diff: 0.1752 - min_diff: 8.1317e-04 - val_loss: 0.0022 - val_max_diff: 0.1743 - val_min_diff: 0.0011\n",
      "Epoch 385/500\n",
      "1620/1620 [==============================] - 0s 106us/step - loss: 0.0018 - max_diff: 0.1492 - min_diff: 6.0377e-04 - val_loss: 0.0031 - val_max_diff: 0.1970 - val_min_diff: 4.8403e-05\n",
      "Epoch 386/500\n",
      "1620/1620 [==============================] - 0s 100us/step - loss: 0.0024 - max_diff: 0.1710 - min_diff: 5.9372e-04 - val_loss: 0.0040 - val_max_diff: 0.2591 - val_min_diff: 0.0013\n",
      "Epoch 387/500\n",
      "1620/1620 [==============================] - 0s 99us/step - loss: 0.0017 - max_diff: 0.1634 - min_diff: 5.1674e-04 - val_loss: 0.0058 - val_max_diff: 0.2929 - val_min_diff: 8.7218e-05\n",
      "Epoch 388/500\n",
      "1620/1620 [==============================] - 0s 100us/step - loss: 0.0018 - max_diff: 0.1539 - min_diff: 8.7671e-04 - val_loss: 0.0040 - val_max_diff: 0.2712 - val_min_diff: 3.9251e-04\n",
      "Epoch 389/500\n",
      "1620/1620 [==============================] - 0s 97us/step - loss: 0.0022 - max_diff: 0.1798 - min_diff: 5.4119e-04 - val_loss: 0.0024 - val_max_diff: 0.1700 - val_min_diff: 3.3824e-04\n",
      "Epoch 390/500\n",
      "1620/1620 [==============================] - 0s 96us/step - loss: 0.0023 - max_diff: 0.1851 - min_diff: 7.0933e-04 - val_loss: 0.0043 - val_max_diff: 0.2654 - val_min_diff: 0.0043\n",
      "Epoch 391/500\n",
      "1620/1620 [==============================] - 0s 102us/step - loss: 0.0017 - max_diff: 0.1675 - min_diff: 7.8493e-04 - val_loss: 0.0045 - val_max_diff: 0.2376 - val_min_diff: 1.9398e-04\n",
      "Epoch 392/500\n",
      "1620/1620 [==============================] - 0s 101us/step - loss: 0.0027 - max_diff: 0.1920 - min_diff: 6.6531e-04 - val_loss: 0.0042 - val_max_diff: 0.2264 - val_min_diff: 2.7385e-04\n",
      "Epoch 393/500\n",
      "1620/1620 [==============================] - 0s 104us/step - loss: 0.0019 - max_diff: 0.1587 - min_diff: 6.6918e-04 - val_loss: 0.0049 - val_max_diff: 0.2951 - val_min_diff: 3.7100e-04\n",
      "Epoch 394/500\n",
      "1620/1620 [==============================] - 0s 103us/step - loss: 0.0024 - max_diff: 0.2030 - min_diff: 7.7163e-04 - val_loss: 0.0016 - val_max_diff: 0.1686 - val_min_diff: 1.5104e-04\n",
      "Epoch 395/500\n",
      "1620/1620 [==============================] - 0s 100us/step - loss: 0.0022 - max_diff: 0.1815 - min_diff: 4.7781e-04 - val_loss: 0.0058 - val_max_diff: 0.2870 - val_min_diff: 9.5848e-04\n",
      "Epoch 396/500\n",
      "1620/1620 [==============================] - 0s 97us/step - loss: 0.0022 - max_diff: 0.1852 - min_diff: 5.9842e-04 - val_loss: 0.0031 - val_max_diff: 0.1568 - val_min_diff: 3.1937e-04\n",
      "Epoch 397/500\n",
      "1620/1620 [==============================] - 0s 104us/step - loss: 0.0018 - max_diff: 0.1708 - min_diff: 4.2899e-04 - val_loss: 0.0058 - val_max_diff: 0.2492 - val_min_diff: 0.0012\n",
      "Epoch 398/500\n",
      "1620/1620 [==============================] - 0s 105us/step - loss: 0.0016 - max_diff: 0.1554 - min_diff: 3.3630e-04 - val_loss: 0.0065 - val_max_diff: 0.2805 - val_min_diff: 6.9985e-05\n",
      "Epoch 399/500\n",
      "1620/1620 [==============================] - 0s 97us/step - loss: 0.0024 - max_diff: 0.1826 - min_diff: 5.9033e-04 - val_loss: 0.0033 - val_max_diff: 0.1783 - val_min_diff: 2.9128e-04\n",
      "Epoch 400/500\n",
      "1620/1620 [==============================] - 0s 96us/step - loss: 0.0020 - max_diff: 0.1643 - min_diff: 8.1059e-04 - val_loss: 0.0051 - val_max_diff: 0.2694 - val_min_diff: 2.9739e-04\n",
      "Epoch 401/500\n",
      "1620/1620 [==============================] - 0s 103us/step - loss: 0.0020 - max_diff: 0.1549 - min_diff: 5.7036e-04 - val_loss: 0.0022 - val_max_diff: 0.1546 - val_min_diff: 4.7767e-04\n",
      "Epoch 402/500\n",
      "1620/1620 [==============================] - 0s 102us/step - loss: 0.0017 - max_diff: 0.1632 - min_diff: 5.7875e-04 - val_loss: 0.0063 - val_max_diff: 0.3156 - val_min_diff: 6.8619e-04\n",
      "Epoch 403/500\n",
      "1620/1620 [==============================] - 0s 106us/step - loss: 0.0023 - max_diff: 0.1851 - min_diff: 5.2347e-04 - val_loss: 0.0051 - val_max_diff: 0.2722 - val_min_diff: 1.3113e-04\n",
      "Epoch 404/500\n",
      "1620/1620 [==============================] - 0s 102us/step - loss: 0.0021 - max_diff: 0.1775 - min_diff: 5.1243e-04 - val_loss: 0.0030 - val_max_diff: 0.1793 - val_min_diff: 1.9775e-04\n",
      "Epoch 405/500\n",
      "1620/1620 [==============================] - 0s 98us/step - loss: 0.0016 - max_diff: 0.1551 - min_diff: 7.0977e-04 - val_loss: 0.0030 - val_max_diff: 0.1381 - val_min_diff: 2.1364e-04\n",
      "Epoch 406/500\n",
      "1620/1620 [==============================] - 0s 99us/step - loss: 0.0018 - max_diff: 0.1640 - min_diff: 8.3427e-04 - val_loss: 0.0071 - val_max_diff: 0.2930 - val_min_diff: 3.8452e-04\n",
      "Epoch 407/500\n",
      "1620/1620 [==============================] - 0s 99us/step - loss: 0.0019 - max_diff: 0.1558 - min_diff: 5.0974e-04 - val_loss: 0.0044 - val_max_diff: 0.2146 - val_min_diff: 5.1538e-04\n",
      "Epoch 408/500\n",
      "1620/1620 [==============================] - 0s 103us/step - loss: 0.0021 - max_diff: 0.1761 - min_diff: 4.4710e-04 - val_loss: 0.0040 - val_max_diff: 0.2169 - val_min_diff: 1.8412e-04\n",
      "Epoch 409/500\n",
      "1620/1620 [==============================] - 0s 96us/step - loss: 0.0020 - max_diff: 0.1753 - min_diff: 7.8560e-04 - val_loss: 0.0026 - val_max_diff: 0.1533 - val_min_diff: 4.3157e-04\n",
      "Epoch 410/500\n",
      "1620/1620 [==============================] - 0s 100us/step - loss: 0.0021 - max_diff: 0.1694 - min_diff: 6.8208e-04 - val_loss: 0.0042 - val_max_diff: 0.2699 - val_min_diff: 2.3330e-04\n",
      "Epoch 411/500\n",
      "1620/1620 [==============================] - 0s 97us/step - loss: 0.0017 - max_diff: 0.1681 - min_diff: 6.1313e-04 - val_loss: 0.0046 - val_max_diff: 0.2544 - val_min_diff: 3.0538e-04\n",
      "Epoch 412/500\n",
      "1620/1620 [==============================] - 0s 98us/step - loss: 0.0022 - max_diff: 0.1969 - min_diff: 5.9389e-04 - val_loss: 0.0045 - val_max_diff: 0.3038 - val_min_diff: 0.0024\n",
      "Epoch 413/500\n",
      "1620/1620 [==============================] - 0s 104us/step - loss: 0.0019 - max_diff: 0.1515 - min_diff: 5.0283e-04 - val_loss: 0.0052 - val_max_diff: 0.2758 - val_min_diff: 1.1549e-04\n",
      "Epoch 414/500\n",
      "1620/1620 [==============================] - 0s 99us/step - loss: 0.0014 - max_diff: 0.1411 - min_diff: 5.0205e-04 - val_loss: 0.0052 - val_max_diff: 0.2827 - val_min_diff: 2.4692e-04\n",
      "Epoch 415/500\n",
      "1620/1620 [==============================] - 0s 108us/step - loss: 0.0019 - max_diff: 0.1750 - min_diff: 4.9782e-04 - val_loss: 0.0051 - val_max_diff: 0.2371 - val_min_diff: 1.5634e-04\n",
      "Epoch 416/500\n",
      "1620/1620 [==============================] - 0s 100us/step - loss: 0.0026 - max_diff: 0.1959 - min_diff: 7.9055e-04 - val_loss: 0.0042 - val_max_diff: 0.2423 - val_min_diff: 3.2523e-04\n",
      "Epoch 417/500\n",
      "1620/1620 [==============================] - 0s 108us/step - loss: 0.0020 - max_diff: 0.1658 - min_diff: 7.4223e-04 - val_loss: 0.0037 - val_max_diff: 0.2683 - val_min_diff: 2.6043e-04\n",
      "Epoch 418/500\n",
      "1620/1620 [==============================] - 0s 103us/step - loss: 0.0020 - max_diff: 0.1661 - min_diff: 5.4315e-04 - val_loss: 0.0052 - val_max_diff: 0.2368 - val_min_diff: 3.2425e-04\n",
      "Epoch 419/500\n",
      "1620/1620 [==============================] - 0s 101us/step - loss: 0.0023 - max_diff: 0.1885 - min_diff: 5.3247e-04 - val_loss: 0.0053 - val_max_diff: 0.2197 - val_min_diff: 2.7819e-04\n",
      "Epoch 420/500\n",
      "1620/1620 [==============================] - 0s 102us/step - loss: 0.0016 - max_diff: 0.1650 - min_diff: 5.2985e-04 - val_loss: 0.0025 - val_max_diff: 0.2041 - val_min_diff: 2.2655e-04\n",
      "Epoch 421/500\n",
      "1620/1620 [==============================] - 0s 101us/step - loss: 0.0021 - max_diff: 0.1724 - min_diff: 5.2030e-04 - val_loss: 0.0039 - val_max_diff: 0.2502 - val_min_diff: 6.0693e-05\n",
      "Epoch 422/500\n"
     ]
    },
    {
     "name": "stdout",
     "output_type": "stream",
     "text": [
      "1620/1620 [==============================] - 0s 97us/step - loss: 0.0019 - max_diff: 0.1932 - min_diff: 4.6559e-04 - val_loss: 0.0061 - val_max_diff: 0.2818 - val_min_diff: 0.0016\n",
      "Epoch 423/500\n",
      "1620/1620 [==============================] - 0s 99us/step - loss: 0.0021 - max_diff: 0.1804 - min_diff: 7.2636e-04 - val_loss: 0.0060 - val_max_diff: 0.2758 - val_min_diff: 1.8821e-04\n",
      "Epoch 424/500\n",
      "1620/1620 [==============================] - 0s 107us/step - loss: 0.0019 - max_diff: 0.1681 - min_diff: 7.7767e-04 - val_loss: 0.0034 - val_max_diff: 0.1927 - val_min_diff: 4.5265e-04\n",
      "Epoch 425/500\n",
      "1620/1620 [==============================] - 0s 98us/step - loss: 0.0022 - max_diff: 0.1769 - min_diff: 6.2552e-04 - val_loss: 0.0034 - val_max_diff: 0.1764 - val_min_diff: 0.0025\n",
      "Epoch 426/500\n",
      "1620/1620 [==============================] - 0s 106us/step - loss: 0.0023 - max_diff: 0.1856 - min_diff: 4.2356e-04 - val_loss: 0.0043 - val_max_diff: 0.2161 - val_min_diff: 5.7076e-04\n",
      "Epoch 427/500\n",
      "1620/1620 [==============================] - 0s 106us/step - loss: 0.0022 - max_diff: 0.1702 - min_diff: 6.0917e-04 - val_loss: 0.0059 - val_max_diff: 0.2203 - val_min_diff: 3.8934e-04\n",
      "Epoch 428/500\n",
      "1620/1620 [==============================] - 0s 102us/step - loss: 0.0019 - max_diff: 0.1726 - min_diff: 5.4525e-04 - val_loss: 0.0037 - val_max_diff: 0.2423 - val_min_diff: 5.6011e-05\n",
      "Epoch 429/500\n",
      "1620/1620 [==============================] - 0s 105us/step - loss: 0.0021 - max_diff: 0.1719 - min_diff: 5.9672e-04 - val_loss: 0.0063 - val_max_diff: 0.2984 - val_min_diff: 1.2749e-04\n",
      "Epoch 430/500\n",
      "1620/1620 [==============================] - 0s 104us/step - loss: 0.0022 - max_diff: 0.1710 - min_diff: 5.1574e-04 - val_loss: 0.0055 - val_max_diff: 0.2695 - val_min_diff: 1.5156e-04\n",
      "Epoch 431/500\n",
      "1620/1620 [==============================] - 0s 104us/step - loss: 0.0020 - max_diff: 0.1759 - min_diff: 3.7093e-04 - val_loss: 0.0028 - val_max_diff: 0.1639 - val_min_diff: 9.3474e-05\n",
      "Epoch 432/500\n",
      "1620/1620 [==============================] - 0s 101us/step - loss: 0.0022 - max_diff: 0.1828 - min_diff: 5.2168e-04 - val_loss: 0.0019 - val_max_diff: 0.1679 - val_min_diff: 5.6524e-04\n",
      "Epoch 433/500\n",
      "1620/1620 [==============================] - 0s 104us/step - loss: 0.0019 - max_diff: 0.1603 - min_diff: 5.6804e-04 - val_loss: 0.0052 - val_max_diff: 0.2921 - val_min_diff: 6.0680e-05\n",
      "Epoch 434/500\n",
      "1620/1620 [==============================] - 0s 95us/step - loss: 0.0018 - max_diff: 0.1557 - min_diff: 4.3046e-04 - val_loss: 0.0066 - val_max_diff: 0.3483 - val_min_diff: 1.1604e-04\n",
      "Epoch 435/500\n",
      "1620/1620 [==============================] - 0s 97us/step - loss: 0.0019 - max_diff: 0.1637 - min_diff: 5.1058e-04 - val_loss: 0.0045 - val_max_diff: 0.2290 - val_min_diff: 9.1371e-04\n",
      "Epoch 436/500\n",
      "1620/1620 [==============================] - 0s 92us/step - loss: 0.0019 - max_diff: 0.1648 - min_diff: 4.1548e-04 - val_loss: 0.0034 - val_max_diff: 0.1999 - val_min_diff: 0.0049\n",
      "Epoch 437/500\n",
      "1620/1620 [==============================] - 0s 106us/step - loss: 0.0019 - max_diff: 0.1629 - min_diff: 6.4587e-04 - val_loss: 0.0068 - val_max_diff: 0.3370 - val_min_diff: 0.0020\n",
      "Epoch 438/500\n",
      "1620/1620 [==============================] - 0s 99us/step - loss: 0.0027 - max_diff: 0.2152 - min_diff: 5.3529e-04 - val_loss: 0.0082 - val_max_diff: 0.3004 - val_min_diff: 2.9343e-04\n",
      "Epoch 439/500\n",
      "1620/1620 [==============================] - 0s 105us/step - loss: 0.0017 - max_diff: 0.1543 - min_diff: 4.7220e-04 - val_loss: 0.0059 - val_max_diff: 0.2885 - val_min_diff: 3.2684e-04\n",
      "Epoch 440/500\n",
      "1620/1620 [==============================] - 0s 102us/step - loss: 0.0024 - max_diff: 0.1604 - min_diff: 7.5988e-04 - val_loss: 0.0040 - val_max_diff: 0.1950 - val_min_diff: 1.1745e-04\n",
      "Epoch 441/500\n",
      "1620/1620 [==============================] - 0s 103us/step - loss: 0.0019 - max_diff: 0.1754 - min_diff: 5.5985e-04 - val_loss: 0.0054 - val_max_diff: 0.3159 - val_min_diff: 1.3989e-04\n",
      "Epoch 442/500\n",
      "1620/1620 [==============================] - 0s 101us/step - loss: 0.0018 - max_diff: 0.1544 - min_diff: 5.4448e-04 - val_loss: 0.0043 - val_max_diff: 0.2500 - val_min_diff: 5.7350e-04\n",
      "Epoch 443/500\n",
      "1620/1620 [==============================] - 0s 105us/step - loss: 0.0025 - max_diff: 0.1620 - min_diff: 8.0213e-04 - val_loss: 0.0030 - val_max_diff: 0.1647 - val_min_diff: 1.6161e-04\n",
      "Epoch 444/500\n",
      "1620/1620 [==============================] - 0s 100us/step - loss: 0.0019 - max_diff: 0.1621 - min_diff: 6.2524e-04 - val_loss: 0.0032 - val_max_diff: 0.1663 - val_min_diff: 3.3984e-04\n",
      "Epoch 445/500\n",
      "1620/1620 [==============================] - 0s 106us/step - loss: 0.0025 - max_diff: 0.2015 - min_diff: 6.2363e-04 - val_loss: 0.0046 - val_max_diff: 0.2733 - val_min_diff: 2.4047e-04\n",
      "Epoch 446/500\n",
      "1620/1620 [==============================] - 0s 99us/step - loss: 0.0021 - max_diff: 0.1534 - min_diff: 5.9049e-04 - val_loss: 0.0032 - val_max_diff: 0.1801 - val_min_diff: 5.9135e-04\n",
      "Epoch 447/500\n",
      "1620/1620 [==============================] - 0s 100us/step - loss: 0.0018 - max_diff: 0.1666 - min_diff: 4.7816e-04 - val_loss: 0.0063 - val_max_diff: 0.2849 - val_min_diff: 3.3866e-04\n",
      "Epoch 448/500\n",
      "1620/1620 [==============================] - 0s 101us/step - loss: 0.0022 - max_diff: 0.1737 - min_diff: 5.1179e-04 - val_loss: 0.0021 - val_max_diff: 0.1998 - val_min_diff: 1.8478e-04\n",
      "Epoch 449/500\n",
      "1620/1620 [==============================] - 0s 104us/step - loss: 0.0021 - max_diff: 0.1584 - min_diff: 6.0987e-04 - val_loss: 0.0045 - val_max_diff: 0.2261 - val_min_diff: 3.3438e-04\n",
      "Epoch 450/500\n",
      "1620/1620 [==============================] - 0s 100us/step - loss: 0.0016 - max_diff: 0.1563 - min_diff: 5.7603e-04 - val_loss: 0.0048 - val_max_diff: 0.2532 - val_min_diff: 4.9540e-04\n",
      "Epoch 451/500\n",
      "1620/1620 [==============================] - 0s 101us/step - loss: 0.0026 - max_diff: 0.2038 - min_diff: 4.8702e-04 - val_loss: 0.0020 - val_max_diff: 0.1564 - val_min_diff: 1.3347e-04\n",
      "Epoch 452/500\n",
      "1620/1620 [==============================] - 0s 100us/step - loss: 0.0018 - max_diff: 0.1682 - min_diff: 5.4287e-04 - val_loss: 0.0038 - val_max_diff: 0.2066 - val_min_diff: 3.0913e-04\n",
      "Epoch 453/500\n",
      "1620/1620 [==============================] - 0s 107us/step - loss: 0.0021 - max_diff: 0.1774 - min_diff: 7.8878e-04 - val_loss: 0.0042 - val_max_diff: 0.2499 - val_min_diff: 2.8376e-04\n",
      "Epoch 454/500\n",
      "1620/1620 [==============================] - 0s 103us/step - loss: 0.0016 - max_diff: 0.1517 - min_diff: 4.8231e-04 - val_loss: 0.0043 - val_max_diff: 0.2454 - val_min_diff: 0.0033\n",
      "Epoch 455/500\n",
      "1620/1620 [==============================] - 0s 95us/step - loss: 0.0024 - max_diff: 0.1897 - min_diff: 5.0166e-04 - val_loss: 0.0019 - val_max_diff: 0.1663 - val_min_diff: 4.9566e-04\n",
      "Epoch 456/500\n",
      "1620/1620 [==============================] - 0s 105us/step - loss: 0.0020 - max_diff: 0.1682 - min_diff: 5.5279e-04 - val_loss: 0.0033 - val_max_diff: 0.2287 - val_min_diff: 3.8935e-04\n",
      "Epoch 457/500\n",
      "1620/1620 [==============================] - 0s 102us/step - loss: 0.0017 - max_diff: 0.1610 - min_diff: 3.8827e-04 - val_loss: 0.0063 - val_max_diff: 0.2910 - val_min_diff: 3.4200e-04\n",
      "Epoch 458/500\n",
      "1620/1620 [==============================] - 0s 97us/step - loss: 0.0020 - max_diff: 0.1641 - min_diff: 3.9971e-04 - val_loss: 0.0033 - val_max_diff: 0.1888 - val_min_diff: 1.2136e-04\n",
      "Epoch 459/500\n",
      "1620/1620 [==============================] - 0s 94us/step - loss: 0.0023 - max_diff: 0.1848 - min_diff: 5.3304e-04 - val_loss: 0.0024 - val_max_diff: 0.1875 - val_min_diff: 1.6636e-04\n",
      "Epoch 460/500\n",
      "1620/1620 [==============================] - 0s 101us/step - loss: 0.0019 - max_diff: 0.1456 - min_diff: 5.3433e-04 - val_loss: 0.0034 - val_max_diff: 0.1986 - val_min_diff: 1.2935e-04\n",
      "Epoch 461/500\n",
      "1620/1620 [==============================] - 0s 107us/step - loss: 0.0020 - max_diff: 0.1805 - min_diff: 4.5368e-04 - val_loss: 0.0043 - val_max_diff: 0.2811 - val_min_diff: 2.8139e-04\n",
      "Epoch 462/500\n",
      "1620/1620 [==============================] - 0s 94us/step - loss: 0.0022 - max_diff: 0.1780 - min_diff: 4.8281e-04 - val_loss: 0.0060 - val_max_diff: 0.2890 - val_min_diff: 1.9024e-04\n",
      "Epoch 463/500\n"
     ]
    },
    {
     "name": "stdout",
     "output_type": "stream",
     "text": [
      "1620/1620 [==============================] - 0s 107us/step - loss: 0.0017 - max_diff: 0.1640 - min_diff: 4.3138e-04 - val_loss: 0.0038 - val_max_diff: 0.2018 - val_min_diff: 3.4570e-04\n",
      "Epoch 464/500\n",
      "1620/1620 [==============================] - 0s 105us/step - loss: 0.0019 - max_diff: 0.1692 - min_diff: 4.8534e-04 - val_loss: 0.0037 - val_max_diff: 0.1949 - val_min_diff: 3.5891e-04\n",
      "Epoch 465/500\n",
      "1620/1620 [==============================] - 0s 98us/step - loss: 0.0019 - max_diff: 0.1610 - min_diff: 5.6152e-04 - val_loss: 0.0042 - val_max_diff: 0.2078 - val_min_diff: 0.0011\n",
      "Epoch 466/500\n",
      "1620/1620 [==============================] - 0s 95us/step - loss: 0.0016 - max_diff: 0.1441 - min_diff: 4.1089e-04 - val_loss: 0.0045 - val_max_diff: 0.2206 - val_min_diff: 2.6160e-04\n",
      "Epoch 467/500\n",
      "1620/1620 [==============================] - 0s 101us/step - loss: 0.0018 - max_diff: 0.1577 - min_diff: 4.5208e-04 - val_loss: 0.0040 - val_max_diff: 0.2054 - val_min_diff: 2.2640e-04\n",
      "Epoch 468/500\n",
      "1620/1620 [==============================] - 0s 104us/step - loss: 0.0021 - max_diff: 0.1804 - min_diff: 7.5450e-04 - val_loss: 0.0039 - val_max_diff: 0.2103 - val_min_diff: 3.3427e-04\n",
      "Epoch 469/500\n",
      "1620/1620 [==============================] - 0s 102us/step - loss: 0.0016 - max_diff: 0.1352 - min_diff: 4.9297e-04 - val_loss: 0.0025 - val_max_diff: 0.1392 - val_min_diff: 1.0376e-04\n",
      "Epoch 470/500\n",
      "1620/1620 [==============================] - 0s 102us/step - loss: 0.0019 - max_diff: 0.1695 - min_diff: 5.5348e-04 - val_loss: 0.0068 - val_max_diff: 0.3188 - val_min_diff: 1.3998e-04\n",
      "Epoch 471/500\n",
      "1620/1620 [==============================] - 0s 102us/step - loss: 0.0021 - max_diff: 0.1558 - min_diff: 5.3636e-04 - val_loss: 0.0033 - val_max_diff: 0.1823 - val_min_diff: 0.0012\n",
      "Epoch 472/500\n",
      "1620/1620 [==============================] - 0s 98us/step - loss: 0.0018 - max_diff: 0.1554 - min_diff: 5.7282e-04 - val_loss: 0.0030 - val_max_diff: 0.2586 - val_min_diff: 3.3796e-04\n",
      "Epoch 473/500\n",
      "1620/1620 [==============================] - 0s 98us/step - loss: 0.0019 - max_diff: 0.1679 - min_diff: 5.2796e-04 - val_loss: 0.0060 - val_max_diff: 0.2831 - val_min_diff: 2.0791e-04\n",
      "Epoch 474/500\n",
      "1620/1620 [==============================] - 0s 100us/step - loss: 0.0018 - max_diff: 0.1569 - min_diff: 4.1537e-04 - val_loss: 0.0048 - val_max_diff: 0.2247 - val_min_diff: 3.1065e-04\n",
      "Epoch 475/500\n",
      "1620/1620 [==============================] - 0s 98us/step - loss: 0.0023 - max_diff: 0.1871 - min_diff: 3.3073e-04 - val_loss: 0.0062 - val_max_diff: 0.2879 - val_min_diff: 0.0015\n",
      "Epoch 476/500\n",
      "1620/1620 [==============================] - 0s 105us/step - loss: 0.0019 - max_diff: 0.1722 - min_diff: 5.3275e-04 - val_loss: 0.0023 - val_max_diff: 0.2114 - val_min_diff: 2.7927e-04\n",
      "Epoch 477/500\n",
      "1620/1620 [==============================] - 0s 104us/step - loss: 0.0019 - max_diff: 0.1657 - min_diff: 4.3592e-04 - val_loss: 0.0045 - val_max_diff: 0.2387 - val_min_diff: 4.8643e-04\n",
      "Epoch 478/500\n",
      "1620/1620 [==============================] - 0s 93us/step - loss: 0.0014 - max_diff: 0.1392 - min_diff: 5.1983e-04 - val_loss: 0.0038 - val_max_diff: 0.1880 - val_min_diff: 3.1279e-04\n",
      "Epoch 479/500\n",
      "1620/1620 [==============================] - 0s 97us/step - loss: 0.0020 - max_diff: 0.1523 - min_diff: 4.9804e-04 - val_loss: 0.0025 - val_max_diff: 0.1632 - val_min_diff: 5.9990e-04\n",
      "Epoch 480/500\n",
      "1620/1620 [==============================] - 0s 100us/step - loss: 0.0021 - max_diff: 0.1823 - min_diff: 5.9766e-04 - val_loss: 0.0038 - val_max_diff: 0.2343 - val_min_diff: 7.2517e-05\n",
      "Epoch 481/500\n",
      "1620/1620 [==============================] - 0s 101us/step - loss: 0.0019 - max_diff: 0.1649 - min_diff: 5.4799e-04 - val_loss: 0.0020 - val_max_diff: 0.1439 - val_min_diff: 3.9843e-05\n",
      "Epoch 482/500\n",
      "1620/1620 [==============================] - 0s 99us/step - loss: 0.0016 - max_diff: 0.1631 - min_diff: 4.7212e-04 - val_loss: 0.0044 - val_max_diff: 0.2184 - val_min_diff: 4.0021e-04\n",
      "Epoch 483/500\n",
      "1620/1620 [==============================] - 0s 95us/step - loss: 0.0022 - max_diff: 0.1734 - min_diff: 4.5600e-04 - val_loss: 0.0043 - val_max_diff: 0.2246 - val_min_diff: 6.0132e-04\n",
      "Epoch 484/500\n",
      "1620/1620 [==============================] - 0s 100us/step - loss: 0.0019 - max_diff: 0.1515 - min_diff: 7.3533e-04 - val_loss: 0.0040 - val_max_diff: 0.2105 - val_min_diff: 1.3904e-04\n",
      "Epoch 485/500\n",
      "1620/1620 [==============================] - 0s 107us/step - loss: 0.0020 - max_diff: 0.1700 - min_diff: 5.2195e-04 - val_loss: 0.0036 - val_max_diff: 0.1947 - val_min_diff: 7.0016e-05\n",
      "Epoch 486/500\n",
      "1620/1620 [==============================] - 0s 98us/step - loss: 0.0018 - max_diff: 0.1620 - min_diff: 5.3214e-04 - val_loss: 0.0050 - val_max_diff: 0.2296 - val_min_diff: 9.3639e-04\n",
      "Epoch 487/500\n",
      "1620/1620 [==============================] - 0s 93us/step - loss: 0.0014 - max_diff: 0.1327 - min_diff: 5.9675e-04 - val_loss: 0.0036 - val_max_diff: 0.2361 - val_min_diff: 1.7190e-04\n",
      "Epoch 488/500\n",
      "1620/1620 [==============================] - 0s 101us/step - loss: 0.0020 - max_diff: 0.1700 - min_diff: 5.9106e-04 - val_loss: 0.0086 - val_max_diff: 0.3352 - val_min_diff: 4.2180e-04\n",
      "Epoch 489/500\n",
      "1620/1620 [==============================] - 0s 97us/step - loss: 0.0017 - max_diff: 0.1625 - min_diff: 5.2192e-04 - val_loss: 0.0025 - val_max_diff: 0.1441 - val_min_diff: 6.1806e-05\n",
      "Epoch 490/500\n",
      "1620/1620 [==============================] - 0s 100us/step - loss: 0.0018 - max_diff: 0.1610 - min_diff: 3.6086e-04 - val_loss: 0.0058 - val_max_diff: 0.2835 - val_min_diff: 3.3940e-04\n",
      "Epoch 491/500\n",
      "1620/1620 [==============================] - 0s 98us/step - loss: 0.0015 - max_diff: 0.1335 - min_diff: 5.3406e-04 - val_loss: 0.0035 - val_max_diff: 0.1785 - val_min_diff: 2.5464e-04\n",
      "Epoch 492/500\n",
      "1620/1620 [==============================] - 0s 99us/step - loss: 0.0022 - max_diff: 0.1772 - min_diff: 5.0804e-04 - val_loss: 0.0056 - val_max_diff: 0.3047 - val_min_diff: 0.0019\n",
      "Epoch 493/500\n",
      "1620/1620 [==============================] - 0s 101us/step - loss: 0.0020 - max_diff: 0.1678 - min_diff: 5.4534e-04 - val_loss: 0.0021 - val_max_diff: 0.1505 - val_min_diff: 4.2213e-04\n",
      "Epoch 494/500\n",
      "1620/1620 [==============================] - 0s 98us/step - loss: 0.0014 - max_diff: 0.1469 - min_diff: 4.9381e-04 - val_loss: 0.0037 - val_max_diff: 0.2193 - val_min_diff: 4.7296e-04\n",
      "Epoch 495/500\n",
      "1620/1620 [==============================] - 0s 96us/step - loss: 0.0027 - max_diff: 0.1916 - min_diff: 6.4444e-04 - val_loss: 0.0037 - val_max_diff: 0.2472 - val_min_diff: 0.0012\n",
      "Epoch 496/500\n",
      "1620/1620 [==============================] - 0s 99us/step - loss: 0.0016 - max_diff: 0.1480 - min_diff: 5.1773e-04 - val_loss: 0.0030 - val_max_diff: 0.1603 - val_min_diff: 2.3169e-04\n",
      "Epoch 497/500\n",
      "1620/1620 [==============================] - 0s 103us/step - loss: 0.0017 - max_diff: 0.1411 - min_diff: 5.9432e-04 - val_loss: 0.0047 - val_max_diff: 0.2727 - val_min_diff: 4.9226e-04\n",
      "Epoch 498/500\n",
      "1620/1620 [==============================] - 0s 98us/step - loss: 0.0019 - max_diff: 0.1559 - min_diff: 3.9819e-04 - val_loss: 0.0076 - val_max_diff: 0.3458 - val_min_diff: 7.5898e-05\n",
      "Epoch 499/500\n",
      "1620/1620 [==============================] - 0s 99us/step - loss: 0.0017 - max_diff: 0.1578 - min_diff: 3.4931e-04 - val_loss: 0.0046 - val_max_diff: 0.2705 - val_min_diff: 2.2077e-04\n",
      "Epoch 500/500\n",
      "1620/1620 [==============================] - 0s 105us/step - loss: 0.0017 - max_diff: 0.1592 - min_diff: 4.7069e-04 - val_loss: 0.0039 - val_max_diff: 0.2540 - val_min_diff: 5.3173e-04\n"
     ]
    }
   ],
   "source": [
    "history = model.fit(train_in,\n",
    "                    train_out,\n",
    "                    epochs=500,\n",
    "                    batch_size=32,\n",
    "                    validation_data=(val_in, val_out))"
   ]
  },
  {
   "cell_type": "code",
   "execution_count": 9,
   "metadata": {},
   "outputs": [
    {
     "data": {
      "text/plain": [
       "dict_keys(['val_loss', 'val_max_diff', 'val_min_diff', 'loss', 'max_diff', 'min_diff'])"
      ]
     },
     "execution_count": 9,
     "metadata": {},
     "output_type": "execute_result"
    }
   ],
   "source": [
    "# check out history object\n",
    "history_dict = history.history\n",
    "history_dict.keys()"
   ]
  },
  {
   "cell_type": "code",
   "execution_count": 10,
   "metadata": {},
   "outputs": [
    {
     "data": {
      "image/png": "[encoded data removed]",
      "text/plain": [
       "<Figure size 432x288 with 1 Axes>"
      ]
     },
     "metadata": {
      "needs_background": "light"
     },
     "output_type": "display_data"
    }
   ],
   "source": [
    "%matplotlib inline\n",
    "import matplotlib.pyplot as plt\n",
    "\n",
    "loss = history.history['loss']\n",
    "val_loss = history.history['val_loss']\n",
    "\n",
    "max_diff = history.history['max_diff']\n",
    "val_max_diff = history.history['val_max_diff']\n",
    "\n",
    "min_diff = history.history['min_diff']\n",
    "val_min_diff = history.history['val_min_diff']\n",
    "\n",
    "epochs = range(1, len(loss) + 1)\n",
    "\n",
    "# \"bo\" is for \"blue dot\"\n",
    "plt.plot(epochs, loss, 'bo', label='Training loss')\n",
    "# b is for \"solid blue line\"\n",
    "plt.plot(epochs, val_loss, 'r', label='Validation loss')\n",
    "plt.title('Training and validation loss')\n",
    "plt.xlabel('Epochs')\n",
    "plt.ylabel('Loss')\n",
    "plt.legend()\n",
    "\n",
    "plt.show()"
   ]
  },
  {
   "cell_type": "code",
   "execution_count": 11,
   "metadata": {},
   "outputs": [
    {
     "data": {
      "image/png": "[encoded data removed]",
      "text/plain": [
       "<Figure size 432x288 with 1 Axes>"
      ]
     },
     "metadata": {
      "needs_background": "light"
     },
     "output_type": "display_data"
    }
   ],
   "source": [
    "plt.clf()   # clear figure\n",
    "plt.plot(epochs, max_diff, 'bo', label='Training max abs diff')\n",
    "plt.plot(epochs, val_max_diff, 'r', label='Validation max abs diff')\n",
    "plt.title('Training and Validation - Maximum Absolute Diff')\n",
    "plt.xlabel('Epochs')\n",
    "plt.ylabel('Abs Diff')\n",
    "plt.legend()\n",
    "\n",
    "plt.show()"
   ]
  },
  {
   "cell_type": "code",
   "execution_count": 12,
   "metadata": {},
   "outputs": [
    {
     "data": {
      "image/png": "[encoded data removed]",
      "text/plain": [
       "<Figure size 432x288 with 1 Axes>"
      ]
     },
     "metadata": {
      "needs_background": "light"
     },
     "output_type": "display_data"
    }
   ],
   "source": [
    "plt.clf()   # clear figure\n",
    "plt.plot(epochs, min_diff, 'bo', label='Training min abs diff')\n",
    "plt.plot(epochs, val_min_diff, 'r', label='Validation min abs diff')\n",
    "plt.title('Training and Validation - Min Absolute Diff')\n",
    "plt.xlabel('Epochs')\n",
    "plt.ylabel('Abs diff')\n",
    "plt.legend()\n",
    "\n",
    "plt.show()"
   ]
  },
  {
   "cell_type": "markdown",
   "metadata": {},
   "source": [
    "## Model Evaluation"
   ]
  },
  {
   "cell_type": "code",
   "execution_count": 13,
   "metadata": {},
   "outputs": [
    {
     "name": "stdout",
     "output_type": "stream",
     "text": [
      "200/200 [==============================] - 0s 184us/step\n"
     ]
    },
    {
     "data": {
      "text/plain": [
       "[0.004170492242192268, 0.236071435213089, 0.001328907161951065]"
      ]
     },
     "execution_count": 13,
     "metadata": {},
     "output_type": "execute_result"
    }
   ],
   "source": [
    "# evaulate model with test data\n",
    "results = model.evaluate(test_in, test_out)\n",
    "results"
   ]
  },
  {
   "cell_type": "code",
   "execution_count": 14,
   "metadata": {},
   "outputs": [],
   "source": [
    "pre_test_out = model.predict(test_in)\n",
    "pre_test_out = pre_test_out.flatten()"
   ]
  },
  {
   "cell_type": "code",
   "execution_count": 15,
   "metadata": {},
   "outputs": [
    {
     "name": "stdout",
     "output_type": "stream",
     "text": [
      "min:-0.519576, max:0.806527, median:-0.003421, mean:0.039907, std:0.259197, size:200\n"
     ]
    },
    {
     "data": {
      "image/png": "[encoded data removed]",
      "text/plain": [
       "<Figure size 432x288 with 1 Axes>"
      ]
     },
     "metadata": {
      "needs_background": "light"
     },
     "output_type": "display_data"
    }
   ],
   "source": [
    "explore_vector(pre_test_out, 'Predicted Test Data Output')"
   ]
  },
  {
   "cell_type": "code",
   "execution_count": 16,
   "metadata": {},
   "outputs": [
    {
     "name": "stdout",
     "output_type": "stream",
     "text": [
      "min:-0.500000, max:0.830000, median:0.000000, mean:0.052650, std:0.270005, size:200\n"
     ]
    },
    {
     "data": {
      "image/png": "[encoded data removed]",
      "text/plain": [
       "<Figure size 432x288 with 1 Axes>"
      ]
     },
     "metadata": {
      "needs_background": "light"
     },
     "output_type": "display_data"
    }
   ],
   "source": [
    "explore_vector(test_out, 'Test Data Output')"
   ]
  },
  {
   "cell_type": "code",
   "execution_count": 17,
   "metadata": {},
   "outputs": [
    {
     "data": {
      "image/png": "[encoded data removed]",
      "text/plain": [
       "<Figure size 432x288 with 1 Axes>"
      ]
     },
     "metadata": {
      "needs_background": "light"
     },
     "output_type": "display_data"
    }
   ],
   "source": [
    "plt.clf()   # clear figure\n",
    "NUM_PLOT = 50\n",
    "plt.plot(pre_test_out[:NUM_PLOT], 'bo', label='predicted test out')\n",
    "plt.plot(test_out[:NUM_PLOT], 'ro', label='test out')\n",
    "plt.title('Output Prediction Comparison')\n",
    "plt.xlabel('Index')\n",
    "plt.ylabel('Value')\n",
    "plt.legend()\n",
    "#plt.rcParams['figure.figsize'] = [20, 20]\n",
    "#plt.figure(figsize=(20, 20), dpi= 20)\n",
    "plt.show()"
   ]
  },
  {
   "cell_type": "code",
   "execution_count": 18,
   "metadata": {},
   "outputs": [
    {
     "name": "stdout",
     "output_type": "stream",
     "text": [
      "min:0.000016, max:0.508376, median:0.004647, mean:0.021243, std:0.060985, size:200\n"
     ]
    },
    {
     "data": {
      "image/png": "[encoded data removed]",
      "text/plain": [
       "<Figure size 432x288 with 1 Axes>"
      ]
     },
     "metadata": {
      "needs_background": "light"
     },
     "output_type": "display_data"
    }
   ],
   "source": [
    "abs_diff_test_out = abs(pre_test_out - test_out)\n",
    "plt.clf()   # clear figure\n",
    "explore_vector(abs_diff_test_out, 'Histogram of Absolute diff between predicted output and real output')"
   ]
  },
  {
   "cell_type": "code",
   "execution_count": 20,
   "metadata": {},
   "outputs": [
    {
     "data": {
      "text/plain": [
       "Text(0, 0.5, 'Abs Diff')"
      ]
     },
     "execution_count": 20,
     "metadata": {},
     "output_type": "execute_result"
    },
    {
     "data": {
      "image/png": "[encoded data removed]",
      "text/plain": [
       "<Figure size 432x288 with 1 Axes>"
      ]
     },
     "metadata": {
      "needs_background": "light"
     },
     "output_type": "display_data"
    }
   ],
   "source": [
    "plt.clf()   # clear figure\n",
    "plt.plot(abs_diff_test_out, 'bo', label='abs diff test out')\n",
    "plt.title('Output Prediction Comparison')\n",
    "plt.xlabel('Element Index')\n",
    "plt.ylabel('Abs Diff')\n"
   ]
  },
  {
   "cell_type": "code",
   "execution_count": null,
   "metadata": {},
   "outputs": [],
   "source": []
  }
 ],
 "metadata": {
  "kernelspec": {
   "display_name": "Python 3",
   "language": "python",
   "name": "python3"
  },
  "language_info": {
   "codemirror_mode": {
    "name": "ipython",
    "version": 3
   },
   "file_extension": ".py",
   "mimetype": "text/x-python",
   "name": "python",
   "nbconvert_exporter": "python",
   "pygments_lexer": "ipython3",
   "version": "3.6.3"
  }
 },
 "nbformat": 4,
 "nbformat_minor": 2
}
